{
 "cells": [
  {
   "cell_type": "code",
   "execution_count": 1,
   "id": "12a25227",
   "metadata": {},
   "outputs": [],
   "source": [
    "#https://www.xignite.com/Product/global-interest-rates#/productoverview \n",
    "#https://fiscaldata.treasury.gov/api-documentation/"
   ]
  },
  {
   "cell_type": "code",
   "execution_count": 370,
   "id": "e8409971",
   "metadata": {},
   "outputs": [],
   "source": [
    "#bring dependencies\n",
    "from IPython.display import display\n",
    "from IPython.display import display, HTML\n",
    "from IPython.display import HTML\n",
    "from pprint import pprint\n",
    "from prettytable import PrettyTable\n",
    "from tqdm import tqdm\n",
    "from plotly.subplots import make_subplots\n",
    "from config import api_key_bls\n",
    "import matplotlib.pyplot as plt\n",
    "import plotly.express as px\n",
    "import plotly.io as pio\n",
    "import ipywidgets as widgets\n",
    "import plotly.offline as pyo\n",
    "import plotly as py\n",
    "import plotly.graph_objs as go\n",
    "import numpy as np\n",
    "import pandas as pd\n",
    "import requests\n",
    "import json\n",
    "import os\n",
    "import scipy.stats as st\n",
    "from IPython.display import display, HTML\n",
    "import seaborn as sns\n"
   ]
  },
  {
   "cell_type": "code",
   "execution_count": 371,
   "id": "06293265",
   "metadata": {},
   "outputs": [],
   "source": [
    "# The url for BLS API v2\n",
    "url = 'https://api.bls.gov/publicAPI/v2/timeseries/data/'\n",
    "key = '?registrationkey={}'.format(api_key_bls)\n"
   ]
  },
  {
   "cell_type": "markdown",
   "id": "7b870a58",
   "metadata": {},
   "source": [
    "BDS0000000000000000110101LQ5 - Business Employment Dynamics\n",
    "Business Employment Dynamics data are quarterly series of gross job gains and gross job losses statistics for the entire economy. These data track changes in employment at the establishment level, and thus provide a picture of the dynamics underlying aggregate net employment growth statistics.\n",
    "\n",
    "- 1st plot the line graphic for jobs gain/loss\n",
    "- 2nd calculated the mean and median for jobs gain/loss\n",
    "- plot a bar graphic\n",
    "- top 10 and bottom 10 jobs 2031 forecast\n",
    "\n",
    "\n",
    "SMU19197802023800001 - State and Area Employment, Hours, and Earnings\n",
    "The Current Employment Statistics (CES) program is a monthly survey conducted by the Bureau of Labor Statistics. It is a federal and state cooperative program that provides employment, hours, and earnings estimates for states and metropolitan areas based on payroll records of business establishments.\n",
    "\n",
    "LAUCN281070000000003 - Local Area Unemployment Statistics Overview\n",
    "The Local Area Unemployment Statistics (LAUS) program is a federal-state cooperative effort in which monthly estimates of total employment and unemployment are prepared for over 7,600 areas\n",
    "\n",
    "JLU00000000HIL - Job Openings and Labor Turnover Survey (SIC basis)\n",
    "These data serve as demand-side indicators of labor shortages at the national level. Prior to JOLTS, there was no economic indicator of the unmet demand for labor with which to assess the presence or extent of labor shortages in the United States. The availability of unfilled jobs—the job openings rate—is an important measure of the tightness of job markets, parallel to existing measures of unemployment.\n",
    "\n",
    "NCU5306633300003 - National Compensation - Discontinued Series (SIC and Census of Population)\n",
    "produces quarterly indexes measuring change over time in labor costs, Employment Cost Index (ECI), and quarterly data measuring level of average costs per hour worked, Employer Costs for Employee Compensation (ECEC)."
   ]
  },
  {
   "cell_type": "code",
   "execution_count": 372,
   "id": "b79e6e14",
   "metadata": {},
   "outputs": [
    {
     "data": {
      "text/plain": [
       "<Response [200]>"
      ]
     },
     "execution_count": 372,
     "metadata": {},
     "output_type": "execute_result"
    }
   ],
   "source": [
    "#series\n",
    "headers = {'Content-type': 'application/json'} #contains info about the message- such as destination\n",
    "\n",
    "# Submit the list of series as data - payload actual data being transmitted over a network\n",
    "data = json.dumps({\"seriesid\": ['BDS0000000000000000110001LQ5',#Business Employment Dynamic - jobs Gain\n",
    "                                'BDS0000000000000000110004LQ5',#Business Employment Dynamic - jobs loss\n",
    "                                'BDS0000000000000000120001LQ5',#Business Employment Dynamic - stablishment gain\n",
    "                                'BDS0000000000000000120004LQ5'#Business Employment Dynamic - stablishment loss\n",
    "                                \n",
    "                               ], \n",
    "                   'startyear':'2010', 'endyear':'2023',\n",
    "                   'catalog':True,\n",
    "                   'annualaverage':True,\n",
    "                   \"registrationkey\": api_key_bls}, indent=4)\n",
    "p = requests.post('https://api.bls.gov/publicAPI/v2/timeseries/data/', data=data, headers=headers)\n",
    "json_data = json.loads(p.text)\n",
    "p\n"
   ]
  },
  {
   "cell_type": "code",
   "execution_count": 373,
   "id": "3f8fbdb3",
   "metadata": {},
   "outputs": [
    {
     "name": "stdout",
     "output_type": "stream",
     "text": [
      "BDS0000000000000000110001LQ5\n",
      "BDS0000000000000000110004LQ5\n",
      "BDS0000000000000000120001LQ5\n",
      "BDS0000000000000000120004LQ5\n"
     ]
    }
   ],
   "source": [
    "#create a list to create a DF\n",
    "\n",
    "list_columns= []\n",
    "\n",
    "\n",
    "for series in json_data['Results']['series']:\n",
    "\n",
    "     \n",
    "    seriesId = series['seriesID']\n",
    "    print(seriesId)\n",
    "    \n",
    "    if 'catalog' in series.keys():\n",
    "        seasonality = series['catalog']['seasonality']\n",
    "        survey_name = series['catalog']['survey_name']\n",
    "        measure_data_type = series['catalog']['measure_data_type']\n",
    "    \n",
    "            \n",
    "        if 'commerce_industry' in series['catalog'].keys():\n",
    "            commerce_industry = series['catalog']['commerce_industry']\n",
    "            \n",
    "        else:\n",
    "            commerce_industry = None\n",
    "            \n",
    "            \n",
    "        if 'commerce_sector' in series['catalog'].keys():\n",
    "            commerce_sector = series['catalog']['commerce_sector']\n",
    "        else:\n",
    "            commerce_sector = None\n",
    "     \n",
    "        if 'area' in series['catalog'].keys():\n",
    "            area = series['catalog']['area']\n",
    "        else:\n",
    "            area = None\n",
    "    \n",
    "    \n",
    "    \n",
    "       # area= series['catalog']['area']\n",
    "    else:\n",
    "        seasonality = None\n",
    "        survey_name = None\n",
    "        measure_data_type = None\n",
    "        commerce_industry = None\n",
    "        commerce_sector = None\n",
    "        area= None\n",
    "    #add all variables & create a list to append to the list above\n",
    "    \n",
    "    \n",
    "    for item in series['data']:\n",
    "        year = item['year']\n",
    "        period = item['period']\n",
    "        periodName = item['periodName']\n",
    "        value = item['value']\n",
    "        \n",
    "        \n",
    "        list_columns.append([seriesId,seasonality,survey_name,measure_data_type,\n",
    "                             commerce_industry,commerce_sector,area,year,period,periodName,value])\n",
    "        \n",
    "bls_df= pd.DataFrame(list_columns,columns=['seriesId','seasonality','survey_name','measure_data_type',\n",
    "                             'commerce_industry','commerce_sector','area','year','period','periodName','value'])\n",
    "\n",
    "\n",
    "\n",
    "bls_df.to_csv(\"bls.csv\", index= False, header=True)\n",
    "\n",
    "\n",
    "\n"
   ]
  },
  {
   "cell_type": "code",
   "execution_count": 374,
   "id": "3952cb53",
   "metadata": {},
   "outputs": [],
   "source": [
    "bed_df = bls_df.loc[(bls_df['seriesId'] == 'BDS0000000000000000110001LQ5') |\n",
    "                     (bls_df['seriesId'] == 'BDS0000000000000000110004LQ5') ]\n",
    "#                      (bls_df['seriesId'] == 'BDS0000000000000000120001LQ5') |\n",
    "#                      (bls_df['seriesId'] == 'BDS0000000000000000120004LQ5')]\n",
    "bed_df.to_csv(\"bed.csv\", index=False, header=True)\n"
   ]
  },
  {
   "cell_type": "code",
   "execution_count": 375,
   "id": "348f7e4a",
   "metadata": {
    "scrolled": true
   },
   "outputs": [],
   "source": [
    "#ties to https://data.bls.gov/timeseries/BDS0000000000000000110001LQ5\n",
    "BED=bed_df[['seriesId','survey_name','measure_data_type','commerce_industry','area','year','period','value']]\n"
   ]
  },
  {
   "cell_type": "code",
   "execution_count": 376,
   "id": "167c0174",
   "metadata": {},
   "outputs": [],
   "source": [
    "# replace the row name 'row1' with 'new_row1'\n",
    "new_bed_df = bed_df.replace({'BDS0000000000000000110001LQ5':'jobs Gains',\n",
    "                              'BDS0000000000000000110004LQ5':'jobs Losses'})\n",
    "#                               'BDS0000000000000000120001LQ5': 'Stablishment Gains',\n",
    "#                               'BDS0000000000000000120004LQ5': 'Stablishment Losses' })\n",
    "                   "
   ]
  },
  {
   "cell_type": "code",
   "execution_count": 377,
   "id": "6ed389e1",
   "metadata": {},
   "outputs": [
    {
     "data": {
      "text/plain": [
       "Index(['seriesId', 'seasonality', 'survey_name', 'measure_data_type',\n",
       "       'commerce_industry', 'commerce_sector', 'area', 'year', 'period',\n",
       "       'periodName', 'value'],\n",
       "      dtype='object')"
      ]
     },
     "execution_count": 377,
     "metadata": {},
     "output_type": "execute_result"
    }
   ],
   "source": [
    "new_bed_df.columns"
   ]
  },
  {
   "cell_type": "code",
   "execution_count": 378,
   "id": "d2fa6373",
   "metadata": {},
   "outputs": [],
   "source": [
    "#change column value to Integer\n",
    "new_bed_df['value'] = new_bed_df['value'].astype(int)\n"
   ]
  },
  {
   "cell_type": "code",
   "execution_count": 379,
   "id": "fcf999cd",
   "metadata": {},
   "outputs": [],
   "source": [
    "# pitot the data plot \n",
    "# https://data.bls.gov/timeseries/BDS0000000000000000110001LQ5\n",
    "\n",
    "new_bed_df_pivot = new_bed_df.pivot_table(index=['year'], columns='measure_data_type', values='value', aggfunc='sum')\n"
   ]
  },
  {
   "cell_type": "code",
   "execution_count": 380,
   "id": "1e1baff7",
   "metadata": {},
   "outputs": [
    {
     "data": {
      "text/plain": [
       "Text(0.5, 1.0, 'Gross job for the total private sector in the U.S.(rounded to the nearest thousands)')"
      ]
     },
     "execution_count": 380,
     "metadata": {},
     "output_type": "execute_result"
    },
    {
     "data": {
      "image/png": "[encoded data removed]",
      "text/plain": [
       "<Figure size 640x480 with 1 Axes>"
      ]
     },
     "metadata": {},
     "output_type": "display_data"
    }
   ],
   "source": [
    "\n",
    "# plot the resulting DataFrame using the plot method\n",
    "new_bed_df_pivot.plot(kind='line', ylabel='Number of Jobs', xlabel='Year', grid=True)\n",
    "plt.title('Gross job for the total private sector in the U.S.(rounded to the nearest thousands)')"
   ]
  },
  {
   "cell_type": "code",
   "execution_count": 381,
   "id": "4cd2c9e3",
   "metadata": {},
   "outputs": [
    {
     "data": {
      "application/vnd.plotly.v1+json": {
       "config": {
        "plotlyServerURL": "https://plot.ly"
       },
       "data": [
        {
         "hovertemplate": "Year=%{x}<br>Value=%{y:.0f}<extra></extra>",
         "legendgroup": "Gross Job Gains",
         "line": {
          "color": "#636efa",
          "dash": "solid"
         },
         "marker": {
          "symbol": "circle"
         },
         "mode": "lines+markers",
         "name": "Gross Job Gains",
         "orientation": "v",
         "showlegend": true,
         "type": "scatter",
         "x": [
          "2010",
          "2011",
          "2012",
          "2013",
          "2014",
          "2015",
          "2016",
          "2017",
          "2018",
          "2019",
          "2020",
          "2021",
          "2022"
         ],
         "xaxis": "x",
         "y": [
          27113,
          27576,
          28122,
          28406,
          29271,
          29787,
          29729,
          30166,
          30394,
          30346,
          32425,
          34980,
          16691
         ],
         "yaxis": "y"
        },
        {
         "hovertemplate": "Year=%{x}<br>Value=%{y:.0f}<extra></extra>",
         "legendgroup": "Gross Job Losses",
         "line": {
          "color": "#EF553B",
          "dash": "solid"
         },
         "marker": {
          "symbol": "circle"
         },
         "mode": "lines+markers",
         "name": "Gross Job Losses",
         "orientation": "v",
         "showlegend": true,
         "type": "scatter",
         "x": [
          "2010",
          "2011",
          "2012",
          "2013",
          "2014",
          "2015",
          "2016",
          "2017",
          "2018",
          "2019",
          "2020",
          "2021",
          "2022"
         ],
         "xaxis": "x",
         "y": [
          25859,
          25484,
          25611,
          25967,
          26342,
          27303,
          28106,
          28145,
          28402,
          28788,
          41800,
          27868,
          15433
         ],
         "yaxis": "y"
        }
       ],
       "layout": {
        "hovermode": "x",
        "legend": {
         "title": {
          "text": "variable"
         },
         "tracegroupgap": 0
        },
        "margin": {
         "t": 60
        },
        "template": {
         "data": {
          "bar": [
           {
            "error_x": {
             "color": "#2a3f5f"
            },
            "error_y": {
             "color": "#2a3f5f"
            },
            "marker": {
             "line": {
              "color": "#E5ECF6",
              "width": 0.5
             },
             "pattern": {
              "fillmode": "overlay",
              "size": 10,
              "solidity": 0.2
             }
            },
            "type": "bar"
           }
          ],
          "barpolar": [
           {
            "marker": {
             "line": {
              "color": "#E5ECF6",
              "width": 0.5
             },
             "pattern": {
              "fillmode": "overlay",
              "size": 10,
              "solidity": 0.2
             }
            },
            "type": "barpolar"
           }
          ],
          "carpet": [
           {
            "aaxis": {
             "endlinecolor": "#2a3f5f",
             "gridcolor": "white",
             "linecolor": "white",
             "minorgridcolor": "white",
             "startlinecolor": "#2a3f5f"
            },
            "baxis": {
             "endlinecolor": "#2a3f5f",
             "gridcolor": "white",
             "linecolor": "white",
             "minorgridcolor": "white",
             "startlinecolor": "#2a3f5f"
            },
            "type": "carpet"
           }
          ],
          "choropleth": [
           {
            "colorbar": {
             "outlinewidth": 0,
             "ticks": ""
            },
            "type": "choropleth"
           }
          ],
          "contour": [
           {
            "colorbar": {
             "outlinewidth": 0,
             "ticks": ""
            },
            "colorscale": [
             [
              0,
              "#0d0887"
             ],
             [
              0.1111111111111111,
              "#46039f"
             ],
             [
              0.2222222222222222,
              "#7201a8"
             ],
             [
              0.3333333333333333,
              "#9c179e"
             ],
             [
              0.4444444444444444,
              "#bd3786"
             ],
             [
              0.5555555555555556,
              "#d8576b"
             ],
             [
              0.6666666666666666,
              "#ed7953"
             ],
             [
              0.7777777777777778,
              "#fb9f3a"
             ],
             [
              0.8888888888888888,
              "#fdca26"
             ],
             [
              1,
              "#f0f921"
             ]
            ],
            "type": "contour"
           }
          ],
          "contourcarpet": [
           {
            "colorbar": {
             "outlinewidth": 0,
             "ticks": ""
            },
            "type": "contourcarpet"
           }
          ],
          "heatmap": [
           {
            "colorbar": {
             "outlinewidth": 0,
             "ticks": ""
            },
            "colorscale": [
             [
              0,
              "#0d0887"
             ],
             [
              0.1111111111111111,
              "#46039f"
             ],
             [
              0.2222222222222222,
              "#7201a8"
             ],
             [
              0.3333333333333333,
              "#9c179e"
             ],
             [
              0.4444444444444444,
              "#bd3786"
             ],
             [
              0.5555555555555556,
              "#d8576b"
             ],
             [
              0.6666666666666666,
              "#ed7953"
             ],
             [
              0.7777777777777778,
              "#fb9f3a"
             ],
             [
              0.8888888888888888,
              "#fdca26"
             ],
             [
              1,
              "#f0f921"
             ]
            ],
            "type": "heatmap"
           }
          ],
          "heatmapgl": [
           {
            "colorbar": {
             "outlinewidth": 0,
             "ticks": ""
            },
            "colorscale": [
             [
              0,
              "#0d0887"
             ],
             [
              0.1111111111111111,
              "#46039f"
             ],
             [
              0.2222222222222222,
              "#7201a8"
             ],
             [
              0.3333333333333333,
              "#9c179e"
             ],
             [
              0.4444444444444444,
              "#bd3786"
             ],
             [
              0.5555555555555556,
              "#d8576b"
             ],
             [
              0.6666666666666666,
              "#ed7953"
             ],
             [
              0.7777777777777778,
              "#fb9f3a"
             ],
             [
              0.8888888888888888,
              "#fdca26"
             ],
             [
              1,
              "#f0f921"
             ]
            ],
            "type": "heatmapgl"
           }
          ],
          "histogram": [
           {
            "marker": {
             "pattern": {
              "fillmode": "overlay",
              "size": 10,
              "solidity": 0.2
             }
            },
            "type": "histogram"
           }
          ],
          "histogram2d": [
           {
            "colorbar": {
             "outlinewidth": 0,
             "ticks": ""
            },
            "colorscale": [
             [
              0,
              "#0d0887"
             ],
             [
              0.1111111111111111,
              "#46039f"
             ],
             [
              0.2222222222222222,
              "#7201a8"
             ],
             [
              0.3333333333333333,
              "#9c179e"
             ],
             [
              0.4444444444444444,
              "#bd3786"
             ],
             [
              0.5555555555555556,
              "#d8576b"
             ],
             [
              0.6666666666666666,
              "#ed7953"
             ],
             [
              0.7777777777777778,
              "#fb9f3a"
             ],
             [
              0.8888888888888888,
              "#fdca26"
             ],
             [
              1,
              "#f0f921"
             ]
            ],
            "type": "histogram2d"
           }
          ],
          "histogram2dcontour": [
           {
            "colorbar": {
             "outlinewidth": 0,
             "ticks": ""
            },
            "colorscale": [
             [
              0,
              "#0d0887"
             ],
             [
              0.1111111111111111,
              "#46039f"
             ],
             [
              0.2222222222222222,
              "#7201a8"
             ],
             [
              0.3333333333333333,
              "#9c179e"
             ],
             [
              0.4444444444444444,
              "#bd3786"
             ],
             [
              0.5555555555555556,
              "#d8576b"
             ],
             [
              0.6666666666666666,
              "#ed7953"
             ],
             [
              0.7777777777777778,
              "#fb9f3a"
             ],
             [
              0.8888888888888888,
              "#fdca26"
             ],
             [
              1,
              "#f0f921"
             ]
            ],
            "type": "histogram2dcontour"
           }
          ],
          "mesh3d": [
           {
            "colorbar": {
             "outlinewidth": 0,
             "ticks": ""
            },
            "type": "mesh3d"
           }
          ],
          "parcoords": [
           {
            "line": {
             "colorbar": {
              "outlinewidth": 0,
              "ticks": ""
             }
            },
            "type": "parcoords"
           }
          ],
          "pie": [
           {
            "automargin": true,
            "type": "pie"
           }
          ],
          "scatter": [
           {
            "fillpattern": {
             "fillmode": "overlay",
             "size": 10,
             "solidity": 0.2
            },
            "type": "scatter"
           }
          ],
          "scatter3d": [
           {
            "line": {
             "colorbar": {
              "outlinewidth": 0,
              "ticks": ""
             }
            },
            "marker": {
             "colorbar": {
              "outlinewidth": 0,
              "ticks": ""
             }
            },
            "type": "scatter3d"
           }
          ],
          "scattercarpet": [
           {
            "marker": {
             "colorbar": {
              "outlinewidth": 0,
              "ticks": ""
             }
            },
            "type": "scattercarpet"
           }
          ],
          "scattergeo": [
           {
            "marker": {
             "colorbar": {
              "outlinewidth": 0,
              "ticks": ""
             }
            },
            "type": "scattergeo"
           }
          ],
          "scattergl": [
           {
            "marker": {
             "colorbar": {
              "outlinewidth": 0,
              "ticks": ""
             }
            },
            "type": "scattergl"
           }
          ],
          "scattermapbox": [
           {
            "marker": {
             "colorbar": {
              "outlinewidth": 0,
              "ticks": ""
             }
            },
            "type": "scattermapbox"
           }
          ],
          "scatterpolar": [
           {
            "marker": {
             "colorbar": {
              "outlinewidth": 0,
              "ticks": ""
             }
            },
            "type": "scatterpolar"
           }
          ],
          "scatterpolargl": [
           {
            "marker": {
             "colorbar": {
              "outlinewidth": 0,
              "ticks": ""
             }
            },
            "type": "scatterpolargl"
           }
          ],
          "scatterternary": [
           {
            "marker": {
             "colorbar": {
              "outlinewidth": 0,
              "ticks": ""
             }
            },
            "type": "scatterternary"
           }
          ],
          "surface": [
           {
            "colorbar": {
             "outlinewidth": 0,
             "ticks": ""
            },
            "colorscale": [
             [
              0,
              "#0d0887"
             ],
             [
              0.1111111111111111,
              "#46039f"
             ],
             [
              0.2222222222222222,
              "#7201a8"
             ],
             [
              0.3333333333333333,
              "#9c179e"
             ],
             [
              0.4444444444444444,
              "#bd3786"
             ],
             [
              0.5555555555555556,
              "#d8576b"
             ],
             [
              0.6666666666666666,
              "#ed7953"
             ],
             [
              0.7777777777777778,
              "#fb9f3a"
             ],
             [
              0.8888888888888888,
              "#fdca26"
             ],
             [
              1,
              "#f0f921"
             ]
            ],
            "type": "surface"
           }
          ],
          "table": [
           {
            "cells": {
             "fill": {
              "color": "#EBF0F8"
             },
             "line": {
              "color": "white"
             }
            },
            "header": {
             "fill": {
              "color": "#C8D4E3"
             },
             "line": {
              "color": "white"
             }
            },
            "type": "table"
           }
          ]
         },
         "layout": {
          "annotationdefaults": {
           "arrowcolor": "#2a3f5f",
           "arrowhead": 0,
           "arrowwidth": 1
          },
          "autotypenumbers": "strict",
          "coloraxis": {
           "colorbar": {
            "outlinewidth": 0,
            "ticks": ""
           }
          },
          "colorscale": {
           "diverging": [
            [
             0,
             "#8e0152"
            ],
            [
             0.1,
             "#c51b7d"
            ],
            [
             0.2,
             "#de77ae"
            ],
            [
             0.3,
             "#f1b6da"
            ],
            [
             0.4,
             "#fde0ef"
            ],
            [
             0.5,
             "#f7f7f7"
            ],
            [
             0.6,
             "#e6f5d0"
            ],
            [
             0.7,
             "#b8e186"
            ],
            [
             0.8,
             "#7fbc41"
            ],
            [
             0.9,
             "#4d9221"
            ],
            [
             1,
             "#276419"
            ]
           ],
           "sequential": [
            [
             0,
             "#0d0887"
            ],
            [
             0.1111111111111111,
             "#46039f"
            ],
            [
             0.2222222222222222,
             "#7201a8"
            ],
            [
             0.3333333333333333,
             "#9c179e"
            ],
            [
             0.4444444444444444,
             "#bd3786"
            ],
            [
             0.5555555555555556,
             "#d8576b"
            ],
            [
             0.6666666666666666,
             "#ed7953"
            ],
            [
             0.7777777777777778,
             "#fb9f3a"
            ],
            [
             0.8888888888888888,
             "#fdca26"
            ],
            [
             1,
             "#f0f921"
            ]
           ],
           "sequentialminus": [
            [
             0,
             "#0d0887"
            ],
            [
             0.1111111111111111,
             "#46039f"
            ],
            [
             0.2222222222222222,
             "#7201a8"
            ],
            [
             0.3333333333333333,
             "#9c179e"
            ],
            [
             0.4444444444444444,
             "#bd3786"
            ],
            [
             0.5555555555555556,
             "#d8576b"
            ],
            [
             0.6666666666666666,
             "#ed7953"
            ],
            [
             0.7777777777777778,
             "#fb9f3a"
            ],
            [
             0.8888888888888888,
             "#fdca26"
            ],
            [
             1,
             "#f0f921"
            ]
           ]
          },
          "colorway": [
           "#636efa",
           "#EF553B",
           "#00cc96",
           "#ab63fa",
           "#FFA15A",
           "#19d3f3",
           "#FF6692",
           "#B6E880",
           "#FF97FF",
           "#FECB52"
          ],
          "font": {
           "color": "#2a3f5f"
          },
          "geo": {
           "bgcolor": "white",
           "lakecolor": "white",
           "landcolor": "#E5ECF6",
           "showlakes": true,
           "showland": true,
           "subunitcolor": "white"
          },
          "hoverlabel": {
           "align": "left"
          },
          "hovermode": "closest",
          "mapbox": {
           "style": "light"
          },
          "paper_bgcolor": "white",
          "plot_bgcolor": "#E5ECF6",
          "polar": {
           "angularaxis": {
            "gridcolor": "white",
            "linecolor": "white",
            "ticks": ""
           },
           "bgcolor": "#E5ECF6",
           "radialaxis": {
            "gridcolor": "white",
            "linecolor": "white",
            "ticks": ""
           }
          },
          "scene": {
           "xaxis": {
            "backgroundcolor": "#E5ECF6",
            "gridcolor": "white",
            "gridwidth": 2,
            "linecolor": "white",
            "showbackground": true,
            "ticks": "",
            "zerolinecolor": "white"
           },
           "yaxis": {
            "backgroundcolor": "#E5ECF6",
            "gridcolor": "white",
            "gridwidth": 2,
            "linecolor": "white",
            "showbackground": true,
            "ticks": "",
            "zerolinecolor": "white"
           },
           "zaxis": {
            "backgroundcolor": "#E5ECF6",
            "gridcolor": "white",
            "gridwidth": 2,
            "linecolor": "white",
            "showbackground": true,
            "ticks": "",
            "zerolinecolor": "white"
           }
          },
          "shapedefaults": {
           "line": {
            "color": "#2a3f5f"
           }
          },
          "ternary": {
           "aaxis": {
            "gridcolor": "white",
            "linecolor": "white",
            "ticks": ""
           },
           "baxis": {
            "gridcolor": "white",
            "linecolor": "white",
            "ticks": ""
           },
           "bgcolor": "#E5ECF6",
           "caxis": {
            "gridcolor": "white",
            "linecolor": "white",
            "ticks": ""
           }
          },
          "title": {
           "x": 0.05
          },
          "xaxis": {
           "automargin": true,
           "gridcolor": "white",
           "linecolor": "white",
           "ticks": "",
           "title": {
            "standoff": 15
           },
           "zerolinecolor": "white",
           "zerolinewidth": 2
          },
          "yaxis": {
           "automargin": true,
           "gridcolor": "white",
           "linecolor": "white",
           "ticks": "",
           "title": {
            "standoff": 15
           },
           "zerolinecolor": "white",
           "zerolinewidth": 2
          }
         }
        },
        "title": {
         "text": "Gross job for the total private sector in the U.S."
        },
        "xaxis": {
         "anchor": "y",
         "domain": [
          0,
          1
         ],
         "title": {
          "text": "Year"
         }
        },
        "yaxis": {
         "anchor": "x",
         "domain": [
          0,
          1
         ],
         "title": {
          "text": "Number of Jobs"
         }
        }
       }
      },
      "text/html": [
       "<div>                            <div id=\"4efaea37-2434-45e5-a0ba-c94adf613f39\" class=\"plotly-graph-div\" style=\"height:525px; width:100%;\"></div>            <script type=\"text/javascript\">                require([\"plotly\"], function(Plotly) {                    window.PLOTLYENV=window.PLOTLYENV || {};                                    if (document.getElementById(\"4efaea37-2434-45e5-a0ba-c94adf613f39\")) {                    Plotly.newPlot(                        \"4efaea37-2434-45e5-a0ba-c94adf613f39\",                        [{\"hovertemplate\":\"Year=%{x}<br>Value=%{y:.0f}<extra></extra>\",\"legendgroup\":\"Gross Job Gains\",\"line\":{\"color\":\"#636efa\",\"dash\":\"solid\"},\"marker\":{\"symbol\":\"circle\"},\"mode\":\"lines+markers\",\"name\":\"Gross Job Gains\",\"orientation\":\"v\",\"showlegend\":true,\"x\":[\"2010\",\"2011\",\"2012\",\"2013\",\"2014\",\"2015\",\"2016\",\"2017\",\"2018\",\"2019\",\"2020\",\"2021\",\"2022\"],\"xaxis\":\"x\",\"y\":[27113,27576,28122,28406,29271,29787,29729,30166,30394,30346,32425,34980,16691],\"yaxis\":\"y\",\"type\":\"scatter\"},{\"hovertemplate\":\"Year=%{x}<br>Value=%{y:.0f}<extra></extra>\",\"legendgroup\":\"Gross Job Losses\",\"line\":{\"color\":\"#EF553B\",\"dash\":\"solid\"},\"marker\":{\"symbol\":\"circle\"},\"mode\":\"lines+markers\",\"name\":\"Gross Job Losses\",\"orientation\":\"v\",\"showlegend\":true,\"x\":[\"2010\",\"2011\",\"2012\",\"2013\",\"2014\",\"2015\",\"2016\",\"2017\",\"2018\",\"2019\",\"2020\",\"2021\",\"2022\"],\"xaxis\":\"x\",\"y\":[25859,25484,25611,25967,26342,27303,28106,28145,28402,28788,41800,27868,15433],\"yaxis\":\"y\",\"type\":\"scatter\"}],                        {\"template\":{\"data\":{\"histogram2dcontour\":[{\"type\":\"histogram2dcontour\",\"colorbar\":{\"outlinewidth\":0,\"ticks\":\"\"},\"colorscale\":[[0.0,\"#0d0887\"],[0.1111111111111111,\"#46039f\"],[0.2222222222222222,\"#7201a8\"],[0.3333333333333333,\"#9c179e\"],[0.4444444444444444,\"#bd3786\"],[0.5555555555555556,\"#d8576b\"],[0.6666666666666666,\"#ed7953\"],[0.7777777777777778,\"#fb9f3a\"],[0.8888888888888888,\"#fdca26\"],[1.0,\"#f0f921\"]]}],\"choropleth\":[{\"type\":\"choropleth\",\"colorbar\":{\"outlinewidth\":0,\"ticks\":\"\"}}],\"histogram2d\":[{\"type\":\"histogram2d\",\"colorbar\":{\"outlinewidth\":0,\"ticks\":\"\"},\"colorscale\":[[0.0,\"#0d0887\"],[0.1111111111111111,\"#46039f\"],[0.2222222222222222,\"#7201a8\"],[0.3333333333333333,\"#9c179e\"],[0.4444444444444444,\"#bd3786\"],[0.5555555555555556,\"#d8576b\"],[0.6666666666666666,\"#ed7953\"],[0.7777777777777778,\"#fb9f3a\"],[0.8888888888888888,\"#fdca26\"],[1.0,\"#f0f921\"]]}],\"heatmap\":[{\"type\":\"heatmap\",\"colorbar\":{\"outlinewidth\":0,\"ticks\":\"\"},\"colorscale\":[[0.0,\"#0d0887\"],[0.1111111111111111,\"#46039f\"],[0.2222222222222222,\"#7201a8\"],[0.3333333333333333,\"#9c179e\"],[0.4444444444444444,\"#bd3786\"],[0.5555555555555556,\"#d8576b\"],[0.6666666666666666,\"#ed7953\"],[0.7777777777777778,\"#fb9f3a\"],[0.8888888888888888,\"#fdca26\"],[1.0,\"#f0f921\"]]}],\"heatmapgl\":[{\"type\":\"heatmapgl\",\"colorbar\":{\"outlinewidth\":0,\"ticks\":\"\"},\"colorscale\":[[0.0,\"#0d0887\"],[0.1111111111111111,\"#46039f\"],[0.2222222222222222,\"#7201a8\"],[0.3333333333333333,\"#9c179e\"],[0.4444444444444444,\"#bd3786\"],[0.5555555555555556,\"#d8576b\"],[0.6666666666666666,\"#ed7953\"],[0.7777777777777778,\"#fb9f3a\"],[0.8888888888888888,\"#fdca26\"],[1.0,\"#f0f921\"]]}],\"contourcarpet\":[{\"type\":\"contourcarpet\",\"colorbar\":{\"outlinewidth\":0,\"ticks\":\"\"}}],\"contour\":[{\"type\":\"contour\",\"colorbar\":{\"outlinewidth\":0,\"ticks\":\"\"},\"colorscale\":[[0.0,\"#0d0887\"],[0.1111111111111111,\"#46039f\"],[0.2222222222222222,\"#7201a8\"],[0.3333333333333333,\"#9c179e\"],[0.4444444444444444,\"#bd3786\"],[0.5555555555555556,\"#d8576b\"],[0.6666666666666666,\"#ed7953\"],[0.7777777777777778,\"#fb9f3a\"],[0.8888888888888888,\"#fdca26\"],[1.0,\"#f0f921\"]]}],\"surface\":[{\"type\":\"surface\",\"colorbar\":{\"outlinewidth\":0,\"ticks\":\"\"},\"colorscale\":[[0.0,\"#0d0887\"],[0.1111111111111111,\"#46039f\"],[0.2222222222222222,\"#7201a8\"],[0.3333333333333333,\"#9c179e\"],[0.4444444444444444,\"#bd3786\"],[0.5555555555555556,\"#d8576b\"],[0.6666666666666666,\"#ed7953\"],[0.7777777777777778,\"#fb9f3a\"],[0.8888888888888888,\"#fdca26\"],[1.0,\"#f0f921\"]]}],\"mesh3d\":[{\"type\":\"mesh3d\",\"colorbar\":{\"outlinewidth\":0,\"ticks\":\"\"}}],\"scatter\":[{\"fillpattern\":{\"fillmode\":\"overlay\",\"size\":10,\"solidity\":0.2},\"type\":\"scatter\"}],\"parcoords\":[{\"type\":\"parcoords\",\"line\":{\"colorbar\":{\"outlinewidth\":0,\"ticks\":\"\"}}}],\"scatterpolargl\":[{\"type\":\"scatterpolargl\",\"marker\":{\"colorbar\":{\"outlinewidth\":0,\"ticks\":\"\"}}}],\"bar\":[{\"error_x\":{\"color\":\"#2a3f5f\"},\"error_y\":{\"color\":\"#2a3f5f\"},\"marker\":{\"line\":{\"color\":\"#E5ECF6\",\"width\":0.5},\"pattern\":{\"fillmode\":\"overlay\",\"size\":10,\"solidity\":0.2}},\"type\":\"bar\"}],\"scattergeo\":[{\"type\":\"scattergeo\",\"marker\":{\"colorbar\":{\"outlinewidth\":0,\"ticks\":\"\"}}}],\"scatterpolar\":[{\"type\":\"scatterpolar\",\"marker\":{\"colorbar\":{\"outlinewidth\":0,\"ticks\":\"\"}}}],\"histogram\":[{\"marker\":{\"pattern\":{\"fillmode\":\"overlay\",\"size\":10,\"solidity\":0.2}},\"type\":\"histogram\"}],\"scattergl\":[{\"type\":\"scattergl\",\"marker\":{\"colorbar\":{\"outlinewidth\":0,\"ticks\":\"\"}}}],\"scatter3d\":[{\"type\":\"scatter3d\",\"line\":{\"colorbar\":{\"outlinewidth\":0,\"ticks\":\"\"}},\"marker\":{\"colorbar\":{\"outlinewidth\":0,\"ticks\":\"\"}}}],\"scattermapbox\":[{\"type\":\"scattermapbox\",\"marker\":{\"colorbar\":{\"outlinewidth\":0,\"ticks\":\"\"}}}],\"scatterternary\":[{\"type\":\"scatterternary\",\"marker\":{\"colorbar\":{\"outlinewidth\":0,\"ticks\":\"\"}}}],\"scattercarpet\":[{\"type\":\"scattercarpet\",\"marker\":{\"colorbar\":{\"outlinewidth\":0,\"ticks\":\"\"}}}],\"carpet\":[{\"aaxis\":{\"endlinecolor\":\"#2a3f5f\",\"gridcolor\":\"white\",\"linecolor\":\"white\",\"minorgridcolor\":\"white\",\"startlinecolor\":\"#2a3f5f\"},\"baxis\":{\"endlinecolor\":\"#2a3f5f\",\"gridcolor\":\"white\",\"linecolor\":\"white\",\"minorgridcolor\":\"white\",\"startlinecolor\":\"#2a3f5f\"},\"type\":\"carpet\"}],\"table\":[{\"cells\":{\"fill\":{\"color\":\"#EBF0F8\"},\"line\":{\"color\":\"white\"}},\"header\":{\"fill\":{\"color\":\"#C8D4E3\"},\"line\":{\"color\":\"white\"}},\"type\":\"table\"}],\"barpolar\":[{\"marker\":{\"line\":{\"color\":\"#E5ECF6\",\"width\":0.5},\"pattern\":{\"fillmode\":\"overlay\",\"size\":10,\"solidity\":0.2}},\"type\":\"barpolar\"}],\"pie\":[{\"automargin\":true,\"type\":\"pie\"}]},\"layout\":{\"autotypenumbers\":\"strict\",\"colorway\":[\"#636efa\",\"#EF553B\",\"#00cc96\",\"#ab63fa\",\"#FFA15A\",\"#19d3f3\",\"#FF6692\",\"#B6E880\",\"#FF97FF\",\"#FECB52\"],\"font\":{\"color\":\"#2a3f5f\"},\"hovermode\":\"closest\",\"hoverlabel\":{\"align\":\"left\"},\"paper_bgcolor\":\"white\",\"plot_bgcolor\":\"#E5ECF6\",\"polar\":{\"bgcolor\":\"#E5ECF6\",\"angularaxis\":{\"gridcolor\":\"white\",\"linecolor\":\"white\",\"ticks\":\"\"},\"radialaxis\":{\"gridcolor\":\"white\",\"linecolor\":\"white\",\"ticks\":\"\"}},\"ternary\":{\"bgcolor\":\"#E5ECF6\",\"aaxis\":{\"gridcolor\":\"white\",\"linecolor\":\"white\",\"ticks\":\"\"},\"baxis\":{\"gridcolor\":\"white\",\"linecolor\":\"white\",\"ticks\":\"\"},\"caxis\":{\"gridcolor\":\"white\",\"linecolor\":\"white\",\"ticks\":\"\"}},\"coloraxis\":{\"colorbar\":{\"outlinewidth\":0,\"ticks\":\"\"}},\"colorscale\":{\"sequential\":[[0.0,\"#0d0887\"],[0.1111111111111111,\"#46039f\"],[0.2222222222222222,\"#7201a8\"],[0.3333333333333333,\"#9c179e\"],[0.4444444444444444,\"#bd3786\"],[0.5555555555555556,\"#d8576b\"],[0.6666666666666666,\"#ed7953\"],[0.7777777777777778,\"#fb9f3a\"],[0.8888888888888888,\"#fdca26\"],[1.0,\"#f0f921\"]],\"sequentialminus\":[[0.0,\"#0d0887\"],[0.1111111111111111,\"#46039f\"],[0.2222222222222222,\"#7201a8\"],[0.3333333333333333,\"#9c179e\"],[0.4444444444444444,\"#bd3786\"],[0.5555555555555556,\"#d8576b\"],[0.6666666666666666,\"#ed7953\"],[0.7777777777777778,\"#fb9f3a\"],[0.8888888888888888,\"#fdca26\"],[1.0,\"#f0f921\"]],\"diverging\":[[0,\"#8e0152\"],[0.1,\"#c51b7d\"],[0.2,\"#de77ae\"],[0.3,\"#f1b6da\"],[0.4,\"#fde0ef\"],[0.5,\"#f7f7f7\"],[0.6,\"#e6f5d0\"],[0.7,\"#b8e186\"],[0.8,\"#7fbc41\"],[0.9,\"#4d9221\"],[1,\"#276419\"]]},\"xaxis\":{\"gridcolor\":\"white\",\"linecolor\":\"white\",\"ticks\":\"\",\"title\":{\"standoff\":15},\"zerolinecolor\":\"white\",\"automargin\":true,\"zerolinewidth\":2},\"yaxis\":{\"gridcolor\":\"white\",\"linecolor\":\"white\",\"ticks\":\"\",\"title\":{\"standoff\":15},\"zerolinecolor\":\"white\",\"automargin\":true,\"zerolinewidth\":2},\"scene\":{\"xaxis\":{\"backgroundcolor\":\"#E5ECF6\",\"gridcolor\":\"white\",\"linecolor\":\"white\",\"showbackground\":true,\"ticks\":\"\",\"zerolinecolor\":\"white\",\"gridwidth\":2},\"yaxis\":{\"backgroundcolor\":\"#E5ECF6\",\"gridcolor\":\"white\",\"linecolor\":\"white\",\"showbackground\":true,\"ticks\":\"\",\"zerolinecolor\":\"white\",\"gridwidth\":2},\"zaxis\":{\"backgroundcolor\":\"#E5ECF6\",\"gridcolor\":\"white\",\"linecolor\":\"white\",\"showbackground\":true,\"ticks\":\"\",\"zerolinecolor\":\"white\",\"gridwidth\":2}},\"shapedefaults\":{\"line\":{\"color\":\"#2a3f5f\"}},\"annotationdefaults\":{\"arrowcolor\":\"#2a3f5f\",\"arrowhead\":0,\"arrowwidth\":1},\"geo\":{\"bgcolor\":\"white\",\"landcolor\":\"#E5ECF6\",\"subunitcolor\":\"white\",\"showland\":true,\"showlakes\":true,\"lakecolor\":\"white\"},\"title\":{\"x\":0.05},\"mapbox\":{\"style\":\"light\"}}},\"xaxis\":{\"anchor\":\"y\",\"domain\":[0.0,1.0],\"title\":{\"text\":\"Year\"}},\"yaxis\":{\"anchor\":\"x\",\"domain\":[0.0,1.0],\"title\":{\"text\":\"Number of Jobs\"}},\"legend\":{\"title\":{\"text\":\"variable\"},\"tracegroupgap\":0},\"margin\":{\"t\":60},\"title\":{\"text\":\"Gross job for the total private sector in the U.S.\"},\"hovermode\":\"x\"},                        {\"responsive\": true}                    ).then(function(){\n",
       "                            \n",
       "var gd = document.getElementById('4efaea37-2434-45e5-a0ba-c94adf613f39');\n",
       "var x = new MutationObserver(function (mutations, observer) {{\n",
       "        var display = window.getComputedStyle(gd).display;\n",
       "        if (!display || display === 'none') {{\n",
       "            console.log([gd, 'removed!']);\n",
       "            Plotly.purge(gd);\n",
       "            observer.disconnect();\n",
       "        }}\n",
       "}});\n",
       "\n",
       "// Listen for the removal of the full notebook cells\n",
       "var notebookContainer = gd.closest('#notebook-container');\n",
       "if (notebookContainer) {{\n",
       "    x.observe(notebookContainer, {childList: true});\n",
       "}}\n",
       "\n",
       "// Listen for the clearing of the current output cell\n",
       "var outputEl = gd.closest('.output');\n",
       "if (outputEl) {{\n",
       "    x.observe(outputEl, {childList: true});\n",
       "}}\n",
       "\n",
       "                        })                };                });            </script>        </div>"
      ]
     },
     "metadata": {},
     "output_type": "display_data"
    }
   ],
   "source": [
    "# https://data.bls.gov/timeseries/BDS0000000000000000110001LQ5\n",
    "#file:///C:/Users/aumek/OneDrive/Desktop/Group%20Project%201/Project1_AU/fig_bed_plot.html\n",
    "new_bed_df_pivot = new_bed_df.pivot_table(index=['year'], columns='measure_data_type', values='value', aggfunc='sum').reset_index()\n",
    "fig_bed = px.line(new_bed_df_pivot, x='year', y=['Gross Job Gains', 'Gross Job Losses'])\n",
    "fig_bed.update_traces(mode='lines+markers', hovertemplate='Year=%{x}<br>Value=%{y:.0f}<extra></extra>')\n",
    "fig_bed.update_layout(title='Gross job for the total private sector in the U.S.',\n",
    "                  xaxis_title='Year', yaxis_title='Number of Jobs', hovermode='x')\n",
    "pio.write_html(fig_bed, file='fig_bed_plot.html', auto_open=True)\n",
    "fig_bed.show()"
   ]
  },
  {
   "cell_type": "code",
   "execution_count": 250,
   "id": "7ce85af1",
   "metadata": {},
   "outputs": [
    {
     "data": {
      "text/html": [
       "<div>\n",
       "<style scoped>\n",
       "    .dataframe tbody tr th:only-of-type {\n",
       "        vertical-align: middle;\n",
       "    }\n",
       "\n",
       "    .dataframe tbody tr th {\n",
       "        vertical-align: top;\n",
       "    }\n",
       "\n",
       "    .dataframe thead th {\n",
       "        text-align: right;\n",
       "    }\n",
       "</style>\n",
       "<table border=\"1\" class=\"dataframe\">\n",
       "  <thead>\n",
       "    <tr style=\"text-align: right;\">\n",
       "      <th>measure_data_type</th>\n",
       "      <th>year</th>\n",
       "      <th>Gross Job Gains</th>\n",
       "      <th>Gross Job Losses</th>\n",
       "    </tr>\n",
       "  </thead>\n",
       "  <tbody>\n",
       "    <tr>\n",
       "      <th>0</th>\n",
       "      <td>2010</td>\n",
       "      <td>27113</td>\n",
       "      <td>25859</td>\n",
       "    </tr>\n",
       "    <tr>\n",
       "      <th>1</th>\n",
       "      <td>2011</td>\n",
       "      <td>27576</td>\n",
       "      <td>25484</td>\n",
       "    </tr>\n",
       "    <tr>\n",
       "      <th>2</th>\n",
       "      <td>2012</td>\n",
       "      <td>28122</td>\n",
       "      <td>25611</td>\n",
       "    </tr>\n",
       "    <tr>\n",
       "      <th>3</th>\n",
       "      <td>2013</td>\n",
       "      <td>28406</td>\n",
       "      <td>25967</td>\n",
       "    </tr>\n",
       "    <tr>\n",
       "      <th>4</th>\n",
       "      <td>2014</td>\n",
       "      <td>29271</td>\n",
       "      <td>26342</td>\n",
       "    </tr>\n",
       "    <tr>\n",
       "      <th>5</th>\n",
       "      <td>2015</td>\n",
       "      <td>29787</td>\n",
       "      <td>27303</td>\n",
       "    </tr>\n",
       "    <tr>\n",
       "      <th>6</th>\n",
       "      <td>2016</td>\n",
       "      <td>29729</td>\n",
       "      <td>28106</td>\n",
       "    </tr>\n",
       "    <tr>\n",
       "      <th>7</th>\n",
       "      <td>2017</td>\n",
       "      <td>30166</td>\n",
       "      <td>28145</td>\n",
       "    </tr>\n",
       "    <tr>\n",
       "      <th>8</th>\n",
       "      <td>2018</td>\n",
       "      <td>30394</td>\n",
       "      <td>28402</td>\n",
       "    </tr>\n",
       "    <tr>\n",
       "      <th>9</th>\n",
       "      <td>2019</td>\n",
       "      <td>30346</td>\n",
       "      <td>28788</td>\n",
       "    </tr>\n",
       "    <tr>\n",
       "      <th>10</th>\n",
       "      <td>2020</td>\n",
       "      <td>32425</td>\n",
       "      <td>41800</td>\n",
       "    </tr>\n",
       "    <tr>\n",
       "      <th>11</th>\n",
       "      <td>2021</td>\n",
       "      <td>34980</td>\n",
       "      <td>27868</td>\n",
       "    </tr>\n",
       "    <tr>\n",
       "      <th>12</th>\n",
       "      <td>2022</td>\n",
       "      <td>16691</td>\n",
       "      <td>15433</td>\n",
       "    </tr>\n",
       "  </tbody>\n",
       "</table>\n",
       "</div>"
      ],
      "text/plain": [
       "measure_data_type  year  Gross Job Gains  Gross Job Losses\n",
       "0                  2010            27113             25859\n",
       "1                  2011            27576             25484\n",
       "2                  2012            28122             25611\n",
       "3                  2013            28406             25967\n",
       "4                  2014            29271             26342\n",
       "5                  2015            29787             27303\n",
       "6                  2016            29729             28106\n",
       "7                  2017            30166             28145\n",
       "8                  2018            30394             28402\n",
       "9                  2019            30346             28788\n",
       "10                 2020            32425             41800\n",
       "11                 2021            34980             27868\n",
       "12                 2022            16691             15433"
      ]
     },
     "execution_count": 250,
     "metadata": {},
     "output_type": "execute_result"
    }
   ],
   "source": [
    "new_bed_df_pivot"
   ]
  },
  {
   "cell_type": "code",
   "execution_count": 360,
   "id": "82c7dfcc",
   "metadata": {},
   "outputs": [],
   "source": [
    "#change column value to Integer\n",
    "new_bed_df_pivot['Gross Job Gains'] = new_bed_df_pivot['Gross Job Gains'].astype(int)\n",
    "new_bed_df_pivot['Gross Job Losses'] = new_bed_df_pivot['Gross Job Losses'].astype(int)\n",
    "#new_bed_df_pivot['year'] = new_bed_df_pivot['year'].astype(int)"
   ]
  },
  {
   "cell_type": "code",
   "execution_count": 361,
   "id": "f5037f5e",
   "metadata": {},
   "outputs": [
    {
     "data": {
      "image/png": "[encoded data removed]",
      "text/plain": [
       "<Figure size 640x480 with 1 Axes>"
      ]
     },
     "metadata": {},
     "output_type": "display_data"
    }
   ],
   "source": [
    "job_gain = new_bed_df_pivot[\"Gross Job Gains\"]\n",
    "year= new_bed_df_pivot['year']\n",
    "\n",
    "# Create a figure and axis object\n",
    "fig, ax = plt.subplots()\n",
    "\n",
    "# Create a list of the job gains data for each year\n",
    "job_gains_data = [\n",
    "   new_bed_df_pivot[\"Gross Job Gains\"][new_bed_df_pivot['year'] == year]\n",
    "    for year in new_bed_df_pivot['year']\n",
    "]\n",
    "\n",
    "# Plot the box plot\n",
    "ax.boxplot(job_gains_data)\n",
    "\n",
    "# Set the x-axis label and ticks\n",
    "ax.set_xlabel('Year')\n",
    "ax.set_xticklabels(new_bed_df_pivot['year'])\n",
    "\n",
    "# Set the y-axis label\n",
    "ax.set_ylabel('Job Gains')\n",
    "\n",
    "# Show the plot\n",
    "plt.show()\n"
   ]
  },
  {
   "cell_type": "code",
   "execution_count": 253,
   "id": "40c6d1fd",
   "metadata": {},
   "outputs": [
    {
     "data": {
      "image/png": "[encoded data removed]",
      "text/plain": [
       "<Figure size 640x480 with 1 Axes>"
      ]
     },
     "metadata": {},
     "output_type": "display_data"
    },
    {
     "name": "stdout",
     "output_type": "stream",
     "text": [
      "The average job gain 28846.62 between 2010-2022\n",
      "The median job gain 29729.00 between 2010-2022\n",
      "The lower quartile of Job Gains is: 28122.0\n",
      "The upper quartile of Job Gains is: 30346.0\n",
      "The interquartile range of Job Gains is: 2224.0\n",
      "The the median of Job Gains is: 29729.0 \n",
      "Values below 24786.0 could be outliers.\n",
      "Values above 33682.0 could be outliers.\n"
     ]
    }
   ],
   "source": [
    "job_gains = new_bed_df_pivot[\"Gross Job Gains\"]\n",
    "\n",
    "fig1, ax1 = plt.subplots()\n",
    "ax1.set_title('')\n",
    "ax1.set_ylabel('total Jobs')\n",
    "ax1.boxplot(job_gains)\n",
    "plt.show()\n",
    "\n",
    "\n",
    " #  calculating measures of central tendency - Jobs gain_loss between 2010-2022\n",
    "job_gains = new_bed_df_pivot[\"Gross Job Gains\"]\n",
    "    \n",
    "mean_gain = np.mean(job_gains)\n",
    "\n",
    "print(f\"The average job gain {mean_gain:.2f} between 2010-2022\")\n",
    "\n",
    "\n",
    "median_gain = np.median(job_gains)\n",
    "\n",
    "\n",
    "print(f\"The median job gain {median_gain:.2f} between 2010-2022\")\n",
    "\n",
    "\n",
    "#quartile calculations\n",
    "quartiles = job_gains.quantile([.25,.5,.75])\n",
    "lowerq = quartiles[0.25]\n",
    "upperq = quartiles[0.75]\n",
    "iqr = upperq-lowerq\n",
    "\n",
    "\n",
    "print(f\"The lower quartile of Job Gains is: {lowerq}\")\n",
    "print(f\"The upper quartile of Job Gains is: {upperq}\")\n",
    "print(f\"The interquartile range of Job Gains is: {iqr}\")\n",
    "print(f\"The the median of Job Gains is: {quartiles[0.5]} \")\n",
    "\n",
    "lower_bound = lowerq - (1.5*iqr)\n",
    "upper_bound = upperq + (1.5*iqr)\n",
    "print(f\"Values below {lower_bound} could be outliers.\")\n",
    "print(f\"Values above {upper_bound} could be outliers.\")\n",
    "\n"
   ]
  },
  {
   "cell_type": "code",
   "execution_count": 254,
   "id": "5e4d0301",
   "metadata": {},
   "outputs": [
    {
     "data": {
      "image/png": "[encoded data removed]",
      "text/plain": [
       "<Figure size 640x480 with 1 Axes>"
      ]
     },
     "metadata": {},
     "output_type": "display_data"
    },
    {
     "name": "stdout",
     "output_type": "stream",
     "text": [
      "The average job loss 27316.00 between 2010-2022\n",
      "The median job loss 27303.00 between 2010-2022\n",
      "The lower quartile of Job Losses is: 25859.0\n",
      "The upper quartile of Job Losses is: 28145.0\n",
      "The interquartile range of Job Losses is: 2286.0\n",
      "The the median of Job Losses is: 27303.0 \n",
      "Values below 22430.0 could be outliers.\n",
      "Values above 31574.0 could be outliers.\n"
     ]
    }
   ],
   "source": [
    "job_losses = new_bed_df_pivot[\"Gross Job Losses\"]\n",
    "\n",
    "fig1, ax1 = plt.subplots()\n",
    "ax1.set_title('')\n",
    "ax1.set_ylabel('total Jobs')\n",
    "ax1.boxplot(job_losses)\n",
    "plt.show()\n",
    "\n",
    " #  calculating measures of central tendency - Jobs gain_loss between 2010-2022\n",
    "\n",
    "job_losses = new_bed_df_pivot[\"Gross Job Losses\"]\n",
    "    \n",
    "\n",
    "mean_loss = np.mean(job_losses)\n",
    "\n",
    "print(f\"The average job loss {mean_loss:.2f} between 2010-2022\")\n",
    "\n",
    "median_loss = np.median(job_losses)\n",
    "\n",
    "print(f\"The median job loss {median_loss:.2f} between 2010-2022\")\n",
    "\n",
    "\n",
    "#quartile calculations\n",
    "quartiles = job_losses.quantile([.25,.5,.75])\n",
    "lowerq = quartiles[0.25]\n",
    "upperq = quartiles[0.75]\n",
    "iqr = upperq-lowerq\n",
    "\n",
    "\n",
    "print(f\"The lower quartile of Job Losses is: {lowerq}\")\n",
    "print(f\"The upper quartile of Job Losses is: {upperq}\")\n",
    "print(f\"The interquartile range of Job Losses is: {iqr}\")\n",
    "print(f\"The the median of Job Losses is: {quartiles[0.5]} \")\n",
    "\n",
    "lower_bound = lowerq - (1.5*iqr)\n",
    "upper_bound = upperq + (1.5*iqr)\n",
    "print(f\"Values below {lower_bound} could be outliers.\")\n",
    "print(f\"Values above {upper_bound} could be outliers.\")"
   ]
  },
  {
   "cell_type": "code",
   "execution_count": 255,
   "id": "66341c0c",
   "metadata": {},
   "outputs": [
    {
     "name": "stdout",
     "output_type": "stream",
     "text": [
      "During Covid USA experienced an average job gain 32583.67 and an average job loss 32818.67 between 2019-2021\n",
      "During Covid USA experienced a median job gain 32425.00 and a median job loss 28788.00 between 2019-2021\n"
     ]
    }
   ],
   "source": [
    "#  calculating measures of central tendency - Jobs gain_loss between 2019-2021 - Covid peak\n",
    "start_year = 2019\n",
    "end_year = 2021\n",
    "filtered_data = new_bed_df_pivot.loc[(new_bed_df_pivot['year'].astype(int) >= start_year) & (new_bed_df_pivot['year'].astype(int) <= end_year)]\n",
    "mean_gain_covid = filtered_data['Gross Job Gains'].mean()\n",
    "mean_loss_covid = filtered_data['Gross Job Losses'].mean()\n",
    "\n",
    "print(f\"During Covid USA experienced an average job gain {mean_gain_covid:.2f} and an average job loss {mean_loss_covid:.2f} between 2019-2021\")\n",
    "\n",
    "median_gain_covid = filtered_data['Gross Job Gains'].median()\n",
    "median_loss_covid = filtered_data['Gross Job Losses'].median()\n",
    "\n",
    "print(f\"During Covid USA experienced a median job gain {median_gain_covid:.2f} and a median job loss {median_loss_covid:.2f} between 2019-2021\")\n"
   ]
  },
  {
   "cell_type": "code",
   "execution_count": 256,
   "id": "807fb7a2",
   "metadata": {},
   "outputs": [
    {
     "name": "stdout",
     "output_type": "stream",
     "text": [
      "During Covid USA experienced an average job gain 28951.56 and an average job loss 26802.11 between 2010-2018\n",
      "During Covid USA experienced a median job gain 29271.00 and a median job loss 26342.00 between 2010-2018\n"
     ]
    }
   ],
   "source": [
    " #  calculating measures of central tendency - Jobs gain_loss between 2010-2018 - excluding Covid pandemic\n",
    "\n",
    "start_year = 2010\n",
    "end_year = 2018\n",
    "filtered_data = new_bed_df_pivot.loc[(new_bed_df_pivot['year'].astype(int) >= start_year) & (new_bed_df_pivot['year'].astype(int) <= end_year)]\n",
    "mean_gain_wo_covid = filtered_data['Gross Job Gains'].mean()\n",
    "mean_loss_wo_covid = filtered_data['Gross Job Losses'].mean()\n",
    "\n",
    "print(f\"During Covid USA experienced an average job gain {mean_gain_wo_covid:.2f} and an average job loss {mean_loss_wo_covid:.2f} between 2010-2018\")\n",
    "\n",
    "median_gain_wo_covid = filtered_data['Gross Job Gains'].median()\n",
    "median_loss_wo_covid = filtered_data['Gross Job Losses'].median()\n",
    "\n",
    "print(f\"During Covid USA experienced a median job gain {median_gain_wo_covid:.2f} and a median job loss {median_loss_wo_covid:.2f} between 2010-2018\")\n"
   ]
  },
  {
   "cell_type": "code",
   "execution_count": 362,
   "id": "fc3c66d7",
   "metadata": {},
   "outputs": [
    {
     "data": {
      "image/png": "[encoded data removed]",
      "text/plain": [
       "<Figure size 800x600 with 1 Axes>"
      ]
     },
     "metadata": {},
     "output_type": "display_data"
    }
   ],
   "source": [
    "# Create bar chart\n",
    "fig, ax = plt.subplots(figsize=(8, 6))\n",
    "ax.bar(['2010-2018','2019-2021','2010-2022'], [ -mean_loss_wo_covid,-mean_loss_covid,-mean_loss,], label='Job Losses')\n",
    "ax.bar(['2010-2018','2019-2021','2010-2022'], [mean_gain_wo_covid, mean_gain_covid, mean_gain], label='Job Gains')\n",
    "ax.set_ylabel('Number of jobs (in thousands)',fontweight='bold')\n",
    "ax.set_title('Job gains and losses between Covid (2019-2021) and non-Covid high peak',fontweight='bold' )\n",
    "ax.legend()\n",
    "plt.show()\n",
    "\n"
   ]
  },
  {
   "cell_type": "code",
   "execution_count": 382,
   "id": "ff7dd970",
   "metadata": {},
   "outputs": [
    {
     "data": {
      "application/vnd.plotly.v1+json": {
       "config": {
        "plotlyServerURL": "https://plot.ly"
       },
       "data": [
        {
         "name": "Job Gains",
         "type": "bar",
         "x": [
          "2010-2018",
          "2019-2021",
          "2010-2022"
         ],
         "y": [
          28951.555555555555,
          32583.666666666668,
          28846.615384615383
         ]
        },
        {
         "name": "Job Losses",
         "type": "bar",
         "x": [
          "2010-2018",
          "2019-2021",
          "2010-2022"
         ],
         "y": [
          -26802.11111111111,
          -32818.666666666664,
          -27316
         ]
        }
       ],
       "layout": {
        "hovermode": "closest",
        "template": {
         "data": {
          "bar": [
           {
            "error_x": {
             "color": "#2a3f5f"
            },
            "error_y": {
             "color": "#2a3f5f"
            },
            "marker": {
             "line": {
              "color": "#E5ECF6",
              "width": 0.5
             },
             "pattern": {
              "fillmode": "overlay",
              "size": 10,
              "solidity": 0.2
             }
            },
            "type": "bar"
           }
          ],
          "barpolar": [
           {
            "marker": {
             "line": {
              "color": "#E5ECF6",
              "width": 0.5
             },
             "pattern": {
              "fillmode": "overlay",
              "size": 10,
              "solidity": 0.2
             }
            },
            "type": "barpolar"
           }
          ],
          "carpet": [
           {
            "aaxis": {
             "endlinecolor": "#2a3f5f",
             "gridcolor": "white",
             "linecolor": "white",
             "minorgridcolor": "white",
             "startlinecolor": "#2a3f5f"
            },
            "baxis": {
             "endlinecolor": "#2a3f5f",
             "gridcolor": "white",
             "linecolor": "white",
             "minorgridcolor": "white",
             "startlinecolor": "#2a3f5f"
            },
            "type": "carpet"
           }
          ],
          "choropleth": [
           {
            "colorbar": {
             "outlinewidth": 0,
             "ticks": ""
            },
            "type": "choropleth"
           }
          ],
          "contour": [
           {
            "colorbar": {
             "outlinewidth": 0,
             "ticks": ""
            },
            "colorscale": [
             [
              0,
              "#0d0887"
             ],
             [
              0.1111111111111111,
              "#46039f"
             ],
             [
              0.2222222222222222,
              "#7201a8"
             ],
             [
              0.3333333333333333,
              "#9c179e"
             ],
             [
              0.4444444444444444,
              "#bd3786"
             ],
             [
              0.5555555555555556,
              "#d8576b"
             ],
             [
              0.6666666666666666,
              "#ed7953"
             ],
             [
              0.7777777777777778,
              "#fb9f3a"
             ],
             [
              0.8888888888888888,
              "#fdca26"
             ],
             [
              1,
              "#f0f921"
             ]
            ],
            "type": "contour"
           }
          ],
          "contourcarpet": [
           {
            "colorbar": {
             "outlinewidth": 0,
             "ticks": ""
            },
            "type": "contourcarpet"
           }
          ],
          "heatmap": [
           {
            "colorbar": {
             "outlinewidth": 0,
             "ticks": ""
            },
            "colorscale": [
             [
              0,
              "#0d0887"
             ],
             [
              0.1111111111111111,
              "#46039f"
             ],
             [
              0.2222222222222222,
              "#7201a8"
             ],
             [
              0.3333333333333333,
              "#9c179e"
             ],
             [
              0.4444444444444444,
              "#bd3786"
             ],
             [
              0.5555555555555556,
              "#d8576b"
             ],
             [
              0.6666666666666666,
              "#ed7953"
             ],
             [
              0.7777777777777778,
              "#fb9f3a"
             ],
             [
              0.8888888888888888,
              "#fdca26"
             ],
             [
              1,
              "#f0f921"
             ]
            ],
            "type": "heatmap"
           }
          ],
          "heatmapgl": [
           {
            "colorbar": {
             "outlinewidth": 0,
             "ticks": ""
            },
            "colorscale": [
             [
              0,
              "#0d0887"
             ],
             [
              0.1111111111111111,
              "#46039f"
             ],
             [
              0.2222222222222222,
              "#7201a8"
             ],
             [
              0.3333333333333333,
              "#9c179e"
             ],
             [
              0.4444444444444444,
              "#bd3786"
             ],
             [
              0.5555555555555556,
              "#d8576b"
             ],
             [
              0.6666666666666666,
              "#ed7953"
             ],
             [
              0.7777777777777778,
              "#fb9f3a"
             ],
             [
              0.8888888888888888,
              "#fdca26"
             ],
             [
              1,
              "#f0f921"
             ]
            ],
            "type": "heatmapgl"
           }
          ],
          "histogram": [
           {
            "marker": {
             "pattern": {
              "fillmode": "overlay",
              "size": 10,
              "solidity": 0.2
             }
            },
            "type": "histogram"
           }
          ],
          "histogram2d": [
           {
            "colorbar": {
             "outlinewidth": 0,
             "ticks": ""
            },
            "colorscale": [
             [
              0,
              "#0d0887"
             ],
             [
              0.1111111111111111,
              "#46039f"
             ],
             [
              0.2222222222222222,
              "#7201a8"
             ],
             [
              0.3333333333333333,
              "#9c179e"
             ],
             [
              0.4444444444444444,
              "#bd3786"
             ],
             [
              0.5555555555555556,
              "#d8576b"
             ],
             [
              0.6666666666666666,
              "#ed7953"
             ],
             [
              0.7777777777777778,
              "#fb9f3a"
             ],
             [
              0.8888888888888888,
              "#fdca26"
             ],
             [
              1,
              "#f0f921"
             ]
            ],
            "type": "histogram2d"
           }
          ],
          "histogram2dcontour": [
           {
            "colorbar": {
             "outlinewidth": 0,
             "ticks": ""
            },
            "colorscale": [
             [
              0,
              "#0d0887"
             ],
             [
              0.1111111111111111,
              "#46039f"
             ],
             [
              0.2222222222222222,
              "#7201a8"
             ],
             [
              0.3333333333333333,
              "#9c179e"
             ],
             [
              0.4444444444444444,
              "#bd3786"
             ],
             [
              0.5555555555555556,
              "#d8576b"
             ],
             [
              0.6666666666666666,
              "#ed7953"
             ],
             [
              0.7777777777777778,
              "#fb9f3a"
             ],
             [
              0.8888888888888888,
              "#fdca26"
             ],
             [
              1,
              "#f0f921"
             ]
            ],
            "type": "histogram2dcontour"
           }
          ],
          "mesh3d": [
           {
            "colorbar": {
             "outlinewidth": 0,
             "ticks": ""
            },
            "type": "mesh3d"
           }
          ],
          "parcoords": [
           {
            "line": {
             "colorbar": {
              "outlinewidth": 0,
              "ticks": ""
             }
            },
            "type": "parcoords"
           }
          ],
          "pie": [
           {
            "automargin": true,
            "type": "pie"
           }
          ],
          "scatter": [
           {
            "fillpattern": {
             "fillmode": "overlay",
             "size": 10,
             "solidity": 0.2
            },
            "type": "scatter"
           }
          ],
          "scatter3d": [
           {
            "line": {
             "colorbar": {
              "outlinewidth": 0,
              "ticks": ""
             }
            },
            "marker": {
             "colorbar": {
              "outlinewidth": 0,
              "ticks": ""
             }
            },
            "type": "scatter3d"
           }
          ],
          "scattercarpet": [
           {
            "marker": {
             "colorbar": {
              "outlinewidth": 0,
              "ticks": ""
             }
            },
            "type": "scattercarpet"
           }
          ],
          "scattergeo": [
           {
            "marker": {
             "colorbar": {
              "outlinewidth": 0,
              "ticks": ""
             }
            },
            "type": "scattergeo"
           }
          ],
          "scattergl": [
           {
            "marker": {
             "colorbar": {
              "outlinewidth": 0,
              "ticks": ""
             }
            },
            "type": "scattergl"
           }
          ],
          "scattermapbox": [
           {
            "marker": {
             "colorbar": {
              "outlinewidth": 0,
              "ticks": ""
             }
            },
            "type": "scattermapbox"
           }
          ],
          "scatterpolar": [
           {
            "marker": {
             "colorbar": {
              "outlinewidth": 0,
              "ticks": ""
             }
            },
            "type": "scatterpolar"
           }
          ],
          "scatterpolargl": [
           {
            "marker": {
             "colorbar": {
              "outlinewidth": 0,
              "ticks": ""
             }
            },
            "type": "scatterpolargl"
           }
          ],
          "scatterternary": [
           {
            "marker": {
             "colorbar": {
              "outlinewidth": 0,
              "ticks": ""
             }
            },
            "type": "scatterternary"
           }
          ],
          "surface": [
           {
            "colorbar": {
             "outlinewidth": 0,
             "ticks": ""
            },
            "colorscale": [
             [
              0,
              "#0d0887"
             ],
             [
              0.1111111111111111,
              "#46039f"
             ],
             [
              0.2222222222222222,
              "#7201a8"
             ],
             [
              0.3333333333333333,
              "#9c179e"
             ],
             [
              0.4444444444444444,
              "#bd3786"
             ],
             [
              0.5555555555555556,
              "#d8576b"
             ],
             [
              0.6666666666666666,
              "#ed7953"
             ],
             [
              0.7777777777777778,
              "#fb9f3a"
             ],
             [
              0.8888888888888888,
              "#fdca26"
             ],
             [
              1,
              "#f0f921"
             ]
            ],
            "type": "surface"
           }
          ],
          "table": [
           {
            "cells": {
             "fill": {
              "color": "#EBF0F8"
             },
             "line": {
              "color": "white"
             }
            },
            "header": {
             "fill": {
              "color": "#C8D4E3"
             },
             "line": {
              "color": "white"
             }
            },
            "type": "table"
           }
          ]
         },
         "layout": {
          "annotationdefaults": {
           "arrowcolor": "#2a3f5f",
           "arrowhead": 0,
           "arrowwidth": 1
          },
          "autotypenumbers": "strict",
          "coloraxis": {
           "colorbar": {
            "outlinewidth": 0,
            "ticks": ""
           }
          },
          "colorscale": {
           "diverging": [
            [
             0,
             "#8e0152"
            ],
            [
             0.1,
             "#c51b7d"
            ],
            [
             0.2,
             "#de77ae"
            ],
            [
             0.3,
             "#f1b6da"
            ],
            [
             0.4,
             "#fde0ef"
            ],
            [
             0.5,
             "#f7f7f7"
            ],
            [
             0.6,
             "#e6f5d0"
            ],
            [
             0.7,
             "#b8e186"
            ],
            [
             0.8,
             "#7fbc41"
            ],
            [
             0.9,
             "#4d9221"
            ],
            [
             1,
             "#276419"
            ]
           ],
           "sequential": [
            [
             0,
             "#0d0887"
            ],
            [
             0.1111111111111111,
             "#46039f"
            ],
            [
             0.2222222222222222,
             "#7201a8"
            ],
            [
             0.3333333333333333,
             "#9c179e"
            ],
            [
             0.4444444444444444,
             "#bd3786"
            ],
            [
             0.5555555555555556,
             "#d8576b"
            ],
            [
             0.6666666666666666,
             "#ed7953"
            ],
            [
             0.7777777777777778,
             "#fb9f3a"
            ],
            [
             0.8888888888888888,
             "#fdca26"
            ],
            [
             1,
             "#f0f921"
            ]
           ],
           "sequentialminus": [
            [
             0,
             "#0d0887"
            ],
            [
             0.1111111111111111,
             "#46039f"
            ],
            [
             0.2222222222222222,
             "#7201a8"
            ],
            [
             0.3333333333333333,
             "#9c179e"
            ],
            [
             0.4444444444444444,
             "#bd3786"
            ],
            [
             0.5555555555555556,
             "#d8576b"
            ],
            [
             0.6666666666666666,
             "#ed7953"
            ],
            [
             0.7777777777777778,
             "#fb9f3a"
            ],
            [
             0.8888888888888888,
             "#fdca26"
            ],
            [
             1,
             "#f0f921"
            ]
           ]
          },
          "colorway": [
           "#636efa",
           "#EF553B",
           "#00cc96",
           "#ab63fa",
           "#FFA15A",
           "#19d3f3",
           "#FF6692",
           "#B6E880",
           "#FF97FF",
           "#FECB52"
          ],
          "font": {
           "color": "#2a3f5f"
          },
          "geo": {
           "bgcolor": "white",
           "lakecolor": "white",
           "landcolor": "#E5ECF6",
           "showlakes": true,
           "showland": true,
           "subunitcolor": "white"
          },
          "hoverlabel": {
           "align": "left"
          },
          "hovermode": "closest",
          "mapbox": {
           "style": "light"
          },
          "paper_bgcolor": "white",
          "plot_bgcolor": "#E5ECF6",
          "polar": {
           "angularaxis": {
            "gridcolor": "white",
            "linecolor": "white",
            "ticks": ""
           },
           "bgcolor": "#E5ECF6",
           "radialaxis": {
            "gridcolor": "white",
            "linecolor": "white",
            "ticks": ""
           }
          },
          "scene": {
           "xaxis": {
            "backgroundcolor": "#E5ECF6",
            "gridcolor": "white",
            "gridwidth": 2,
            "linecolor": "white",
            "showbackground": true,
            "ticks": "",
            "zerolinecolor": "white"
           },
           "yaxis": {
            "backgroundcolor": "#E5ECF6",
            "gridcolor": "white",
            "gridwidth": 2,
            "linecolor": "white",
            "showbackground": true,
            "ticks": "",
            "zerolinecolor": "white"
           },
           "zaxis": {
            "backgroundcolor": "#E5ECF6",
            "gridcolor": "white",
            "gridwidth": 2,
            "linecolor": "white",
            "showbackground": true,
            "ticks": "",
            "zerolinecolor": "white"
           }
          },
          "shapedefaults": {
           "line": {
            "color": "#2a3f5f"
           }
          },
          "ternary": {
           "aaxis": {
            "gridcolor": "white",
            "linecolor": "white",
            "ticks": ""
           },
           "baxis": {
            "gridcolor": "white",
            "linecolor": "white",
            "ticks": ""
           },
           "bgcolor": "#E5ECF6",
           "caxis": {
            "gridcolor": "white",
            "linecolor": "white",
            "ticks": ""
           }
          },
          "title": {
           "x": 0.05
          },
          "xaxis": {
           "automargin": true,
           "gridcolor": "white",
           "linecolor": "white",
           "ticks": "",
           "title": {
            "standoff": 15
           },
           "zerolinecolor": "white",
           "zerolinewidth": 2
          },
          "yaxis": {
           "automargin": true,
           "gridcolor": "white",
           "linecolor": "white",
           "ticks": "",
           "title": {
            "standoff": 15
           },
           "zerolinecolor": "white",
           "zerolinewidth": 2
          }
         }
        },
        "title": {
         "text": "Comparison of job gains and job losses between Covid (2019-2021) and non-Covid high peak"
        },
        "xaxis": {
         "title": {
          "text": "Year Range"
         }
        },
        "yaxis": {
         "title": {
          "text": "Number of jobs (in thousands)"
         }
        }
       }
      },
      "text/html": [
       "<div>                            <div id=\"6de1dd73-8a5c-4c8a-a8ae-e8e718c68a67\" class=\"plotly-graph-div\" style=\"height:525px; width:100%;\"></div>            <script type=\"text/javascript\">                require([\"plotly\"], function(Plotly) {                    window.PLOTLYENV=window.PLOTLYENV || {};                                    if (document.getElementById(\"6de1dd73-8a5c-4c8a-a8ae-e8e718c68a67\")) {                    Plotly.newPlot(                        \"6de1dd73-8a5c-4c8a-a8ae-e8e718c68a67\",                        [{\"name\":\"Job Gains\",\"x\":[\"2010-2018\",\"2019-2021\",\"2010-2022\"],\"y\":[28951.555555555555,32583.666666666668,28846.615384615383],\"type\":\"bar\"},{\"name\":\"Job Losses\",\"x\":[\"2010-2018\",\"2019-2021\",\"2010-2022\"],\"y\":[-26802.11111111111,-32818.666666666664,-27316.0],\"type\":\"bar\"}],                        {\"hovermode\":\"closest\",\"title\":{\"text\":\"Comparison of job gains and job losses between Covid (2019-2021) and non-Covid high peak\"},\"xaxis\":{\"title\":{\"text\":\"Year Range\"}},\"yaxis\":{\"title\":{\"text\":\"Number of jobs (in thousands)\"}},\"template\":{\"data\":{\"histogram2dcontour\":[{\"type\":\"histogram2dcontour\",\"colorbar\":{\"outlinewidth\":0,\"ticks\":\"\"},\"colorscale\":[[0.0,\"#0d0887\"],[0.1111111111111111,\"#46039f\"],[0.2222222222222222,\"#7201a8\"],[0.3333333333333333,\"#9c179e\"],[0.4444444444444444,\"#bd3786\"],[0.5555555555555556,\"#d8576b\"],[0.6666666666666666,\"#ed7953\"],[0.7777777777777778,\"#fb9f3a\"],[0.8888888888888888,\"#fdca26\"],[1.0,\"#f0f921\"]]}],\"choropleth\":[{\"type\":\"choropleth\",\"colorbar\":{\"outlinewidth\":0,\"ticks\":\"\"}}],\"histogram2d\":[{\"type\":\"histogram2d\",\"colorbar\":{\"outlinewidth\":0,\"ticks\":\"\"},\"colorscale\":[[0.0,\"#0d0887\"],[0.1111111111111111,\"#46039f\"],[0.2222222222222222,\"#7201a8\"],[0.3333333333333333,\"#9c179e\"],[0.4444444444444444,\"#bd3786\"],[0.5555555555555556,\"#d8576b\"],[0.6666666666666666,\"#ed7953\"],[0.7777777777777778,\"#fb9f3a\"],[0.8888888888888888,\"#fdca26\"],[1.0,\"#f0f921\"]]}],\"heatmap\":[{\"type\":\"heatmap\",\"colorbar\":{\"outlinewidth\":0,\"ticks\":\"\"},\"colorscale\":[[0.0,\"#0d0887\"],[0.1111111111111111,\"#46039f\"],[0.2222222222222222,\"#7201a8\"],[0.3333333333333333,\"#9c179e\"],[0.4444444444444444,\"#bd3786\"],[0.5555555555555556,\"#d8576b\"],[0.6666666666666666,\"#ed7953\"],[0.7777777777777778,\"#fb9f3a\"],[0.8888888888888888,\"#fdca26\"],[1.0,\"#f0f921\"]]}],\"heatmapgl\":[{\"type\":\"heatmapgl\",\"colorbar\":{\"outlinewidth\":0,\"ticks\":\"\"},\"colorscale\":[[0.0,\"#0d0887\"],[0.1111111111111111,\"#46039f\"],[0.2222222222222222,\"#7201a8\"],[0.3333333333333333,\"#9c179e\"],[0.4444444444444444,\"#bd3786\"],[0.5555555555555556,\"#d8576b\"],[0.6666666666666666,\"#ed7953\"],[0.7777777777777778,\"#fb9f3a\"],[0.8888888888888888,\"#fdca26\"],[1.0,\"#f0f921\"]]}],\"contourcarpet\":[{\"type\":\"contourcarpet\",\"colorbar\":{\"outlinewidth\":0,\"ticks\":\"\"}}],\"contour\":[{\"type\":\"contour\",\"colorbar\":{\"outlinewidth\":0,\"ticks\":\"\"},\"colorscale\":[[0.0,\"#0d0887\"],[0.1111111111111111,\"#46039f\"],[0.2222222222222222,\"#7201a8\"],[0.3333333333333333,\"#9c179e\"],[0.4444444444444444,\"#bd3786\"],[0.5555555555555556,\"#d8576b\"],[0.6666666666666666,\"#ed7953\"],[0.7777777777777778,\"#fb9f3a\"],[0.8888888888888888,\"#fdca26\"],[1.0,\"#f0f921\"]]}],\"surface\":[{\"type\":\"surface\",\"colorbar\":{\"outlinewidth\":0,\"ticks\":\"\"},\"colorscale\":[[0.0,\"#0d0887\"],[0.1111111111111111,\"#46039f\"],[0.2222222222222222,\"#7201a8\"],[0.3333333333333333,\"#9c179e\"],[0.4444444444444444,\"#bd3786\"],[0.5555555555555556,\"#d8576b\"],[0.6666666666666666,\"#ed7953\"],[0.7777777777777778,\"#fb9f3a\"],[0.8888888888888888,\"#fdca26\"],[1.0,\"#f0f921\"]]}],\"mesh3d\":[{\"type\":\"mesh3d\",\"colorbar\":{\"outlinewidth\":0,\"ticks\":\"\"}}],\"scatter\":[{\"fillpattern\":{\"fillmode\":\"overlay\",\"size\":10,\"solidity\":0.2},\"type\":\"scatter\"}],\"parcoords\":[{\"type\":\"parcoords\",\"line\":{\"colorbar\":{\"outlinewidth\":0,\"ticks\":\"\"}}}],\"scatterpolargl\":[{\"type\":\"scatterpolargl\",\"marker\":{\"colorbar\":{\"outlinewidth\":0,\"ticks\":\"\"}}}],\"bar\":[{\"error_x\":{\"color\":\"#2a3f5f\"},\"error_y\":{\"color\":\"#2a3f5f\"},\"marker\":{\"line\":{\"color\":\"#E5ECF6\",\"width\":0.5},\"pattern\":{\"fillmode\":\"overlay\",\"size\":10,\"solidity\":0.2}},\"type\":\"bar\"}],\"scattergeo\":[{\"type\":\"scattergeo\",\"marker\":{\"colorbar\":{\"outlinewidth\":0,\"ticks\":\"\"}}}],\"scatterpolar\":[{\"type\":\"scatterpolar\",\"marker\":{\"colorbar\":{\"outlinewidth\":0,\"ticks\":\"\"}}}],\"histogram\":[{\"marker\":{\"pattern\":{\"fillmode\":\"overlay\",\"size\":10,\"solidity\":0.2}},\"type\":\"histogram\"}],\"scattergl\":[{\"type\":\"scattergl\",\"marker\":{\"colorbar\":{\"outlinewidth\":0,\"ticks\":\"\"}}}],\"scatter3d\":[{\"type\":\"scatter3d\",\"line\":{\"colorbar\":{\"outlinewidth\":0,\"ticks\":\"\"}},\"marker\":{\"colorbar\":{\"outlinewidth\":0,\"ticks\":\"\"}}}],\"scattermapbox\":[{\"type\":\"scattermapbox\",\"marker\":{\"colorbar\":{\"outlinewidth\":0,\"ticks\":\"\"}}}],\"scatterternary\":[{\"type\":\"scatterternary\",\"marker\":{\"colorbar\":{\"outlinewidth\":0,\"ticks\":\"\"}}}],\"scattercarpet\":[{\"type\":\"scattercarpet\",\"marker\":{\"colorbar\":{\"outlinewidth\":0,\"ticks\":\"\"}}}],\"carpet\":[{\"aaxis\":{\"endlinecolor\":\"#2a3f5f\",\"gridcolor\":\"white\",\"linecolor\":\"white\",\"minorgridcolor\":\"white\",\"startlinecolor\":\"#2a3f5f\"},\"baxis\":{\"endlinecolor\":\"#2a3f5f\",\"gridcolor\":\"white\",\"linecolor\":\"white\",\"minorgridcolor\":\"white\",\"startlinecolor\":\"#2a3f5f\"},\"type\":\"carpet\"}],\"table\":[{\"cells\":{\"fill\":{\"color\":\"#EBF0F8\"},\"line\":{\"color\":\"white\"}},\"header\":{\"fill\":{\"color\":\"#C8D4E3\"},\"line\":{\"color\":\"white\"}},\"type\":\"table\"}],\"barpolar\":[{\"marker\":{\"line\":{\"color\":\"#E5ECF6\",\"width\":0.5},\"pattern\":{\"fillmode\":\"overlay\",\"size\":10,\"solidity\":0.2}},\"type\":\"barpolar\"}],\"pie\":[{\"automargin\":true,\"type\":\"pie\"}]},\"layout\":{\"autotypenumbers\":\"strict\",\"colorway\":[\"#636efa\",\"#EF553B\",\"#00cc96\",\"#ab63fa\",\"#FFA15A\",\"#19d3f3\",\"#FF6692\",\"#B6E880\",\"#FF97FF\",\"#FECB52\"],\"font\":{\"color\":\"#2a3f5f\"},\"hovermode\":\"closest\",\"hoverlabel\":{\"align\":\"left\"},\"paper_bgcolor\":\"white\",\"plot_bgcolor\":\"#E5ECF6\",\"polar\":{\"bgcolor\":\"#E5ECF6\",\"angularaxis\":{\"gridcolor\":\"white\",\"linecolor\":\"white\",\"ticks\":\"\"},\"radialaxis\":{\"gridcolor\":\"white\",\"linecolor\":\"white\",\"ticks\":\"\"}},\"ternary\":{\"bgcolor\":\"#E5ECF6\",\"aaxis\":{\"gridcolor\":\"white\",\"linecolor\":\"white\",\"ticks\":\"\"},\"baxis\":{\"gridcolor\":\"white\",\"linecolor\":\"white\",\"ticks\":\"\"},\"caxis\":{\"gridcolor\":\"white\",\"linecolor\":\"white\",\"ticks\":\"\"}},\"coloraxis\":{\"colorbar\":{\"outlinewidth\":0,\"ticks\":\"\"}},\"colorscale\":{\"sequential\":[[0.0,\"#0d0887\"],[0.1111111111111111,\"#46039f\"],[0.2222222222222222,\"#7201a8\"],[0.3333333333333333,\"#9c179e\"],[0.4444444444444444,\"#bd3786\"],[0.5555555555555556,\"#d8576b\"],[0.6666666666666666,\"#ed7953\"],[0.7777777777777778,\"#fb9f3a\"],[0.8888888888888888,\"#fdca26\"],[1.0,\"#f0f921\"]],\"sequentialminus\":[[0.0,\"#0d0887\"],[0.1111111111111111,\"#46039f\"],[0.2222222222222222,\"#7201a8\"],[0.3333333333333333,\"#9c179e\"],[0.4444444444444444,\"#bd3786\"],[0.5555555555555556,\"#d8576b\"],[0.6666666666666666,\"#ed7953\"],[0.7777777777777778,\"#fb9f3a\"],[0.8888888888888888,\"#fdca26\"],[1.0,\"#f0f921\"]],\"diverging\":[[0,\"#8e0152\"],[0.1,\"#c51b7d\"],[0.2,\"#de77ae\"],[0.3,\"#f1b6da\"],[0.4,\"#fde0ef\"],[0.5,\"#f7f7f7\"],[0.6,\"#e6f5d0\"],[0.7,\"#b8e186\"],[0.8,\"#7fbc41\"],[0.9,\"#4d9221\"],[1,\"#276419\"]]},\"xaxis\":{\"gridcolor\":\"white\",\"linecolor\":\"white\",\"ticks\":\"\",\"title\":{\"standoff\":15},\"zerolinecolor\":\"white\",\"automargin\":true,\"zerolinewidth\":2},\"yaxis\":{\"gridcolor\":\"white\",\"linecolor\":\"white\",\"ticks\":\"\",\"title\":{\"standoff\":15},\"zerolinecolor\":\"white\",\"automargin\":true,\"zerolinewidth\":2},\"scene\":{\"xaxis\":{\"backgroundcolor\":\"#E5ECF6\",\"gridcolor\":\"white\",\"linecolor\":\"white\",\"showbackground\":true,\"ticks\":\"\",\"zerolinecolor\":\"white\",\"gridwidth\":2},\"yaxis\":{\"backgroundcolor\":\"#E5ECF6\",\"gridcolor\":\"white\",\"linecolor\":\"white\",\"showbackground\":true,\"ticks\":\"\",\"zerolinecolor\":\"white\",\"gridwidth\":2},\"zaxis\":{\"backgroundcolor\":\"#E5ECF6\",\"gridcolor\":\"white\",\"linecolor\":\"white\",\"showbackground\":true,\"ticks\":\"\",\"zerolinecolor\":\"white\",\"gridwidth\":2}},\"shapedefaults\":{\"line\":{\"color\":\"#2a3f5f\"}},\"annotationdefaults\":{\"arrowcolor\":\"#2a3f5f\",\"arrowhead\":0,\"arrowwidth\":1},\"geo\":{\"bgcolor\":\"white\",\"landcolor\":\"#E5ECF6\",\"subunitcolor\":\"white\",\"showland\":true,\"showlakes\":true,\"lakecolor\":\"white\"},\"title\":{\"x\":0.05},\"mapbox\":{\"style\":\"light\"}}}},                        {\"responsive\": true}                    ).then(function(){\n",
       "                            \n",
       "var gd = document.getElementById('6de1dd73-8a5c-4c8a-a8ae-e8e718c68a67');\n",
       "var x = new MutationObserver(function (mutations, observer) {{\n",
       "        var display = window.getComputedStyle(gd).display;\n",
       "        if (!display || display === 'none') {{\n",
       "            console.log([gd, 'removed!']);\n",
       "            Plotly.purge(gd);\n",
       "            observer.disconnect();\n",
       "        }}\n",
       "}});\n",
       "\n",
       "// Listen for the removal of the full notebook cells\n",
       "var notebookContainer = gd.closest('#notebook-container');\n",
       "if (notebookContainer) {{\n",
       "    x.observe(notebookContainer, {childList: true});\n",
       "}}\n",
       "\n",
       "// Listen for the clearing of the current output cell\n",
       "var outputEl = gd.closest('.output');\n",
       "if (outputEl) {{\n",
       "    x.observe(outputEl, {childList: true});\n",
       "}}\n",
       "\n",
       "                        })                };                });            </script>        </div>"
      ]
     },
     "metadata": {},
     "output_type": "display_data"
    }
   ],
   "source": [
    "import plotly.graph_objs as go\n",
    "from plotly.offline import iplot\n",
    "\n",
    "# Data\n",
    "x = [ '2010-2018', '2019-2021','2010-2022']\n",
    "y1 = [mean_gain_wo_covid, mean_gain_covid,mean_gain ]\n",
    "y2 = [-mean_loss_wo_covid, -mean_loss_covid,-mean_loss]\n",
    "\n",
    "# Create traces\n",
    "trace1 = go.Bar(x=x, y=y1, name='Job Gains')\n",
    "trace2 = go.Bar(x=x, y=y2, name='Job Losses')\n",
    "\n",
    "# Create layout\n",
    "layout = go.Layout(title='Comparison of job gains and job losses between Covid (2019-2021) and non-Covid high peak',\n",
    "                   xaxis={'title': 'Year Range'},\n",
    "                   yaxis={'title': 'Number of jobs (in thousands)'},\n",
    "                   hovermode='closest')\n",
    "\n",
    "# Create figure\n",
    "fig = go.Figure(data=[trace1, trace2], layout=layout)\n",
    "pio.write_html(fig, file='fig_plot.html', auto_open=True)\n",
    "fig.show()\n",
    "# Show figure\n",
    "#iplot(fig)\n"
   ]
  },
  {
   "cell_type": "code",
   "execution_count": 259,
   "id": "bf56fc52",
   "metadata": {},
   "outputs": [
    {
     "data": {
      "image/png": "[encoded data removed]",
      "text/plain": [
       "<Figure size 800x600 with 1 Axes>"
      ]
     },
     "metadata": {},
     "output_type": "display_data"
    }
   ],
   "source": [
    "fig, ax = plt.subplots(figsize=(8, 6))\n",
    "x_labels = [ '2010-2018', '2019-2021','2010-2022']\n",
    "\n",
    "# Calculate the percentage changes - percentage_change = ((new_value - old_value) / old_value) * 100\n",
    "gain_pct_changes = [((mean_gain_covid-mean_gain)/mean_gain)*100, 0, ((mean_gain_wo_covid-mean_gain)/mean_gain)*100]\n",
    "loss_pct_changes = [((mean_loss_covid-mean_loss)/mean_loss)*100, 0, ((mean_loss_wo_covid-mean_loss)/mean_loss)*100]\n",
    "\n",
    "# Create the bar chart\n",
    "ax.bar(x_labels, [ mean_gain_wo_covid,mean_gain_covid,mean_gain],  label='Job Gains')\n",
    "ax.bar(x_labels, [ -mean_loss_wo_covid,-mean_loss_covid,-mean_loss], label='Job Losses')\n",
    "\n",
    "# Add labels to the bars\n",
    "for i, v in enumerate([mean_gain_wo_covid, mean_gain_covid, mean_gain]):\n",
    "    ax.text(i, v+90, f\"{v/900:.2f}K\", ha='center')\n",
    "    \n",
    "for i, v in enumerate([-mean_loss_wo_covid, -mean_loss_covid,-mean_loss]):\n",
    "    ax.text(i, v-90, f\"{-v/900:.2f}K\", ha='center')\n",
    "    \n",
    "# Add percentage changes\n",
    "for i, v in enumerate(gain_pct_changes):\n",
    "    if v != 0:\n",
    "        ax.text(i, ax.get_ylim()[1], f\"{v:.2f}%\", ha='center', va='bottom', color='black')\n",
    "        \n",
    "for i, v in enumerate(loss_pct_changes):\n",
    "    if v != 0:\n",
    "        ax.text(i, ax.get_ylim()[0], f\"{v:.2f}%\", ha='center', va='top', color='black')\n",
    "    \n",
    "ax.set_ylabel('Number of jobs (in thousands)')\n",
    "ax.set_title('Overall job gains and job losses between Covid peak (2019-2021) and prior to Covid compared during the period of 2010-2022')\n",
    "ax.legend()\n",
    "ax.axhline(y=0, color='gray', linestyle='--')\n",
    "plt.show()\n"
   ]
  },
  {
   "cell_type": "code",
   "execution_count": 260,
   "id": "e284bfe4",
   "metadata": {},
   "outputs": [
    {
     "name": "stdout",
     "output_type": "stream",
     "text": [
      "The overall average job gain during Covid peak (2019/2021) changed by 12.95% compared to the period of 2010-2022 - Covid Inclusive \n",
      "The overall average job loss during Covid peak (2019/2021) changed by 20.14% compared to the period of 2010-2022 - Covid Inclusive\n",
      "The overall average job gain during Covid peak (2019/2021) changed by 12.55% compared to the period of 2010-2022 - Covid Inclusivecompared to the period of 2010-2018\n",
      "The overall average job loss during Covid peak (2019/2021) changed by 22.45% compared to the period of 2010-2022 - Covid Inclusivecompared to the period of 2010-2018\n"
     ]
    }
   ],
   "source": [
    "#percentage_change = ((new_value - old_value) / old_value) * 100\n",
    "\n",
    "# Calculate the percentage change\n",
    "\n",
    "gain_percent_change = ((mean_gain_covid - mean_gain) / mean_gain) * 100 #(2019/2021)/2022\n",
    "loss_percent_change = ((mean_loss_covid - mean_loss) / mean_loss) * 100 #(2019/2021)/2022\n",
    "\n",
    "# Calculate the percentage change from 2019-2021\n",
    "gain_percent_change_covid = ((mean_gain_covid - mean_gain_wo_covid) / mean_gain_wo_covid) * 100 #(2019/2021)/(2010/2018)\n",
    "loss_percent_change_covid = ((mean_loss_covid - mean_loss_wo_covid) / mean_loss_wo_covid) * 100 #(2019/2021)/(2010/2018)\n",
    "\n",
    "# Print the results\n",
    "print(f\"The overall average job gain during Covid peak (2019/2021) changed by {gain_percent_change:.2f}% compared to the period of 2010-2022 - Covid Inclusive \")\n",
    "print(f\"The overall average job loss during Covid peak (2019/2021) changed by {loss_percent_change:.2f}% compared to the period of 2010-2022 - Covid Inclusive\")\n",
    "\n",
    "print(f\"The overall average job gain during Covid peak (2019/2021) changed by {gain_percent_change_covid:.2f}% compared to the period of 2010-2022 - Covid Inclusivecompared to the period of 2010-2018\")\n",
    "print(f\"The overall average job loss during Covid peak (2019/2021) changed by {loss_percent_change_covid:.2f}% compared to the period of 2010-2022 - Covid Inclusivecompared to the period of 2010-2018\")\n"
   ]
  },
  {
   "cell_type": "code",
   "execution_count": 268,
   "id": "02fa345d",
   "metadata": {},
   "outputs": [],
   "source": [
    "#read_CSV - https://data.bls.gov/projections/occupationProj\n",
    "empl_proj_df = pd.read_csv(\"Employment Projections.csv\")"
   ]
  },
  {
   "cell_type": "code",
   "execution_count": 269,
   "id": "0546768e",
   "metadata": {},
   "outputs": [],
   "source": [
    "new_proj_df = empl_proj_df[['Occupation Title',\n",
    "                            'Employment Change, 2021-2031',\n",
    "                            'Employment Percent Change, 2021-2031',\n",
    "                            'Median Annual Wage 2021',\n",
    "                            'Typical Entry-Level Education']]\n"
   ]
  },
  {
   "cell_type": "code",
   "execution_count": 292,
   "id": "9d0295d7",
   "metadata": {},
   "outputs": [
    {
     "data": {
      "image/png": "[encoded data removed]",
      "text/plain": [
       "<Figure size 640x480 with 1 Axes>"
      ]
     },
     "metadata": {},
     "output_type": "display_data"
    }
   ],
   "source": [
    "# sort values descending %\n",
    "top_jobs_df = new_proj_df.sort_values(['Employment Percent Change, 2021-2031'], ascending=False)\n",
    "\n",
    "# select top 10 rows\n",
    "top_jobs_df = top_jobs_df.head(10)\n",
    "\n",
    "# extract x values\n",
    "x_col = top_jobs_df['Employment Percent Change, 2021-2031']\n",
    "\n",
    "# create the plot\n",
    "fig, ax = plt.subplots()\n",
    "top_jobs_df['Employment Change, 2021-2031'].plot(kind='barh', ax=ax, color='red', alpha=0.5)\n",
    "top_jobs_df['Employment Percent Change, 2021-2031'].mul(-1).plot(kind='barh', ax=ax, color='blue', alpha=0.5)\n",
    "\n",
    "# set the x-tick positions and labels\n",
    "xticks_pos = range(len(top_jobs_df))\n",
    "xticks_labels = top_jobs_df['Occupation Title'].tolist()\n",
    "ax.set_yticks(xticks_pos)\n",
    "ax.set_yticklabels(xticks_labels, rotation=0)\n",
    "\n",
    "# add axis labels and a title\n",
    "ax.set_xlabel('Employment Change, 2021-2031')\n",
    "ax.set_ylabel('Occupation Title')\n",
    "plt.title('Fastest-Growing Occupations by Education Category')\n",
    "\n",
    "# add a legend\n",
    "plt.legend(['Employment Change, 2021-2031', 'Employment Percent Change, 2021-2031'], loc='center left', bbox_to_anchor=(1, 0.5), prop={'size':8})\n",
    "\n",
    "# save the plot to an HTML file\n",
    "plt.savefig('empl_change.png')"
   ]
  },
  {
   "cell_type": "code",
   "execution_count": 267,
   "id": "644d0ed1",
   "metadata": {},
   "outputs": [],
   "source": [
    "# Sort the dataframe by 'Employment Change, 2021-2031' column\n",
    "top_jobs_df = new_proj_df.sort_values(['Employment Change, 2021-2031'], ascending=False)\n",
    "\n",
    "# Get the top 10 rows\n",
    "top_jobs_df = top_jobs_df.head(10)\n",
    "\n",
    "# Convert the first dataframe to an HTML table\n",
    "html_table_top = top_jobs_df.head(10).to_html(index=False, max_rows=None, max_cols=None, table_id='TopJobs')\n",
    "\n",
    "# Set the column widths\n",
    "col_widths = [0.3, 0.7]\n",
    "\n",
    "# Display the HTML table\n",
    "\n",
    "#display(HTML(html_table_top))\n",
    "\n",
    "#with open(\"top_jobs_table.html\", \"w\") as file:\n",
    "#    file.write(html_table_top)\n"
   ]
  },
  {
   "cell_type": "code",
   "execution_count": 293,
   "id": "bb3e4aba",
   "metadata": {},
   "outputs": [
    {
     "data": {
      "text/html": [
       "<table border=\"1\" class=\"dataframe\" id=\"TopJobs\">\n",
       "  <thead>\n",
       "    <tr style=\"text-align: right;\">\n",
       "      <th>Occupation Title</th>\n",
       "      <th>Employment Change, 2021-2031</th>\n",
       "      <th>Employment Percent Change, 2021-2031</th>\n",
       "      <th>Median Annual Wage 2021</th>\n",
       "      <th>Typical Entry-Level Education</th>\n",
       "    </tr>\n",
       "  </thead>\n",
       "  <tbody>\n",
       "    <tr>\n",
       "      <td>Home health and personal care aides</td>\n",
       "      <td>924.0</td>\n",
       "      <td>25.4</td>\n",
       "      <td>29,430</td>\n",
       "      <td>High school diploma or equivalent</td>\n",
       "    </tr>\n",
       "    <tr>\n",
       "      <td>Cooks, restaurant    * Banquet Cook* Breakfast Cook* Chef De Partie* Line Cook* Saucier* Specialty Cook</td>\n",
       "      <td>459.9</td>\n",
       "      <td>36.6</td>\n",
       "      <td>30,010</td>\n",
       "      <td>No formal educational credential</td>\n",
       "    </tr>\n",
       "    <tr>\n",
       "      <td>Software developers</td>\n",
       "      <td>370.6</td>\n",
       "      <td>26.0</td>\n",
       "      <td>120,730</td>\n",
       "      <td>Bachelor's degree</td>\n",
       "    </tr>\n",
       "    <tr>\n",
       "      <td>Fast food and counter workers</td>\n",
       "      <td>243.2</td>\n",
       "      <td>7.6</td>\n",
       "      <td>25,100</td>\n",
       "      <td>No formal educational credential</td>\n",
       "    </tr>\n",
       "    <tr>\n",
       "      <td>General and operations managers    * Department Store General Manager* General Manager* General Superintendent* Manufacturing Operations Manager* Operations Manager* Radio Station Manager* Television Station Manager</td>\n",
       "      <td>209.8</td>\n",
       "      <td>6.7</td>\n",
       "      <td>97,970</td>\n",
       "      <td>Bachelor's degree</td>\n",
       "    </tr>\n",
       "    <tr>\n",
       "      <td>Waiters and waitresses    * Cocktail Server* Cocktail Waitress* Dining Car Server* Restaurant Server* Wine Steward</td>\n",
       "      <td>197.0</td>\n",
       "      <td>10.3</td>\n",
       "      <td>26,000</td>\n",
       "      <td>No formal educational credential</td>\n",
       "    </tr>\n",
       "    <tr>\n",
       "      <td>Registered nurses    * CCU Nurse* CNS* Clinical Nurse Specialist* Community Health Nurse* Coronary Care Unit Nurse* Emergency Room RN* Endoscopy Registered Nurse* Hospice Registered Nurse* Obstetrical Nurse* Oncology Registered Nurse* PACU Nurse* Pediatric Registered Nurse* Post-Anesthesia Care Unit Nurse* Psychiatric Nurse* RN* Registered Nurse* Triage Registered Nurse</td>\n",
       "      <td>195.4</td>\n",
       "      <td>6.2</td>\n",
       "      <td>77,600</td>\n",
       "      <td>Bachelor's degree</td>\n",
       "    </tr>\n",
       "    <tr>\n",
       "      <td>Laborers and freight, stock, and material movers, hand    * Cargo Handler* Cart Pusher* Freight Handler* Grave Digger* Manufacturing Laborer* Material Handler* Package Handler* Shipping and Receiving Material Handler* Stock Mover* Van Loader* Wharf Laborer</td>\n",
       "      <td>168.4</td>\n",
       "      <td>6.0</td>\n",
       "      <td>31,230</td>\n",
       "      <td>No formal educational credential</td>\n",
       "    </tr>\n",
       "    <tr>\n",
       "      <td>Stockers and order fillers</td>\n",
       "      <td>157.9</td>\n",
       "      <td>6.4</td>\n",
       "      <td>30,110</td>\n",
       "      <td>High school diploma or equivalent</td>\n",
       "    </tr>\n",
       "    <tr>\n",
       "      <td>Market research analysts and marketing specialists    * Market Research Analyst* Market Research Specialist* Marketing Analyst* Marketing Consultant* Marketing Forecaster* Marketing Specialist</td>\n",
       "      <td>150.3</td>\n",
       "      <td>19.0</td>\n",
       "      <td>63,920</td>\n",
       "      <td>Bachelor's degree</td>\n",
       "    </tr>\n",
       "  </tbody>\n",
       "</table><table border=\"1\" class=\"dataframe\" id=\"TopJobs%\">\n",
       "  <thead>\n",
       "    <tr style=\"text-align: right;\">\n",
       "      <th>Occupation Title</th>\n",
       "      <th>Employment Change, 2021-2031</th>\n",
       "      <th>Employment Percent Change, 2021-2031</th>\n",
       "      <th>Median Annual Wage 2021</th>\n",
       "      <th>Typical Entry-Level Education</th>\n",
       "    </tr>\n",
       "  </thead>\n",
       "  <tbody>\n",
       "    <tr>\n",
       "      <td>Nurse practitioners    * Acute Care Nurse Practitioner* Adult Nurse Practitioner* Cardiology Nurse Practitioner* Certified Nurse Practitioner* Certified Pediatric Nurse Practitioner* Certified Registered Nurse Practitioner* Dermatology Nurse Practitioner* Electrophysiology Nurse Practitioner* Emergency Medicine Nurse Practitioner* Family Health Nurse Practitioner* Family Practice Nurse Practitioner* Gastroenterology Nurse Practitioner* Gerontological Nurse Practitioner* Internal Medicine Nurse Practitioner* NP* Neurosurgical Nurse Practitioner* Nurse Practitioner* Obstetrics-Gynecology Nurse Practitioner* Orthopedic Nurse Practitioner* Palliative Care Nurse Practitioner* Pediatric Nurse Practitioner* Surgical Nurse Practitioner</td>\n",
       "      <td>112.7</td>\n",
       "      <td>45.7</td>\n",
       "      <td>120,680</td>\n",
       "      <td>Master's degree</td>\n",
       "    </tr>\n",
       "    <tr>\n",
       "      <td>Wind turbine service technicians    * Wind Energy Mechanic* Wind Energy Technician* Wind Turbine Mechanic* Wind Turbine Technician</td>\n",
       "      <td>4.9</td>\n",
       "      <td>44.3</td>\n",
       "      <td>56,260</td>\n",
       "      <td>Postsecondary nondegree award</td>\n",
       "    </tr>\n",
       "    <tr>\n",
       "      <td>Ushers, lobby attendants, and ticket takers    * Drive-In Theater Attendant* Lobby Attendant* Theater Usher* Ticket Attendant* Ticket Collector* Usher</td>\n",
       "      <td>25.6</td>\n",
       "      <td>40.5</td>\n",
       "      <td>24,440</td>\n",
       "      <td>No formal educational credential</td>\n",
       "    </tr>\n",
       "    <tr>\n",
       "      <td>Motion picture projectionists    * Chief Projectionist* Film Projector Operator* Motion Picture Operator* Motion Picture Projectionist* Movie Projectionist* Projector Booth Operator* Stereoptician</td>\n",
       "      <td>0.8</td>\n",
       "      <td>40.3</td>\n",
       "      <td>29,350</td>\n",
       "      <td>No formal educational credential</td>\n",
       "    </tr>\n",
       "    <tr>\n",
       "      <td>Cooks, restaurant    * Banquet Cook* Breakfast Cook* Chef De Partie* Line Cook* Saucier* Specialty Cook</td>\n",
       "      <td>459.9</td>\n",
       "      <td>36.6</td>\n",
       "      <td>30,010</td>\n",
       "      <td>No formal educational credential</td>\n",
       "    </tr>\n",
       "    <tr>\n",
       "      <td>Data scientists</td>\n",
       "      <td>40.5</td>\n",
       "      <td>35.8</td>\n",
       "      <td>100,910</td>\n",
       "      <td>Bachelor's degree</td>\n",
       "    </tr>\n",
       "    <tr>\n",
       "      <td>Athletes and sports competitors    * All Terrain Vehicle Racer* Athlete* Auto Racer* Baseball Pitcher* Baseball Player* Basketball Player* Bicycle Racer* Bicyclist* Billiard Player* Bowler* Bull Rider* Car Racer* Cyclist* Dirt Bike Racer* Drag Car Racer* Figure Skater* Football Player* Golfer* Hockey Player* Horse Racer* Ice Skater* Jockey* Kick Boxer* Motocross Racer* National Association for  Stock Car Auto Racing Driver* Prize Fighter* Professional Bass Fisher* Professional Soccer Player* Pugilist* Race Car Driver* Roller Skater* Skater* Skier* Snowboarder* Softball Player* Stock Car Driver* Surfer* Swimmer* Tennis Player* Volleyball Player* Wrestler</td>\n",
       "      <td>5.7</td>\n",
       "      <td>35.7</td>\n",
       "      <td>77,300</td>\n",
       "      <td>No formal educational credential</td>\n",
       "    </tr>\n",
       "    <tr>\n",
       "      <td>Information security analysts</td>\n",
       "      <td>56.5</td>\n",
       "      <td>34.7</td>\n",
       "      <td>102,600</td>\n",
       "      <td>Bachelor's degree</td>\n",
       "    </tr>\n",
       "    <tr>\n",
       "      <td>Statisticians    * Analytical Statistician* Applied Statistician* Biometrician* Biostatistician* Environmental Statistician* Mathematical Statistician* Research Biostatistician* Sampling Expert* Statistical Analyst* Statistical Reporting Analyst* Statistician* Survey Statistician* Time Study Statistician</td>\n",
       "      <td>11.2</td>\n",
       "      <td>32.7</td>\n",
       "      <td>95,570</td>\n",
       "      <td>Master's degree</td>\n",
       "    </tr>\n",
       "    <tr>\n",
       "      <td>Umpires, referees, and other sports officials    * Athletic Events Scorer* Baseball Umpire* Diving Judge* Dressage Judge* Equestrian Events Judge* Handicapper* Horse Show Judge* Paddock Judge* Pit Steward* Placing Judge* Race Starter</td>\n",
       "      <td>4.2</td>\n",
       "      <td>31.7</td>\n",
       "      <td>35,860</td>\n",
       "      <td>High school diploma or equivalent</td>\n",
       "    </tr>\n",
       "  </tbody>\n",
       "</table>"
      ],
      "text/plain": [
       "<IPython.core.display.HTML object>"
      ]
     },
     "metadata": {},
     "output_type": "display_data"
    }
   ],
   "source": [
    "#sort values descending %\n",
    "top_jobs_df=new_proj_df.sort_values(['Employment Percent Change, 2021-2031'], ascending=False)\n",
    "top_jobs_df.head(10)\n",
    "\n",
    "# Convert the first dataframe to an HTML table\n",
    "html_table_top_perc = top_jobs_df.head(10).to_html(index=False, max_rows=None, max_cols=None, table_id='TopJobs%')\n",
    "\n",
    "# Set the column widths\n",
    "col_widths = [0.3, 0.7]\n",
    "\n",
    "# Concatenate the HTML tables\n",
    "html_tables = html_table_top + html_table_top_perc\n",
    "# Display the HTML table\n",
    "\n",
    "display(HTML(html_tables))\n",
    "\n",
    "with open(\"tables.html\", \"w\") as file:\n",
    "    file.write(html_table_top)\n"
   ]
  },
  {
   "cell_type": "code",
   "execution_count": 233,
   "id": "e959146b",
   "metadata": {
    "scrolled": true
   },
   "outputs": [
    {
     "data": {
      "text/html": [
       "<div>\n",
       "<style scoped>\n",
       "    .dataframe tbody tr th:only-of-type {\n",
       "        vertical-align: middle;\n",
       "    }\n",
       "\n",
       "    .dataframe tbody tr th {\n",
       "        vertical-align: top;\n",
       "    }\n",
       "\n",
       "    .dataframe thead th {\n",
       "        text-align: right;\n",
       "    }\n",
       "</style>\n",
       "<table border=\"1\" class=\"dataframe\">\n",
       "  <thead>\n",
       "    <tr style=\"text-align: right;\">\n",
       "      <th></th>\n",
       "      <th>Occupation Title</th>\n",
       "      <th>Employment Change, 2021-2031</th>\n",
       "      <th>Employment Percent Change, 2021-2031</th>\n",
       "      <th>Median Annual Wage 2021</th>\n",
       "      <th>Typical Entry-Level Education</th>\n",
       "    </tr>\n",
       "  </thead>\n",
       "  <tbody>\n",
       "    <tr>\n",
       "      <th>0</th>\n",
       "      <td>Cashiers    * Cash Register Operator* Check Ou...</td>\n",
       "      <td>-335.7</td>\n",
       "      <td>-10.0</td>\n",
       "      <td>27,260</td>\n",
       "      <td>No formal educational credential</td>\n",
       "    </tr>\n",
       "    <tr>\n",
       "      <th>1</th>\n",
       "      <td>Secretaries and administrative assistants, exc...</td>\n",
       "      <td>-207.6</td>\n",
       "      <td>-10.0</td>\n",
       "      <td>37,880</td>\n",
       "      <td>High school diploma or equivalent</td>\n",
       "    </tr>\n",
       "    <tr>\n",
       "      <th>2</th>\n",
       "      <td>Office clerks, general    * Administrative Cle...</td>\n",
       "      <td>-130.8</td>\n",
       "      <td>-4.8</td>\n",
       "      <td>37,030</td>\n",
       "      <td>High school diploma or equivalent</td>\n",
       "    </tr>\n",
       "    <tr>\n",
       "      <th>3</th>\n",
       "      <td>Customer service representatives    * Complain...</td>\n",
       "      <td>-105.3</td>\n",
       "      <td>-3.6</td>\n",
       "      <td>36,920</td>\n",
       "      <td>High school diploma or equivalent</td>\n",
       "    </tr>\n",
       "    <tr>\n",
       "      <th>4</th>\n",
       "      <td>Executive secretaries and executive administra...</td>\n",
       "      <td>-102.6</td>\n",
       "      <td>-20.2</td>\n",
       "      <td>62,060</td>\n",
       "      <td>High school diploma or equivalent</td>\n",
       "    </tr>\n",
       "    <tr>\n",
       "      <th>5</th>\n",
       "      <td>Miscellaneous assemblers and fabricators</td>\n",
       "      <td>-96.4</td>\n",
       "      <td>-7.1</td>\n",
       "      <td>36,590</td>\n",
       "      <td>High school diploma or equivalent</td>\n",
       "    </tr>\n",
       "    <tr>\n",
       "      <th>6</th>\n",
       "      <td>First-line supervisors of retail sales workers...</td>\n",
       "      <td>-78.2</td>\n",
       "      <td>-5.2</td>\n",
       "      <td>39,230</td>\n",
       "      <td>High school diploma or equivalent</td>\n",
       "    </tr>\n",
       "    <tr>\n",
       "      <th>7</th>\n",
       "      <td>Bookkeeping, accounting, and auditing clerks  ...</td>\n",
       "      <td>-77.2</td>\n",
       "      <td>-4.5</td>\n",
       "      <td>45,560</td>\n",
       "      <td>Some college, no degree</td>\n",
       "    </tr>\n",
       "    <tr>\n",
       "      <th>8</th>\n",
       "      <td>Cooks, fast food    * Fast Food Cook* Fast Foo...</td>\n",
       "      <td>-69.1</td>\n",
       "      <td>-8.7</td>\n",
       "      <td>24,180</td>\n",
       "      <td>No formal educational credential</td>\n",
       "    </tr>\n",
       "    <tr>\n",
       "      <th>9</th>\n",
       "      <td>Shipping, receiving, and inventory clerks    *...</td>\n",
       "      <td>-57.1</td>\n",
       "      <td>-7.0</td>\n",
       "      <td>36,890</td>\n",
       "      <td>High school diploma or equivalent</td>\n",
       "    </tr>\n",
       "  </tbody>\n",
       "</table>\n",
       "</div>"
      ],
      "text/plain": [
       "                                    Occupation Title  \\\n",
       "0  Cashiers    * Cash Register Operator* Check Ou...   \n",
       "1  Secretaries and administrative assistants, exc...   \n",
       "2  Office clerks, general    * Administrative Cle...   \n",
       "3  Customer service representatives    * Complain...   \n",
       "4  Executive secretaries and executive administra...   \n",
       "5           Miscellaneous assemblers and fabricators   \n",
       "6  First-line supervisors of retail sales workers...   \n",
       "7  Bookkeeping, accounting, and auditing clerks  ...   \n",
       "8  Cooks, fast food    * Fast Food Cook* Fast Foo...   \n",
       "9  Shipping, receiving, and inventory clerks    *...   \n",
       "\n",
       "   Employment Change, 2021-2031  Employment Percent Change, 2021-2031  \\\n",
       "0                        -335.7                                 -10.0   \n",
       "1                        -207.6                                 -10.0   \n",
       "2                        -130.8                                  -4.8   \n",
       "3                        -105.3                                  -3.6   \n",
       "4                        -102.6                                 -20.2   \n",
       "5                         -96.4                                  -7.1   \n",
       "6                         -78.2                                  -5.2   \n",
       "7                         -77.2                                  -4.5   \n",
       "8                         -69.1                                  -8.7   \n",
       "9                         -57.1                                  -7.0   \n",
       "\n",
       "  Median Annual Wage 2021      Typical Entry-Level Education  \n",
       "0                  27,260   No formal educational credential  \n",
       "1                  37,880  High school diploma or equivalent  \n",
       "2                  37,030  High school diploma or equivalent  \n",
       "3                  36,920  High school diploma or equivalent  \n",
       "4                  62,060  High school diploma or equivalent  \n",
       "5                  36,590  High school diploma or equivalent  \n",
       "6                  39,230  High school diploma or equivalent  \n",
       "7                  45,560            Some college, no degree  \n",
       "8                  24,180   No formal educational credential  \n",
       "9                  36,890  High school diploma or equivalent  "
      ]
     },
     "execution_count": 233,
     "metadata": {},
     "output_type": "execute_result"
    }
   ],
   "source": [
    "#sort values ascending\n",
    "top_jobs_df=new_proj_df.sort_values(['Employment Change, 2021-2031'], ascending=True)\n",
    "top_jobs_df.reset_index(drop=True).head(10)"
   ]
  },
  {
   "cell_type": "code",
   "execution_count": 234,
   "id": "e7a3e540",
   "metadata": {},
   "outputs": [
    {
     "data": {
      "text/html": [
       "<div>\n",
       "<style scoped>\n",
       "    .dataframe tbody tr th:only-of-type {\n",
       "        vertical-align: middle;\n",
       "    }\n",
       "\n",
       "    .dataframe tbody tr th {\n",
       "        vertical-align: top;\n",
       "    }\n",
       "\n",
       "    .dataframe thead th {\n",
       "        text-align: right;\n",
       "    }\n",
       "</style>\n",
       "<table border=\"1\" class=\"dataframe\">\n",
       "  <thead>\n",
       "    <tr style=\"text-align: right;\">\n",
       "      <th></th>\n",
       "      <th>Occupation Title</th>\n",
       "      <th>Employment Change, 2021-2031</th>\n",
       "      <th>Employment Percent Change, 2021-2031</th>\n",
       "      <th>Median Annual Wage 2021</th>\n",
       "      <th>Typical Entry-Level Education</th>\n",
       "    </tr>\n",
       "  </thead>\n",
       "  <tbody>\n",
       "    <tr>\n",
       "      <th>0</th>\n",
       "      <td>Word processors and typists    * Clerk Typist*...</td>\n",
       "      <td>-17.6</td>\n",
       "      <td>-38.2</td>\n",
       "      <td>44,030</td>\n",
       "      <td>High school diploma or equivalent</td>\n",
       "    </tr>\n",
       "    <tr>\n",
       "      <th>1</th>\n",
       "      <td>Parking enforcement workers    * Meter Maid* P...</td>\n",
       "      <td>-3.2</td>\n",
       "      <td>-37.1</td>\n",
       "      <td>46,590</td>\n",
       "      <td>High school diploma or equivalent</td>\n",
       "    </tr>\n",
       "    <tr>\n",
       "      <th>2</th>\n",
       "      <td>Cutters and trimmers, hand    * Fur Trimmer* H...</td>\n",
       "      <td>-2.3</td>\n",
       "      <td>-28.4</td>\n",
       "      <td>30,230</td>\n",
       "      <td>No formal educational credential</td>\n",
       "    </tr>\n",
       "    <tr>\n",
       "      <th>3</th>\n",
       "      <td>Nuclear power reactor operators    * Nuclear C...</td>\n",
       "      <td>-1.3</td>\n",
       "      <td>-26.8</td>\n",
       "      <td>104,260</td>\n",
       "      <td>High school diploma or equivalent</td>\n",
       "    </tr>\n",
       "    <tr>\n",
       "      <th>4</th>\n",
       "      <td>Print binding and finishing workers    * Binde...</td>\n",
       "      <td>-10.5</td>\n",
       "      <td>-24.8</td>\n",
       "      <td>36,590</td>\n",
       "      <td>High school diploma or equivalent</td>\n",
       "    </tr>\n",
       "    <tr>\n",
       "      <th>5</th>\n",
       "      <td>Watch and clock repairers    * Antique Clock R...</td>\n",
       "      <td>-0.5</td>\n",
       "      <td>-24.7</td>\n",
       "      <td>44,250</td>\n",
       "      <td>High school diploma or equivalent</td>\n",
       "    </tr>\n",
       "    <tr>\n",
       "      <th>6</th>\n",
       "      <td>Data entry keyers    * Customs Entry Clerk* Da...</td>\n",
       "      <td>-38.5</td>\n",
       "      <td>-24.7</td>\n",
       "      <td>35,630</td>\n",
       "      <td>High school diploma or equivalent</td>\n",
       "    </tr>\n",
       "    <tr>\n",
       "      <th>7</th>\n",
       "      <td>Telephone operators    * 411 Directory Assista...</td>\n",
       "      <td>-1.0</td>\n",
       "      <td>-24.5</td>\n",
       "      <td>37,630</td>\n",
       "      <td>High school diploma or equivalent</td>\n",
       "    </tr>\n",
       "    <tr>\n",
       "      <th>8</th>\n",
       "      <td>Switchboard operators, including answering ser...</td>\n",
       "      <td>-11.8</td>\n",
       "      <td>-24.0</td>\n",
       "      <td>30,150</td>\n",
       "      <td>High school diploma or equivalent</td>\n",
       "    </tr>\n",
       "    <tr>\n",
       "      <th>9</th>\n",
       "      <td>Electronic equipment installers and repairers,...</td>\n",
       "      <td>-2.2</td>\n",
       "      <td>-23.4</td>\n",
       "      <td>40,670</td>\n",
       "      <td>High school diploma or equivalent</td>\n",
       "    </tr>\n",
       "  </tbody>\n",
       "</table>\n",
       "</div>"
      ],
      "text/plain": [
       "                                    Occupation Title  \\\n",
       "0  Word processors and typists    * Clerk Typist*...   \n",
       "1  Parking enforcement workers    * Meter Maid* P...   \n",
       "2  Cutters and trimmers, hand    * Fur Trimmer* H...   \n",
       "3  Nuclear power reactor operators    * Nuclear C...   \n",
       "4  Print binding and finishing workers    * Binde...   \n",
       "5  Watch and clock repairers    * Antique Clock R...   \n",
       "6  Data entry keyers    * Customs Entry Clerk* Da...   \n",
       "7  Telephone operators    * 411 Directory Assista...   \n",
       "8  Switchboard operators, including answering ser...   \n",
       "9  Electronic equipment installers and repairers,...   \n",
       "\n",
       "   Employment Change, 2021-2031  Employment Percent Change, 2021-2031  \\\n",
       "0                         -17.6                                 -38.2   \n",
       "1                          -3.2                                 -37.1   \n",
       "2                          -2.3                                 -28.4   \n",
       "3                          -1.3                                 -26.8   \n",
       "4                         -10.5                                 -24.8   \n",
       "5                          -0.5                                 -24.7   \n",
       "6                         -38.5                                 -24.7   \n",
       "7                          -1.0                                 -24.5   \n",
       "8                         -11.8                                 -24.0   \n",
       "9                          -2.2                                 -23.4   \n",
       "\n",
       "  Median Annual Wage 2021      Typical Entry-Level Education  \n",
       "0                  44,030  High school diploma or equivalent  \n",
       "1                  46,590  High school diploma or equivalent  \n",
       "2                  30,230   No formal educational credential  \n",
       "3                 104,260  High school diploma or equivalent  \n",
       "4                  36,590  High school diploma or equivalent  \n",
       "5                  44,250  High school diploma or equivalent  \n",
       "6                  35,630  High school diploma or equivalent  \n",
       "7                  37,630  High school diploma or equivalent  \n",
       "8                  30,150  High school diploma or equivalent  \n",
       "9                  40,670  High school diploma or equivalent  "
      ]
     },
     "execution_count": 234,
     "metadata": {},
     "output_type": "execute_result"
    }
   ],
   "source": [
    "#sort values ascending\n",
    "top_jobs_df=new_proj_df.sort_values(['Employment Percent Change, 2021-2031'], ascending=True)\n",
    "top_jobs_df.reset_index(drop=True).head(10)"
   ]
  },
  {
   "cell_type": "code",
   "execution_count": 235,
   "id": "ed778600",
   "metadata": {},
   "outputs": [
    {
     "data": {
      "application/vnd.jupyter.widget-view+json": {
       "model_id": "c62abc7e7d94488883690e9e0c9d8ce1",
       "version_major": 2,
       "version_minor": 0
      },
      "text/plain": [
       "Text(value='', placeholder='Search by occupation title')"
      ]
     },
     "metadata": {},
     "output_type": "display_data"
    },
    {
     "data": {
      "application/vnd.jupyter.widget-view+json": {
       "model_id": "f4f450cbda874956b767c4696fa92317",
       "version_major": 2,
       "version_minor": 0
      },
      "text/plain": [
       "HTML(value='<table border=\"1\" class=\"dataframe\">\\n  <thead>\\n    <tr style=\"text-align: right;\">\\n      <th>Oc…"
      ]
     },
     "metadata": {},
     "output_type": "display_data"
    },
    {
     "name": "stdout",
     "output_type": "stream",
     "text": [
      "Filtering by value: a\n",
      "                                    Occupation Title Occupation Code  \\\n",
      "0  Accountants and auditors    * Account Auditor*...         13-2011   \n",
      "1  Actors    * Actor Understudy* Actress* Dramati...         27-2011   \n",
      "2  Actuaries    * Actuarial Associate* Actuarial ...         15-2011   \n",
      "3                                     Acupuncturists         29-1291   \n",
      "4  Adhesive bonding machine operators and tenders...         51-9191   \n",
      "\n",
      "  Employment 2021 Employment 2031  Employment Change, 2021-2031  \\\n",
      "0        1,449.80        1,531.60                          81.8   \n",
      "1            50.6            54.7                           4.1   \n",
      "2            28.3            34.2                           5.9   \n",
      "3            23.7            24.6                           0.9   \n",
      "4            12.7            12.9                           0.2   \n",
      "\n",
      "   Employment Percent Change, 2021-2031  \\\n",
      "0                                   5.6   \n",
      "1                                   8.2   \n",
      "2                                  20.8   \n",
      "3                                   3.9   \n",
      "4                                   1.5   \n",
      "\n",
      "   Occupational Openings, 2021-2031 Annual Average Median Annual Wage 2021  \\\n",
      "0                                            136.4                  77,250   \n",
      "1                                              7.0                     NaN   \n",
      "2                                              2.4                 105,900   \n",
      "3                                              1.7                  60,570   \n",
      "4                                              1.6                  37,630   \n",
      "\n",
      "       Typical Entry-Level Education  Education Code  \\\n",
      "0                  Bachelor's degree               3   \n",
      "1            Some college, no degree               6   \n",
      "2                  Bachelor's degree               3   \n",
      "3                    Master's degree               2   \n",
      "4  High school diploma or equivalent               7   \n",
      "\n",
      "  Work Experience in a Related Occupation  Workex Code  \\\n",
      "0                                    None            4   \n",
      "1                                    None            4   \n",
      "2                                    None            4   \n",
      "3                                    None            4   \n",
      "4                                    None            4   \n",
      "\n",
      "         Typical on-the-job Training  trCode  \n",
      "0                               None       6  \n",
      "1      Long-term on-the-job training       3  \n",
      "2      Long-term on-the-job training       3  \n",
      "3                               None       6  \n",
      "4  Moderate-term on-the-job training       4  \n",
      "Filtering by value: ac\n",
      "                                    Occupation Title Occupation Code  \\\n",
      "0  Accountants and auditors    * Account Auditor*...         13-2011   \n",
      "1  Actors    * Actor Understudy* Actress* Dramati...         27-2011   \n",
      "2  Actuaries    * Actuarial Associate* Actuarial ...         15-2011   \n",
      "3                                     Acupuncturists         29-1291   \n",
      "4  Adhesive bonding machine operators and tenders...         51-9191   \n",
      "\n",
      "  Employment 2021 Employment 2031  Employment Change, 2021-2031  \\\n",
      "0        1,449.80        1,531.60                          81.8   \n",
      "1            50.6            54.7                           4.1   \n",
      "2            28.3            34.2                           5.9   \n",
      "3            23.7            24.6                           0.9   \n",
      "4            12.7            12.9                           0.2   \n",
      "\n",
      "   Employment Percent Change, 2021-2031  \\\n",
      "0                                   5.6   \n",
      "1                                   8.2   \n",
      "2                                  20.8   \n",
      "3                                   3.9   \n",
      "4                                   1.5   \n",
      "\n",
      "   Occupational Openings, 2021-2031 Annual Average Median Annual Wage 2021  \\\n",
      "0                                            136.4                  77,250   \n",
      "1                                              7.0                     NaN   \n",
      "2                                              2.4                 105,900   \n",
      "3                                              1.7                  60,570   \n",
      "4                                              1.6                  37,630   \n",
      "\n",
      "       Typical Entry-Level Education  Education Code  \\\n",
      "0                  Bachelor's degree               3   \n",
      "1            Some college, no degree               6   \n",
      "2                  Bachelor's degree               3   \n",
      "3                    Master's degree               2   \n",
      "4  High school diploma or equivalent               7   \n",
      "\n",
      "  Work Experience in a Related Occupation  Workex Code  \\\n",
      "0                                    None            4   \n",
      "1                                    None            4   \n",
      "2                                    None            4   \n",
      "3                                    None            4   \n",
      "4                                    None            4   \n",
      "\n",
      "         Typical on-the-job Training  trCode  \n",
      "0                               None       6  \n",
      "1      Long-term on-the-job training       3  \n",
      "2      Long-term on-the-job training       3  \n",
      "3                               None       6  \n",
      "4  Moderate-term on-the-job training       4  \n",
      "Filtering by value: acc\n",
      "                                     Occupation Title Occupation Code  \\\n",
      "0   Accountants and auditors    * Account Auditor*...         13-2011   \n",
      "9   Advertising sales agents    * Advertising Acco...         41-3011   \n",
      "65  Bill and account collectors    * Accounts Coll...         43-3011   \n",
      "66  Billing and posting clerks    * Billing Clerk*...         43-3021   \n",
      "73  Bookkeeping, accounting, and auditing clerks  ...         43-3031   \n",
      "\n",
      "   Employment 2021 Employment 2031  Employment Change, 2021-2031  \\\n",
      "0         1,449.80        1,531.60                          81.8   \n",
      "9            100.7            92.7                          -8.0   \n",
      "65           215.4           197.9                         -17.5   \n",
      "66           445.3             450                           4.7   \n",
      "73        1,707.80        1,630.60                         -77.2   \n",
      "\n",
      "    Employment Percent Change, 2021-2031  \\\n",
      "0                                    5.6   \n",
      "9                                   -7.9   \n",
      "65                                  -8.1   \n",
      "66                                   1.1   \n",
      "73                                  -4.5   \n",
      "\n",
      "    Occupational Openings, 2021-2031 Annual Average Median Annual Wage 2021  \\\n",
      "0                                             136.4                  77,250   \n",
      "9                                              10.9                  52,340   \n",
      "65                                             22.1                  37,700   \n",
      "66                                             51.5                  38,330   \n",
      "73                                            197.6                  45,560   \n",
      "\n",
      "        Typical Entry-Level Education  Education Code  \\\n",
      "0                   Bachelor's degree               3   \n",
      "9   High school diploma or equivalent               7   \n",
      "65  High school diploma or equivalent               7   \n",
      "66  High school diploma or equivalent               7   \n",
      "73            Some college, no degree               6   \n",
      "\n",
      "   Work Experience in a Related Occupation  Workex Code  \\\n",
      "0                                     None            4   \n",
      "9                                     None            4   \n",
      "65                                    None            4   \n",
      "66                                    None            4   \n",
      "73                                    None            4   \n",
      "\n",
      "          Typical on-the-job Training  trCode  \n",
      "0                                None       6  \n",
      "9   Moderate-term on-the-job training       4  \n",
      "65  Moderate-term on-the-job training       4  \n",
      "66  Moderate-term on-the-job training       4  \n",
      "73  Moderate-term on-the-job training       4  \n",
      "Filtering by value: accc\n",
      "Empty DataFrame\n",
      "Columns: [Occupation Title, Occupation Code, Employment 2021, Employment 2031, Employment Change, 2021-2031, Employment Percent Change, 2021-2031, Occupational Openings, 2021-2031 Annual Average, Median Annual Wage 2021, Typical Entry-Level Education, Education Code, Work Experience in a Related Occupation, Workex Code, Typical on-the-job Training, trCode]\n",
      "Index: []\n",
      "Filtering by value: accco\n",
      "Empty DataFrame\n",
      "Columns: [Occupation Title, Occupation Code, Employment 2021, Employment 2031, Employment Change, 2021-2031, Employment Percent Change, 2021-2031, Occupational Openings, 2021-2031 Annual Average, Median Annual Wage 2021, Typical Entry-Level Education, Education Code, Work Experience in a Related Occupation, Workex Code, Typical on-the-job Training, trCode]\n",
      "Index: []\n"
     ]
    },
    {
     "name": "stdout",
     "output_type": "stream",
     "text": [
      "Filtering by value: acccou\n",
      "Empty DataFrame\n",
      "Columns: [Occupation Title, Occupation Code, Employment 2021, Employment 2031, Employment Change, 2021-2031, Employment Percent Change, 2021-2031, Occupational Openings, 2021-2031 Annual Average, Median Annual Wage 2021, Typical Entry-Level Education, Education Code, Work Experience in a Related Occupation, Workex Code, Typical on-the-job Training, trCode]\n",
      "Index: []\n",
      "Filtering by value: accco\n",
      "Empty DataFrame\n",
      "Columns: [Occupation Title, Occupation Code, Employment 2021, Employment 2031, Employment Change, 2021-2031, Employment Percent Change, 2021-2031, Occupational Openings, 2021-2031 Annual Average, Median Annual Wage 2021, Typical Entry-Level Education, Education Code, Work Experience in a Related Occupation, Workex Code, Typical on-the-job Training, trCode]\n",
      "Index: []\n",
      "Filtering by value: accc\n",
      "Empty DataFrame\n",
      "Columns: [Occupation Title, Occupation Code, Employment 2021, Employment 2031, Employment Change, 2021-2031, Employment Percent Change, 2021-2031, Occupational Openings, 2021-2031 Annual Average, Median Annual Wage 2021, Typical Entry-Level Education, Education Code, Work Experience in a Related Occupation, Workex Code, Typical on-the-job Training, trCode]\n",
      "Index: []\n",
      "Filtering by value: acc\n",
      "                                     Occupation Title Occupation Code  \\\n",
      "0   Accountants and auditors    * Account Auditor*...         13-2011   \n",
      "9   Advertising sales agents    * Advertising Acco...         41-3011   \n",
      "65  Bill and account collectors    * Accounts Coll...         43-3011   \n",
      "66  Billing and posting clerks    * Billing Clerk*...         43-3021   \n",
      "73  Bookkeeping, accounting, and auditing clerks  ...         43-3031   \n",
      "\n",
      "   Employment 2021 Employment 2031  Employment Change, 2021-2031  \\\n",
      "0         1,449.80        1,531.60                          81.8   \n",
      "9            100.7            92.7                          -8.0   \n",
      "65           215.4           197.9                         -17.5   \n",
      "66           445.3             450                           4.7   \n",
      "73        1,707.80        1,630.60                         -77.2   \n",
      "\n",
      "    Employment Percent Change, 2021-2031  \\\n",
      "0                                    5.6   \n",
      "9                                   -7.9   \n",
      "65                                  -8.1   \n",
      "66                                   1.1   \n",
      "73                                  -4.5   \n",
      "\n",
      "    Occupational Openings, 2021-2031 Annual Average Median Annual Wage 2021  \\\n",
      "0                                             136.4                  77,250   \n",
      "9                                              10.9                  52,340   \n",
      "65                                             22.1                  37,700   \n",
      "66                                             51.5                  38,330   \n",
      "73                                            197.6                  45,560   \n",
      "\n",
      "        Typical Entry-Level Education  Education Code  \\\n",
      "0                   Bachelor's degree               3   \n",
      "9   High school diploma or equivalent               7   \n",
      "65  High school diploma or equivalent               7   \n",
      "66  High school diploma or equivalent               7   \n",
      "73            Some college, no degree               6   \n",
      "\n",
      "   Work Experience in a Related Occupation  Workex Code  \\\n",
      "0                                     None            4   \n",
      "9                                     None            4   \n",
      "65                                    None            4   \n",
      "66                                    None            4   \n",
      "73                                    None            4   \n",
      "\n",
      "          Typical on-the-job Training  trCode  \n",
      "0                                None       6  \n",
      "9   Moderate-term on-the-job training       4  \n",
      "65  Moderate-term on-the-job training       4  \n",
      "66  Moderate-term on-the-job training       4  \n",
      "73  Moderate-term on-the-job training       4  \n",
      "Filtering by value: acco\n",
      "                                     Occupation Title Occupation Code  \\\n",
      "0   Accountants and auditors    * Account Auditor*...         13-2011   \n",
      "9   Advertising sales agents    * Advertising Acco...         41-3011   \n",
      "65  Bill and account collectors    * Accounts Coll...         43-3011   \n",
      "66  Billing and posting clerks    * Billing Clerk*...         43-3021   \n",
      "73  Bookkeeping, accounting, and auditing clerks  ...         43-3031   \n",
      "\n",
      "   Employment 2021 Employment 2031  Employment Change, 2021-2031  \\\n",
      "0         1,449.80        1,531.60                          81.8   \n",
      "9            100.7            92.7                          -8.0   \n",
      "65           215.4           197.9                         -17.5   \n",
      "66           445.3             450                           4.7   \n",
      "73        1,707.80        1,630.60                         -77.2   \n",
      "\n",
      "    Employment Percent Change, 2021-2031  \\\n",
      "0                                    5.6   \n",
      "9                                   -7.9   \n",
      "65                                  -8.1   \n",
      "66                                   1.1   \n",
      "73                                  -4.5   \n",
      "\n",
      "    Occupational Openings, 2021-2031 Annual Average Median Annual Wage 2021  \\\n",
      "0                                             136.4                  77,250   \n",
      "9                                              10.9                  52,340   \n",
      "65                                             22.1                  37,700   \n",
      "66                                             51.5                  38,330   \n",
      "73                                            197.6                  45,560   \n",
      "\n",
      "        Typical Entry-Level Education  Education Code  \\\n",
      "0                   Bachelor's degree               3   \n",
      "9   High school diploma or equivalent               7   \n",
      "65  High school diploma or equivalent               7   \n",
      "66  High school diploma or equivalent               7   \n",
      "73            Some college, no degree               6   \n",
      "\n",
      "   Work Experience in a Related Occupation  Workex Code  \\\n",
      "0                                     None            4   \n",
      "9                                     None            4   \n",
      "65                                    None            4   \n",
      "66                                    None            4   \n",
      "73                                    None            4   \n",
      "\n",
      "          Typical on-the-job Training  trCode  \n",
      "0                                None       6  \n",
      "9   Moderate-term on-the-job training       4  \n",
      "65  Moderate-term on-the-job training       4  \n",
      "66  Moderate-term on-the-job training       4  \n",
      "73  Moderate-term on-the-job training       4  \n",
      "Filtering by value: accou\n",
      "                                     Occupation Title Occupation Code  \\\n",
      "0   Accountants and auditors    * Account Auditor*...         13-2011   \n",
      "9   Advertising sales agents    * Advertising Acco...         41-3011   \n",
      "65  Bill and account collectors    * Accounts Coll...         43-3011   \n",
      "66  Billing and posting clerks    * Billing Clerk*...         43-3021   \n",
      "73  Bookkeeping, accounting, and auditing clerks  ...         43-3031   \n",
      "\n",
      "   Employment 2021 Employment 2031  Employment Change, 2021-2031  \\\n",
      "0         1,449.80        1,531.60                          81.8   \n",
      "9            100.7            92.7                          -8.0   \n",
      "65           215.4           197.9                         -17.5   \n",
      "66           445.3             450                           4.7   \n",
      "73        1,707.80        1,630.60                         -77.2   \n",
      "\n",
      "    Employment Percent Change, 2021-2031  \\\n",
      "0                                    5.6   \n",
      "9                                   -7.9   \n",
      "65                                  -8.1   \n",
      "66                                   1.1   \n",
      "73                                  -4.5   \n",
      "\n",
      "    Occupational Openings, 2021-2031 Annual Average Median Annual Wage 2021  \\\n",
      "0                                             136.4                  77,250   \n",
      "9                                              10.9                  52,340   \n",
      "65                                             22.1                  37,700   \n",
      "66                                             51.5                  38,330   \n",
      "73                                            197.6                  45,560   \n",
      "\n",
      "        Typical Entry-Level Education  Education Code  \\\n",
      "0                   Bachelor's degree               3   \n",
      "9   High school diploma or equivalent               7   \n",
      "65  High school diploma or equivalent               7   \n",
      "66  High school diploma or equivalent               7   \n",
      "73            Some college, no degree               6   \n",
      "\n",
      "   Work Experience in a Related Occupation  Workex Code  \\\n",
      "0                                     None            4   \n",
      "9                                     None            4   \n",
      "65                                    None            4   \n",
      "66                                    None            4   \n",
      "73                                    None            4   \n",
      "\n",
      "          Typical on-the-job Training  trCode  \n",
      "0                                None       6  \n",
      "9   Moderate-term on-the-job training       4  \n",
      "65  Moderate-term on-the-job training       4  \n",
      "66  Moderate-term on-the-job training       4  \n",
      "73  Moderate-term on-the-job training       4  \n"
     ]
    },
    {
     "name": "stdout",
     "output_type": "stream",
     "text": [
      "Filtering by value: accoun\n",
      "                                     Occupation Title Occupation Code  \\\n",
      "0   Accountants and auditors    * Account Auditor*...         13-2011   \n",
      "9   Advertising sales agents    * Advertising Acco...         41-3011   \n",
      "65  Bill and account collectors    * Accounts Coll...         43-3011   \n",
      "66  Billing and posting clerks    * Billing Clerk*...         43-3021   \n",
      "73  Bookkeeping, accounting, and auditing clerks  ...         43-3031   \n",
      "\n",
      "   Employment 2021 Employment 2031  Employment Change, 2021-2031  \\\n",
      "0         1,449.80        1,531.60                          81.8   \n",
      "9            100.7            92.7                          -8.0   \n",
      "65           215.4           197.9                         -17.5   \n",
      "66           445.3             450                           4.7   \n",
      "73        1,707.80        1,630.60                         -77.2   \n",
      "\n",
      "    Employment Percent Change, 2021-2031  \\\n",
      "0                                    5.6   \n",
      "9                                   -7.9   \n",
      "65                                  -8.1   \n",
      "66                                   1.1   \n",
      "73                                  -4.5   \n",
      "\n",
      "    Occupational Openings, 2021-2031 Annual Average Median Annual Wage 2021  \\\n",
      "0                                             136.4                  77,250   \n",
      "9                                              10.9                  52,340   \n",
      "65                                             22.1                  37,700   \n",
      "66                                             51.5                  38,330   \n",
      "73                                            197.6                  45,560   \n",
      "\n",
      "        Typical Entry-Level Education  Education Code  \\\n",
      "0                   Bachelor's degree               3   \n",
      "9   High school diploma or equivalent               7   \n",
      "65  High school diploma or equivalent               7   \n",
      "66  High school diploma or equivalent               7   \n",
      "73            Some college, no degree               6   \n",
      "\n",
      "   Work Experience in a Related Occupation  Workex Code  \\\n",
      "0                                     None            4   \n",
      "9                                     None            4   \n",
      "65                                    None            4   \n",
      "66                                    None            4   \n",
      "73                                    None            4   \n",
      "\n",
      "          Typical on-the-job Training  trCode  \n",
      "0                                None       6  \n",
      "9   Moderate-term on-the-job training       4  \n",
      "65  Moderate-term on-the-job training       4  \n",
      "66  Moderate-term on-the-job training       4  \n",
      "73  Moderate-term on-the-job training       4  \n",
      "Filtering by value: account\n",
      "                                     Occupation Title Occupation Code  \\\n",
      "0   Accountants and auditors    * Account Auditor*...         13-2011   \n",
      "9   Advertising sales agents    * Advertising Acco...         41-3011   \n",
      "65  Bill and account collectors    * Accounts Coll...         43-3011   \n",
      "66  Billing and posting clerks    * Billing Clerk*...         43-3021   \n",
      "73  Bookkeeping, accounting, and auditing clerks  ...         43-3031   \n",
      "\n",
      "   Employment 2021 Employment 2031  Employment Change, 2021-2031  \\\n",
      "0         1,449.80        1,531.60                          81.8   \n",
      "9            100.7            92.7                          -8.0   \n",
      "65           215.4           197.9                         -17.5   \n",
      "66           445.3             450                           4.7   \n",
      "73        1,707.80        1,630.60                         -77.2   \n",
      "\n",
      "    Employment Percent Change, 2021-2031  \\\n",
      "0                                    5.6   \n",
      "9                                   -7.9   \n",
      "65                                  -8.1   \n",
      "66                                   1.1   \n",
      "73                                  -4.5   \n",
      "\n",
      "    Occupational Openings, 2021-2031 Annual Average Median Annual Wage 2021  \\\n",
      "0                                             136.4                  77,250   \n",
      "9                                              10.9                  52,340   \n",
      "65                                             22.1                  37,700   \n",
      "66                                             51.5                  38,330   \n",
      "73                                            197.6                  45,560   \n",
      "\n",
      "        Typical Entry-Level Education  Education Code  \\\n",
      "0                   Bachelor's degree               3   \n",
      "9   High school diploma or equivalent               7   \n",
      "65  High school diploma or equivalent               7   \n",
      "66  High school diploma or equivalent               7   \n",
      "73            Some college, no degree               6   \n",
      "\n",
      "   Work Experience in a Related Occupation  Workex Code  \\\n",
      "0                                     None            4   \n",
      "9                                     None            4   \n",
      "65                                    None            4   \n",
      "66                                    None            4   \n",
      "73                                    None            4   \n",
      "\n",
      "          Typical on-the-job Training  trCode  \n",
      "0                                None       6  \n",
      "9   Moderate-term on-the-job training       4  \n",
      "65  Moderate-term on-the-job training       4  \n",
      "66  Moderate-term on-the-job training       4  \n",
      "73  Moderate-term on-the-job training       4  \n",
      "Filtering by value: accounta\n",
      "                                    Occupation Title Occupation Code  \\\n",
      "0  Accountants and auditors    * Account Auditor*...         13-2011   \n",
      "\n",
      "  Employment 2021 Employment 2031  Employment Change, 2021-2031  \\\n",
      "0        1,449.80        1,531.60                          81.8   \n",
      "\n",
      "   Employment Percent Change, 2021-2031  \\\n",
      "0                                   5.6   \n",
      "\n",
      "   Occupational Openings, 2021-2031 Annual Average Median Annual Wage 2021  \\\n",
      "0                                            136.4                  77,250   \n",
      "\n",
      "  Typical Entry-Level Education  Education Code  \\\n",
      "0             Bachelor's degree               3   \n",
      "\n",
      "  Work Experience in a Related Occupation  Workex Code  \\\n",
      "0                                    None            4   \n",
      "\n",
      "  Typical on-the-job Training  trCode  \n",
      "0                        None       6  \n",
      "Filtering by value: \n",
      "                                    Occupation Title Occupation Code  \\\n",
      "0  Accountants and auditors    * Account Auditor*...         13-2011   \n",
      "1  Actors    * Actor Understudy* Actress* Dramati...         27-2011   \n",
      "2  Actuaries    * Actuarial Associate* Actuarial ...         15-2011   \n",
      "3                                     Acupuncturists         29-1291   \n",
      "4  Adhesive bonding machine operators and tenders...         51-9191   \n",
      "\n",
      "  Employment 2021 Employment 2031  Employment Change, 2021-2031  \\\n",
      "0        1,449.80        1,531.60                          81.8   \n",
      "1            50.6            54.7                           4.1   \n",
      "2            28.3            34.2                           5.9   \n",
      "3            23.7            24.6                           0.9   \n",
      "4            12.7            12.9                           0.2   \n",
      "\n",
      "   Employment Percent Change, 2021-2031  \\\n",
      "0                                   5.6   \n",
      "1                                   8.2   \n",
      "2                                  20.8   \n",
      "3                                   3.9   \n",
      "4                                   1.5   \n",
      "\n",
      "   Occupational Openings, 2021-2031 Annual Average Median Annual Wage 2021  \\\n",
      "0                                            136.4                  77,250   \n",
      "1                                              7.0                     NaN   \n",
      "2                                              2.4                 105,900   \n",
      "3                                              1.7                  60,570   \n",
      "4                                              1.6                  37,630   \n",
      "\n",
      "       Typical Entry-Level Education  Education Code  \\\n",
      "0                  Bachelor's degree               3   \n",
      "1            Some college, no degree               6   \n",
      "2                  Bachelor's degree               3   \n",
      "3                    Master's degree               2   \n",
      "4  High school diploma or equivalent               7   \n",
      "\n",
      "  Work Experience in a Related Occupation  Workex Code  \\\n",
      "0                                    None            4   \n",
      "1                                    None            4   \n",
      "2                                    None            4   \n",
      "3                                    None            4   \n",
      "4                                    None            4   \n",
      "\n",
      "         Typical on-the-job Training  trCode  \n",
      "0                               None       6  \n",
      "1      Long-term on-the-job training       3  \n",
      "2      Long-term on-the-job training       3  \n",
      "3                               None       6  \n",
      "4  Moderate-term on-the-job training       4  \n"
     ]
    },
    {
     "name": "stdout",
     "output_type": "stream",
     "text": [
      "Filtering by value: a\n",
      "                                    Occupation Title  \\\n",
      "0  Accountants and auditors    * Account Auditor*...   \n",
      "1  Actors    * Actor Understudy* Actress* Dramati...   \n",
      "2  Actuaries    * Actuarial Associate* Actuarial ...   \n",
      "3                                     Acupuncturists   \n",
      "4  Adhesive bonding machine operators and tenders...   \n",
      "\n",
      "   Employment Change, 2021-2031  Employment Percent Change, 2021-2031  \\\n",
      "0                          81.8                                   5.6   \n",
      "1                           4.1                                   8.2   \n",
      "2                           5.9                                  20.8   \n",
      "3                           0.9                                   3.9   \n",
      "4                           0.2                                   1.5   \n",
      "\n",
      "  Median Annual Wage 2021      Typical Entry-Level Education  \n",
      "0                  77,250                  Bachelor's degree  \n",
      "1                     NaN            Some college, no degree  \n",
      "2                 105,900                  Bachelor's degree  \n",
      "3                  60,570                    Master's degree  \n",
      "4                  37,630  High school diploma or equivalent  \n",
      "Filtering by value: ac\n",
      "                                    Occupation Title  \\\n",
      "0  Accountants and auditors    * Account Auditor*...   \n",
      "1  Actors    * Actor Understudy* Actress* Dramati...   \n",
      "2  Actuaries    * Actuarial Associate* Actuarial ...   \n",
      "3                                     Acupuncturists   \n",
      "4  Adhesive bonding machine operators and tenders...   \n",
      "\n",
      "   Employment Change, 2021-2031  Employment Percent Change, 2021-2031  \\\n",
      "0                          81.8                                   5.6   \n",
      "1                           4.1                                   8.2   \n",
      "2                           5.9                                  20.8   \n",
      "3                           0.9                                   3.9   \n",
      "4                           0.2                                   1.5   \n",
      "\n",
      "  Median Annual Wage 2021      Typical Entry-Level Education  \n",
      "0                  77,250                  Bachelor's degree  \n",
      "1                     NaN            Some college, no degree  \n",
      "2                 105,900                  Bachelor's degree  \n",
      "3                  60,570                    Master's degree  \n",
      "4                  37,630  High school diploma or equivalent  \n",
      "Filtering by value: acc\n",
      "                                     Occupation Title  \\\n",
      "0   Accountants and auditors    * Account Auditor*...   \n",
      "9   Advertising sales agents    * Advertising Acco...   \n",
      "65  Bill and account collectors    * Accounts Coll...   \n",
      "66  Billing and posting clerks    * Billing Clerk*...   \n",
      "73  Bookkeeping, accounting, and auditing clerks  ...   \n",
      "\n",
      "    Employment Change, 2021-2031  Employment Percent Change, 2021-2031  \\\n",
      "0                           81.8                                   5.6   \n",
      "9                           -8.0                                  -7.9   \n",
      "65                         -17.5                                  -8.1   \n",
      "66                           4.7                                   1.1   \n",
      "73                         -77.2                                  -4.5   \n",
      "\n",
      "   Median Annual Wage 2021      Typical Entry-Level Education  \n",
      "0                   77,250                  Bachelor's degree  \n",
      "9                   52,340  High school diploma or equivalent  \n",
      "65                  37,700  High school diploma or equivalent  \n",
      "66                  38,330  High school diploma or equivalent  \n",
      "73                  45,560            Some college, no degree  \n",
      "Filtering by value: acco\n",
      "                                     Occupation Title  \\\n",
      "0   Accountants and auditors    * Account Auditor*...   \n",
      "9   Advertising sales agents    * Advertising Acco...   \n",
      "65  Bill and account collectors    * Accounts Coll...   \n",
      "66  Billing and posting clerks    * Billing Clerk*...   \n",
      "73  Bookkeeping, accounting, and auditing clerks  ...   \n",
      "\n",
      "    Employment Change, 2021-2031  Employment Percent Change, 2021-2031  \\\n",
      "0                           81.8                                   5.6   \n",
      "9                           -8.0                                  -7.9   \n",
      "65                         -17.5                                  -8.1   \n",
      "66                           4.7                                   1.1   \n",
      "73                         -77.2                                  -4.5   \n",
      "\n",
      "   Median Annual Wage 2021      Typical Entry-Level Education  \n",
      "0                   77,250                  Bachelor's degree  \n",
      "9                   52,340  High school diploma or equivalent  \n",
      "65                  37,700  High school diploma or equivalent  \n",
      "66                  38,330  High school diploma or equivalent  \n",
      "73                  45,560            Some college, no degree  \n",
      "Filtering by value: accou\n",
      "                                     Occupation Title  \\\n",
      "0   Accountants and auditors    * Account Auditor*...   \n",
      "9   Advertising sales agents    * Advertising Acco...   \n",
      "65  Bill and account collectors    * Accounts Coll...   \n",
      "66  Billing and posting clerks    * Billing Clerk*...   \n",
      "73  Bookkeeping, accounting, and auditing clerks  ...   \n",
      "\n",
      "    Employment Change, 2021-2031  Employment Percent Change, 2021-2031  \\\n",
      "0                           81.8                                   5.6   \n",
      "9                           -8.0                                  -7.9   \n",
      "65                         -17.5                                  -8.1   \n",
      "66                           4.7                                   1.1   \n",
      "73                         -77.2                                  -4.5   \n",
      "\n",
      "   Median Annual Wage 2021      Typical Entry-Level Education  \n",
      "0                   77,250                  Bachelor's degree  \n",
      "9                   52,340  High school diploma or equivalent  \n",
      "65                  37,700  High school diploma or equivalent  \n",
      "66                  38,330  High school diploma or equivalent  \n",
      "73                  45,560            Some college, no degree  \n",
      "Filtering by value: accoun\n",
      "                                     Occupation Title  \\\n",
      "0   Accountants and auditors    * Account Auditor*...   \n",
      "9   Advertising sales agents    * Advertising Acco...   \n",
      "65  Bill and account collectors    * Accounts Coll...   \n",
      "66  Billing and posting clerks    * Billing Clerk*...   \n",
      "73  Bookkeeping, accounting, and auditing clerks  ...   \n",
      "\n",
      "    Employment Change, 2021-2031  Employment Percent Change, 2021-2031  \\\n",
      "0                           81.8                                   5.6   \n",
      "9                           -8.0                                  -7.9   \n",
      "65                         -17.5                                  -8.1   \n",
      "66                           4.7                                   1.1   \n",
      "73                         -77.2                                  -4.5   \n",
      "\n",
      "   Median Annual Wage 2021      Typical Entry-Level Education  \n",
      "0                   77,250                  Bachelor's degree  \n",
      "9                   52,340  High school diploma or equivalent  \n",
      "65                  37,700  High school diploma or equivalent  \n",
      "66                  38,330  High school diploma or equivalent  \n",
      "73                  45,560            Some college, no degree  \n",
      "Filtering by value: account\n",
      "                                     Occupation Title  \\\n",
      "0   Accountants and auditors    * Account Auditor*...   \n",
      "9   Advertising sales agents    * Advertising Acco...   \n",
      "65  Bill and account collectors    * Accounts Coll...   \n",
      "66  Billing and posting clerks    * Billing Clerk*...   \n",
      "73  Bookkeeping, accounting, and auditing clerks  ...   \n",
      "\n",
      "    Employment Change, 2021-2031  Employment Percent Change, 2021-2031  \\\n",
      "0                           81.8                                   5.6   \n",
      "9                           -8.0                                  -7.9   \n",
      "65                         -17.5                                  -8.1   \n",
      "66                           4.7                                   1.1   \n",
      "73                         -77.2                                  -4.5   \n",
      "\n",
      "   Median Annual Wage 2021      Typical Entry-Level Education  \n",
      "0                   77,250                  Bachelor's degree  \n",
      "9                   52,340  High school diploma or equivalent  \n",
      "65                  37,700  High school diploma or equivalent  \n",
      "66                  38,330  High school diploma or equivalent  \n",
      "73                  45,560            Some college, no degree  \n"
     ]
    },
    {
     "name": "stdout",
     "output_type": "stream",
     "text": [
      "Filtering by value: accounti\n",
      "                                     Occupation Title  \\\n",
      "73  Bookkeeping, accounting, and auditing clerks  ...   \n",
      "85  Business teachers, postsecondary    * Accounti...   \n",
      "\n",
      "    Employment Change, 2021-2031  Employment Percent Change, 2021-2031  \\\n",
      "73                         -77.2                                  -4.5   \n",
      "85                           6.4                                   6.2   \n",
      "\n",
      "   Median Annual Wage 2021    Typical Entry-Level Education  \n",
      "73                  45,560          Some college, no degree  \n",
      "85                  94,360  Doctoral or professional degree  \n",
      "Filtering by value: accountin\n",
      "                                     Occupation Title  \\\n",
      "73  Bookkeeping, accounting, and auditing clerks  ...   \n",
      "85  Business teachers, postsecondary    * Accounti...   \n",
      "\n",
      "    Employment Change, 2021-2031  Employment Percent Change, 2021-2031  \\\n",
      "73                         -77.2                                  -4.5   \n",
      "85                           6.4                                   6.2   \n",
      "\n",
      "   Median Annual Wage 2021    Typical Entry-Level Education  \n",
      "73                  45,560          Some college, no degree  \n",
      "85                  94,360  Doctoral or professional degree  \n",
      "Filtering by value: accounting\n",
      "                                     Occupation Title  \\\n",
      "73  Bookkeeping, accounting, and auditing clerks  ...   \n",
      "85  Business teachers, postsecondary    * Accounti...   \n",
      "\n",
      "    Employment Change, 2021-2031  Employment Percent Change, 2021-2031  \\\n",
      "73                         -77.2                                  -4.5   \n",
      "85                           6.4                                   6.2   \n",
      "\n",
      "   Median Annual Wage 2021    Typical Entry-Level Education  \n",
      "73                  45,560          Some college, no degree  \n",
      "85                  94,360  Doctoral or professional degree  \n",
      "Filtering by value: \n",
      "                                    Occupation Title  \\\n",
      "0  Accountants and auditors    * Account Auditor*...   \n",
      "1  Actors    * Actor Understudy* Actress* Dramati...   \n",
      "2  Actuaries    * Actuarial Associate* Actuarial ...   \n",
      "3                                     Acupuncturists   \n",
      "4  Adhesive bonding machine operators and tenders...   \n",
      "\n",
      "   Employment Change, 2021-2031  Employment Percent Change, 2021-2031  \\\n",
      "0                          81.8                                   5.6   \n",
      "1                           4.1                                   8.2   \n",
      "2                           5.9                                  20.8   \n",
      "3                           0.9                                   3.9   \n",
      "4                           0.2                                   1.5   \n",
      "\n",
      "  Median Annual Wage 2021      Typical Entry-Level Education  \n",
      "0                  77,250                  Bachelor's degree  \n",
      "1                     NaN            Some college, no degree  \n",
      "2                 105,900                  Bachelor's degree  \n",
      "3                  60,570                    Master's degree  \n",
      "4                  37,630  High school diploma or equivalent  \n",
      "Filtering by value: a\n",
      "                                    Occupation Title  \\\n",
      "0  Accountants and auditors    * Account Auditor*...   \n",
      "1  Actors    * Actor Understudy* Actress* Dramati...   \n",
      "2  Actuaries    * Actuarial Associate* Actuarial ...   \n",
      "3                                     Acupuncturists   \n",
      "4  Adhesive bonding machine operators and tenders...   \n",
      "\n",
      "   Employment Change, 2021-2031  Employment Percent Change, 2021-2031  \\\n",
      "0                          81.8                                   5.6   \n",
      "1                           4.1                                   8.2   \n",
      "2                           5.9                                  20.8   \n",
      "3                           0.9                                   3.9   \n",
      "4                           0.2                                   1.5   \n",
      "\n",
      "  Median Annual Wage 2021      Typical Entry-Level Education  \n",
      "0                  77,250                  Bachelor's degree  \n",
      "1                     NaN            Some college, no degree  \n",
      "2                 105,900                  Bachelor's degree  \n",
      "3                  60,570                    Master's degree  \n",
      "4                  37,630  High school diploma or equivalent  \n",
      "Filtering by value: ac\n",
      "                                    Occupation Title  \\\n",
      "0  Accountants and auditors    * Account Auditor*...   \n",
      "1  Actors    * Actor Understudy* Actress* Dramati...   \n",
      "2  Actuaries    * Actuarial Associate* Actuarial ...   \n",
      "3                                     Acupuncturists   \n",
      "4  Adhesive bonding machine operators and tenders...   \n",
      "\n",
      "   Employment Change, 2021-2031  Employment Percent Change, 2021-2031  \\\n",
      "0                          81.8                                   5.6   \n",
      "1                           4.1                                   8.2   \n",
      "2                           5.9                                  20.8   \n",
      "3                           0.9                                   3.9   \n",
      "4                           0.2                                   1.5   \n",
      "\n",
      "  Median Annual Wage 2021      Typical Entry-Level Education  \n",
      "0                  77,250                  Bachelor's degree  \n",
      "1                     NaN            Some college, no degree  \n",
      "2                 105,900                  Bachelor's degree  \n",
      "3                  60,570                    Master's degree  \n",
      "4                  37,630  High school diploma or equivalent  \n",
      "Filtering by value: acc\n",
      "                                     Occupation Title  \\\n",
      "0   Accountants and auditors    * Account Auditor*...   \n",
      "9   Advertising sales agents    * Advertising Acco...   \n",
      "65  Bill and account collectors    * Accounts Coll...   \n",
      "66  Billing and posting clerks    * Billing Clerk*...   \n",
      "73  Bookkeeping, accounting, and auditing clerks  ...   \n",
      "\n",
      "    Employment Change, 2021-2031  Employment Percent Change, 2021-2031  \\\n",
      "0                           81.8                                   5.6   \n",
      "9                           -8.0                                  -7.9   \n",
      "65                         -17.5                                  -8.1   \n",
      "66                           4.7                                   1.1   \n",
      "73                         -77.2                                  -4.5   \n",
      "\n",
      "   Median Annual Wage 2021      Typical Entry-Level Education  \n",
      "0                   77,250                  Bachelor's degree  \n",
      "9                   52,340  High school diploma or equivalent  \n",
      "65                  37,700  High school diploma or equivalent  \n",
      "66                  38,330  High school diploma or equivalent  \n",
      "73                  45,560            Some college, no degree  \n",
      "Filtering by value: ac\n",
      "                                    Occupation Title  \\\n",
      "0  Accountants and auditors    * Account Auditor*...   \n",
      "1  Actors    * Actor Understudy* Actress* Dramati...   \n",
      "2  Actuaries    * Actuarial Associate* Actuarial ...   \n",
      "3                                     Acupuncturists   \n",
      "4  Adhesive bonding machine operators and tenders...   \n",
      "\n",
      "   Employment Change, 2021-2031  Employment Percent Change, 2021-2031  \\\n",
      "0                          81.8                                   5.6   \n",
      "1                           4.1                                   8.2   \n",
      "2                           5.9                                  20.8   \n",
      "3                           0.9                                   3.9   \n",
      "4                           0.2                                   1.5   \n",
      "\n",
      "  Median Annual Wage 2021      Typical Entry-Level Education  \n",
      "0                  77,250                  Bachelor's degree  \n",
      "1                     NaN            Some college, no degree  \n",
      "2                 105,900                  Bachelor's degree  \n",
      "3                  60,570                    Master's degree  \n",
      "4                  37,630  High school diploma or equivalent  \n",
      "Filtering by value: a\n",
      "                                    Occupation Title  \\\n",
      "0  Accountants and auditors    * Account Auditor*...   \n",
      "1  Actors    * Actor Understudy* Actress* Dramati...   \n",
      "2  Actuaries    * Actuarial Associate* Actuarial ...   \n",
      "3                                     Acupuncturists   \n",
      "4  Adhesive bonding machine operators and tenders...   \n",
      "\n",
      "   Employment Change, 2021-2031  Employment Percent Change, 2021-2031  \\\n",
      "0                          81.8                                   5.6   \n",
      "1                           4.1                                   8.2   \n",
      "2                           5.9                                  20.8   \n",
      "3                           0.9                                   3.9   \n",
      "4                           0.2                                   1.5   \n",
      "\n",
      "  Median Annual Wage 2021      Typical Entry-Level Education  \n",
      "0                  77,250                  Bachelor's degree  \n",
      "1                     NaN            Some college, no degree  \n",
      "2                 105,900                  Bachelor's degree  \n",
      "3                  60,570                    Master's degree  \n",
      "4                  37,630  High school diploma or equivalent  \n"
     ]
    },
    {
     "name": "stdout",
     "output_type": "stream",
     "text": [
      "Filtering by value: \n",
      "                                    Occupation Title  \\\n",
      "0  Accountants and auditors    * Account Auditor*...   \n",
      "1  Actors    * Actor Understudy* Actress* Dramati...   \n",
      "2  Actuaries    * Actuarial Associate* Actuarial ...   \n",
      "3                                     Acupuncturists   \n",
      "4  Adhesive bonding machine operators and tenders...   \n",
      "\n",
      "   Employment Change, 2021-2031  Employment Percent Change, 2021-2031  \\\n",
      "0                          81.8                                   5.6   \n",
      "1                           4.1                                   8.2   \n",
      "2                           5.9                                  20.8   \n",
      "3                           0.9                                   3.9   \n",
      "4                           0.2                                   1.5   \n",
      "\n",
      "  Median Annual Wage 2021      Typical Entry-Level Education  \n",
      "0                  77,250                  Bachelor's degree  \n",
      "1                     NaN            Some college, no degree  \n",
      "2                 105,900                  Bachelor's degree  \n",
      "3                  60,570                    Master's degree  \n",
      "4                  37,630  High school diploma or equivalent  \n"
     ]
    }
   ],
   "source": [
    "# Load the project data\n",
    "new_proj_df = pd.read_csv(\"Employment Projections.csv\")\n",
    "\n",
    "# Define the function to update the table based on the user input\n",
    "def update_table(change):\n",
    "    value = change['new']\n",
    "    print(f\"Filtering by value: {value}\")\n",
    "    filtered = new_proj_df[new_proj_df['Occupation Title'].str.contains(value, case=False)]\n",
    "    print(filtered.head()) # print the first 5 rows of the filtered DataFrame for debugging\n",
    "    table_html = filtered.to_html(index=False)\n",
    "    table.value = table_html\n",
    "\n",
    "# Create a text box for the user input\n",
    "search_box = widgets.Text(placeholder='Search by occupation title')\n",
    "\n",
    "# Call the update_table function when the user input changes\n",
    "search_box.observe(update_table, names='value')\n",
    "\n",
    "# Create the initial table\n",
    "table_html = new_proj_df.to_html(index=False)\n",
    "table = widgets.HTML(value=table_html)\n",
    "\n",
    "# Display the search box and the table\n",
    "display(search_box)\n",
    "display(table)\n"
   ]
  },
  {
   "cell_type": "code",
   "execution_count": 304,
   "id": "fe198692",
   "metadata": {},
   "outputs": [
    {
     "data": {
      "text/plain": [
       "{'status': 'REQUEST_SUCCEEDED',\n",
       " 'responseTime': 270,\n",
       " 'message': [],\n",
       " 'Results': {'series': [{'seriesID': 'CUSR0000SA0',\n",
       "    'catalog': {'series_title': 'All items in U.S. city average, all urban consumers, seasonally adjusted',\n",
       "     'series_id': 'CUSR0000SA0',\n",
       "     'seasonality': 'Seasonally Adjusted',\n",
       "     'survey_name': 'CPI for All Urban Consumers (CPI-U)',\n",
       "     'survey_abbreviation': 'CU',\n",
       "     'measure_data_type': 'All items',\n",
       "     'area': 'U.S. city average',\n",
       "     'item': 'All items'},\n",
       "    'data': [{'year': '2023',\n",
       "      'period': 'M02',\n",
       "      'periodName': 'February',\n",
       "      'latest': 'true',\n",
       "      'value': '301.648',\n",
       "      'footnotes': [{}]},\n",
       "     {'year': '2023',\n",
       "      'period': 'M01',\n",
       "      'periodName': 'January',\n",
       "      'value': '300.536',\n",
       "      'footnotes': [{}]},\n",
       "     {'year': '2022',\n",
       "      'period': 'M12',\n",
       "      'periodName': 'December',\n",
       "      'value': '298.990',\n",
       "      'footnotes': [{}]},\n",
       "     {'year': '2022',\n",
       "      'period': 'M11',\n",
       "      'periodName': 'November',\n",
       "      'value': '298.598',\n",
       "      'footnotes': [{}]},\n",
       "     {'year': '2022',\n",
       "      'period': 'M10',\n",
       "      'periodName': 'October',\n",
       "      'value': '297.987',\n",
       "      'footnotes': [{}]},\n",
       "     {'year': '2022',\n",
       "      'period': 'M09',\n",
       "      'periodName': 'September',\n",
       "      'value': '296.539',\n",
       "      'footnotes': [{}]},\n",
       "     {'year': '2022',\n",
       "      'period': 'M08',\n",
       "      'periodName': 'August',\n",
       "      'value': '295.320',\n",
       "      'footnotes': [{}]},\n",
       "     {'year': '2022',\n",
       "      'period': 'M07',\n",
       "      'periodName': 'July',\n",
       "      'value': '294.628',\n",
       "      'footnotes': [{}]},\n",
       "     {'year': '2022',\n",
       "      'period': 'M06',\n",
       "      'periodName': 'June',\n",
       "      'value': '294.728',\n",
       "      'footnotes': [{}]},\n",
       "     {'year': '2022',\n",
       "      'period': 'M05',\n",
       "      'periodName': 'May',\n",
       "      'value': '291.268',\n",
       "      'footnotes': [{}]},\n",
       "     {'year': '2022',\n",
       "      'period': 'M04',\n",
       "      'periodName': 'April',\n",
       "      'value': '288.611',\n",
       "      'footnotes': [{}]},\n",
       "     {'year': '2022',\n",
       "      'period': 'M03',\n",
       "      'periodName': 'March',\n",
       "      'value': '287.472',\n",
       "      'footnotes': [{}]},\n",
       "     {'year': '2022',\n",
       "      'period': 'M02',\n",
       "      'periodName': 'February',\n",
       "      'value': '284.610',\n",
       "      'footnotes': [{}]},\n",
       "     {'year': '2022',\n",
       "      'period': 'M01',\n",
       "      'periodName': 'January',\n",
       "      'value': '282.599',\n",
       "      'footnotes': [{}]},\n",
       "     {'year': '2021',\n",
       "      'period': 'M12',\n",
       "      'periodName': 'December',\n",
       "      'value': '280.887',\n",
       "      'footnotes': [{}]},\n",
       "     {'year': '2021',\n",
       "      'period': 'M11',\n",
       "      'periodName': 'November',\n",
       "      'value': '278.711',\n",
       "      'footnotes': [{}]},\n",
       "     {'year': '2021',\n",
       "      'period': 'M10',\n",
       "      'periodName': 'October',\n",
       "      'value': '276.522',\n",
       "      'footnotes': [{}]},\n",
       "     {'year': '2021',\n",
       "      'period': 'M09',\n",
       "      'periodName': 'September',\n",
       "      'value': '274.028',\n",
       "      'footnotes': [{}]},\n",
       "     {'year': '2021',\n",
       "      'period': 'M08',\n",
       "      'periodName': 'August',\n",
       "      'value': '272.870',\n",
       "      'footnotes': [{}]},\n",
       "     {'year': '2021',\n",
       "      'period': 'M07',\n",
       "      'periodName': 'July',\n",
       "      'value': '271.764',\n",
       "      'footnotes': [{}]},\n",
       "     {'year': '2021',\n",
       "      'period': 'M06',\n",
       "      'periodName': 'June',\n",
       "      'value': '270.559',\n",
       "      'footnotes': [{}]},\n",
       "     {'year': '2021',\n",
       "      'period': 'M05',\n",
       "      'periodName': 'May',\n",
       "      'value': '268.444',\n",
       "      'footnotes': [{}]},\n",
       "     {'year': '2021',\n",
       "      'period': 'M04',\n",
       "      'periodName': 'April',\n",
       "      'value': '266.670',\n",
       "      'footnotes': [{}]},\n",
       "     {'year': '2021',\n",
       "      'period': 'M03',\n",
       "      'periodName': 'March',\n",
       "      'value': '264.914',\n",
       "      'footnotes': [{}]},\n",
       "     {'year': '2021',\n",
       "      'period': 'M02',\n",
       "      'periodName': 'February',\n",
       "      'value': '263.638',\n",
       "      'footnotes': [{}]},\n",
       "     {'year': '2021',\n",
       "      'period': 'M01',\n",
       "      'periodName': 'January',\n",
       "      'value': '262.650',\n",
       "      'footnotes': [{}]},\n",
       "     {'year': '2020',\n",
       "      'period': 'M12',\n",
       "      'periodName': 'December',\n",
       "      'value': '262.035',\n",
       "      'footnotes': [{}]},\n",
       "     {'year': '2020',\n",
       "      'period': 'M11',\n",
       "      'periodName': 'November',\n",
       "      'value': '260.813',\n",
       "      'footnotes': [{}]},\n",
       "     {'year': '2020',\n",
       "      'period': 'M10',\n",
       "      'periodName': 'October',\n",
       "      'value': '260.286',\n",
       "      'footnotes': [{}]},\n",
       "     {'year': '2020',\n",
       "      'period': 'M09',\n",
       "      'periodName': 'September',\n",
       "      'value': '260.029',\n",
       "      'footnotes': [{}]},\n",
       "     {'year': '2020',\n",
       "      'period': 'M08',\n",
       "      'periodName': 'August',\n",
       "      'value': '259.411',\n",
       "      'footnotes': [{}]},\n",
       "     {'year': '2020',\n",
       "      'period': 'M07',\n",
       "      'periodName': 'July',\n",
       "      'value': '258.278',\n",
       "      'footnotes': [{}]},\n",
       "     {'year': '2020',\n",
       "      'period': 'M06',\n",
       "      'periodName': 'June',\n",
       "      'value': '256.986',\n",
       "      'footnotes': [{}]},\n",
       "     {'year': '2020',\n",
       "      'period': 'M05',\n",
       "      'periodName': 'May',\n",
       "      'value': '255.868',\n",
       "      'footnotes': [{}]},\n",
       "     {'year': '2020',\n",
       "      'period': 'M04',\n",
       "      'periodName': 'April',\n",
       "      'value': '256.092',\n",
       "      'footnotes': [{}]},\n",
       "     {'year': '2020',\n",
       "      'period': 'M03',\n",
       "      'periodName': 'March',\n",
       "      'value': '258.124',\n",
       "      'footnotes': [{}]},\n",
       "     {'year': '2020',\n",
       "      'period': 'M02',\n",
       "      'periodName': 'February',\n",
       "      'value': '259.248',\n",
       "      'footnotes': [{}]},\n",
       "     {'year': '2020',\n",
       "      'period': 'M01',\n",
       "      'periodName': 'January',\n",
       "      'value': '259.037',\n",
       "      'footnotes': [{}]},\n",
       "     {'year': '2019',\n",
       "      'period': 'M12',\n",
       "      'periodName': 'December',\n",
       "      'value': '258.616',\n",
       "      'footnotes': [{}]},\n",
       "     {'year': '2019',\n",
       "      'period': 'M11',\n",
       "      'periodName': 'November',\n",
       "      'value': '257.803',\n",
       "      'footnotes': [{}]},\n",
       "     {'year': '2019',\n",
       "      'period': 'M10',\n",
       "      'periodName': 'October',\n",
       "      'value': '257.244',\n",
       "      'footnotes': [{}]},\n",
       "     {'year': '2019',\n",
       "      'period': 'M09',\n",
       "      'periodName': 'September',\n",
       "      'value': '256.511',\n",
       "      'footnotes': [{}]},\n",
       "     {'year': '2019',\n",
       "      'period': 'M08',\n",
       "      'periodName': 'August',\n",
       "      'value': '256.059',\n",
       "      'footnotes': [{}]},\n",
       "     {'year': '2019',\n",
       "      'period': 'M07',\n",
       "      'periodName': 'July',\n",
       "      'value': '255.685',\n",
       "      'footnotes': [{}]},\n",
       "     {'year': '2019',\n",
       "      'period': 'M06',\n",
       "      'periodName': 'June',\n",
       "      'value': '255.159',\n",
       "      'footnotes': [{}]},\n",
       "     {'year': '2019',\n",
       "      'period': 'M05',\n",
       "      'periodName': 'May',\n",
       "      'value': '255.290',\n",
       "      'footnotes': [{}]},\n",
       "     {'year': '2019',\n",
       "      'period': 'M04',\n",
       "      'periodName': 'April',\n",
       "      'value': '255.211',\n",
       "      'footnotes': [{}]},\n",
       "     {'year': '2019',\n",
       "      'period': 'M03',\n",
       "      'periodName': 'March',\n",
       "      'value': '254.202',\n",
       "      'footnotes': [{}]},\n",
       "     {'year': '2019',\n",
       "      'period': 'M02',\n",
       "      'periodName': 'February',\n",
       "      'value': '253.322',\n",
       "      'footnotes': [{}]},\n",
       "     {'year': '2019',\n",
       "      'period': 'M01',\n",
       "      'periodName': 'January',\n",
       "      'value': '252.718',\n",
       "      'footnotes': [{}]},\n",
       "     {'year': '2018',\n",
       "      'period': 'M12',\n",
       "      'periodName': 'December',\n",
       "      'value': '252.767',\n",
       "      'footnotes': [{}]},\n",
       "     {'year': '2018',\n",
       "      'period': 'M11',\n",
       "      'periodName': 'November',\n",
       "      'value': '252.594',\n",
       "      'footnotes': [{}]},\n",
       "     {'year': '2018',\n",
       "      'period': 'M10',\n",
       "      'periodName': 'October',\n",
       "      'value': '252.772',\n",
       "      'footnotes': [{}]},\n",
       "     {'year': '2018',\n",
       "      'period': 'M09',\n",
       "      'periodName': 'September',\n",
       "      'value': '252.182',\n",
       "      'footnotes': [{}]},\n",
       "     {'year': '2018',\n",
       "      'period': 'M08',\n",
       "      'periodName': 'August',\n",
       "      'value': '251.663',\n",
       "      'footnotes': [{}]},\n",
       "     {'year': '2018',\n",
       "      'period': 'M07',\n",
       "      'periodName': 'July',\n",
       "      'value': '251.214',\n",
       "      'footnotes': [{}]},\n",
       "     {'year': '2018',\n",
       "      'period': 'M06',\n",
       "      'periodName': 'June',\n",
       "      'value': '251.018',\n",
       "      'footnotes': [{}]},\n",
       "     {'year': '2018',\n",
       "      'period': 'M05',\n",
       "      'periodName': 'May',\n",
       "      'value': '250.792',\n",
       "      'footnotes': [{}]},\n",
       "     {'year': '2018',\n",
       "      'period': 'M04',\n",
       "      'periodName': 'April',\n",
       "      'value': '250.227',\n",
       "      'footnotes': [{}]},\n",
       "     {'year': '2018',\n",
       "      'period': 'M03',\n",
       "      'periodName': 'March',\n",
       "      'value': '249.577',\n",
       "      'footnotes': [{}]},\n",
       "     {'year': '2018',\n",
       "      'period': 'M02',\n",
       "      'periodName': 'February',\n",
       "      'value': '249.529',\n",
       "      'footnotes': [{}]},\n",
       "     {'year': '2018',\n",
       "      'period': 'M01',\n",
       "      'periodName': 'January',\n",
       "      'value': '248.859',\n",
       "      'footnotes': [{}]},\n",
       "     {'year': '2017',\n",
       "      'period': 'M12',\n",
       "      'periodName': 'December',\n",
       "      'value': '247.805',\n",
       "      'footnotes': [{}]},\n",
       "     {'year': '2017',\n",
       "      'period': 'M11',\n",
       "      'periodName': 'November',\n",
       "      'value': '247.284',\n",
       "      'footnotes': [{}]},\n",
       "     {'year': '2017',\n",
       "      'period': 'M10',\n",
       "      'periodName': 'October',\n",
       "      'value': '246.626',\n",
       "      'footnotes': [{}]},\n",
       "     {'year': '2017',\n",
       "      'period': 'M09',\n",
       "      'periodName': 'September',\n",
       "      'value': '246.435',\n",
       "      'footnotes': [{}]},\n",
       "     {'year': '2017',\n",
       "      'period': 'M08',\n",
       "      'periodName': 'August',\n",
       "      'value': '245.183',\n",
       "      'footnotes': [{}]},\n",
       "     {'year': '2017',\n",
       "      'period': 'M07',\n",
       "      'periodName': 'July',\n",
       "      'value': '244.243',\n",
       "      'footnotes': [{}]},\n",
       "     {'year': '2017',\n",
       "      'period': 'M06',\n",
       "      'periodName': 'June',\n",
       "      'value': '244.163',\n",
       "      'footnotes': [{}]},\n",
       "     {'year': '2017',\n",
       "      'period': 'M05',\n",
       "      'periodName': 'May',\n",
       "      'value': '244.004',\n",
       "      'footnotes': [{}]},\n",
       "     {'year': '2017',\n",
       "      'period': 'M04',\n",
       "      'periodName': 'April',\n",
       "      'value': '244.193',\n",
       "      'footnotes': [{}]},\n",
       "     {'year': '2017',\n",
       "      'period': 'M03',\n",
       "      'periodName': 'March',\n",
       "      'value': '243.892',\n",
       "      'footnotes': [{}]},\n",
       "     {'year': '2017',\n",
       "      'period': 'M02',\n",
       "      'periodName': 'February',\n",
       "      'value': '244.006',\n",
       "      'footnotes': [{}]},\n",
       "     {'year': '2017',\n",
       "      'period': 'M01',\n",
       "      'periodName': 'January',\n",
       "      'value': '243.618',\n",
       "      'footnotes': [{}]},\n",
       "     {'year': '2016',\n",
       "      'period': 'M12',\n",
       "      'periodName': 'December',\n",
       "      'value': '242.637',\n",
       "      'footnotes': [{}]},\n",
       "     {'year': '2016',\n",
       "      'period': 'M11',\n",
       "      'periodName': 'November',\n",
       "      'value': '242.026',\n",
       "      'footnotes': [{}]},\n",
       "     {'year': '2016',\n",
       "      'period': 'M10',\n",
       "      'periodName': 'October',\n",
       "      'value': '241.741',\n",
       "      'footnotes': [{}]},\n",
       "     {'year': '2016',\n",
       "      'period': 'M09',\n",
       "      'periodName': 'September',\n",
       "      'value': '241.176',\n",
       "      'footnotes': [{}]},\n",
       "     {'year': '2016',\n",
       "      'period': 'M08',\n",
       "      'periodName': 'August',\n",
       "      'value': '240.545',\n",
       "      'footnotes': [{}]},\n",
       "     {'year': '2016',\n",
       "      'period': 'M07',\n",
       "      'periodName': 'July',\n",
       "      'value': '240.101',\n",
       "      'footnotes': [{}]},\n",
       "     {'year': '2016',\n",
       "      'period': 'M06',\n",
       "      'periodName': 'June',\n",
       "      'value': '240.222',\n",
       "      'footnotes': [{}]},\n",
       "     {'year': '2016',\n",
       "      'period': 'M05',\n",
       "      'periodName': 'May',\n",
       "      'value': '239.557',\n",
       "      'footnotes': [{}]},\n",
       "     {'year': '2016',\n",
       "      'period': 'M04',\n",
       "      'periodName': 'April',\n",
       "      'value': '238.992',\n",
       "      'footnotes': [{}]},\n",
       "     {'year': '2016',\n",
       "      'period': 'M03',\n",
       "      'periodName': 'March',\n",
       "      'value': '238.080',\n",
       "      'footnotes': [{}]},\n",
       "     {'year': '2016',\n",
       "      'period': 'M02',\n",
       "      'periodName': 'February',\n",
       "      'value': '237.336',\n",
       "      'footnotes': [{}]},\n",
       "     {'year': '2016',\n",
       "      'period': 'M01',\n",
       "      'periodName': 'January',\n",
       "      'value': '237.652',\n",
       "      'footnotes': [{}]},\n",
       "     {'year': '2015',\n",
       "      'period': 'M12',\n",
       "      'periodName': 'December',\n",
       "      'value': '237.761',\n",
       "      'footnotes': [{}]},\n",
       "     {'year': '2015',\n",
       "      'period': 'M11',\n",
       "      'periodName': 'November',\n",
       "      'value': '238.017',\n",
       "      'footnotes': [{}]},\n",
       "     {'year': '2015',\n",
       "      'period': 'M10',\n",
       "      'periodName': 'October',\n",
       "      'value': '237.733',\n",
       "      'footnotes': [{}]},\n",
       "     {'year': '2015',\n",
       "      'period': 'M09',\n",
       "      'periodName': 'September',\n",
       "      'value': '237.498',\n",
       "      'footnotes': [{}]},\n",
       "     {'year': '2015',\n",
       "      'period': 'M08',\n",
       "      'periodName': 'August',\n",
       "      'value': '238.033',\n",
       "      'footnotes': [{}]},\n",
       "     {'year': '2015',\n",
       "      'period': 'M07',\n",
       "      'periodName': 'July',\n",
       "      'value': '238.034',\n",
       "      'footnotes': [{}]},\n",
       "     {'year': '2015',\n",
       "      'period': 'M06',\n",
       "      'periodName': 'June',\n",
       "      'value': '237.657',\n",
       "      'footnotes': [{}]},\n",
       "     {'year': '2015',\n",
       "      'period': 'M05',\n",
       "      'periodName': 'May',\n",
       "      'value': '237.001',\n",
       "      'footnotes': [{}]},\n",
       "     {'year': '2015',\n",
       "      'period': 'M04',\n",
       "      'periodName': 'April',\n",
       "      'value': '236.222',\n",
       "      'footnotes': [{}]},\n",
       "     {'year': '2015',\n",
       "      'period': 'M03',\n",
       "      'periodName': 'March',\n",
       "      'value': '235.976',\n",
       "      'footnotes': [{}]},\n",
       "     {'year': '2015',\n",
       "      'period': 'M02',\n",
       "      'periodName': 'February',\n",
       "      'value': '235.342',\n",
       "      'footnotes': [{}]},\n",
       "     {'year': '2015',\n",
       "      'period': 'M01',\n",
       "      'periodName': 'January',\n",
       "      'value': '234.747',\n",
       "      'footnotes': [{}]},\n",
       "     {'year': '2014',\n",
       "      'period': 'M12',\n",
       "      'periodName': 'December',\n",
       "      'value': '236.252',\n",
       "      'footnotes': [{}]},\n",
       "     {'year': '2014',\n",
       "      'period': 'M11',\n",
       "      'periodName': 'November',\n",
       "      'value': '236.983',\n",
       "      'footnotes': [{}]},\n",
       "     {'year': '2014',\n",
       "      'period': 'M10',\n",
       "      'periodName': 'October',\n",
       "      'value': '237.430',\n",
       "      'footnotes': [{}]},\n",
       "     {'year': '2014',\n",
       "      'period': 'M09',\n",
       "      'periodName': 'September',\n",
       "      'value': '237.477',\n",
       "      'footnotes': [{}]},\n",
       "     {'year': '2014',\n",
       "      'period': 'M08',\n",
       "      'periodName': 'August',\n",
       "      'value': '237.460',\n",
       "      'footnotes': [{}]},\n",
       "     {'year': '2014',\n",
       "      'period': 'M07',\n",
       "      'periodName': 'July',\n",
       "      'value': '237.498',\n",
       "      'footnotes': [{}]},\n",
       "     {'year': '2014',\n",
       "      'period': 'M06',\n",
       "      'periodName': 'June',\n",
       "      'value': '237.231',\n",
       "      'footnotes': [{}]},\n",
       "     {'year': '2014',\n",
       "      'period': 'M05',\n",
       "      'periodName': 'May',\n",
       "      'value': '236.918',\n",
       "      'footnotes': [{}]},\n",
       "     {'year': '2014',\n",
       "      'period': 'M04',\n",
       "      'periodName': 'April',\n",
       "      'value': '236.468',\n",
       "      'footnotes': [{}]},\n",
       "     {'year': '2014',\n",
       "      'period': 'M03',\n",
       "      'periodName': 'March',\n",
       "      'value': '236.028',\n",
       "      'footnotes': [{}]},\n",
       "     {'year': '2014',\n",
       "      'period': 'M02',\n",
       "      'periodName': 'February',\n",
       "      'value': '235.547',\n",
       "      'footnotes': [{}]},\n",
       "     {'year': '2014',\n",
       "      'period': 'M01',\n",
       "      'periodName': 'January',\n",
       "      'value': '235.288',\n",
       "      'footnotes': [{}]},\n",
       "     {'year': '2013',\n",
       "      'period': 'M12',\n",
       "      'periodName': 'December',\n",
       "      'value': '234.719',\n",
       "      'footnotes': [{}]},\n",
       "     {'year': '2013',\n",
       "      'period': 'M11',\n",
       "      'periodName': 'November',\n",
       "      'value': '234.100',\n",
       "      'footnotes': [{}]},\n",
       "     {'year': '2013',\n",
       "      'period': 'M10',\n",
       "      'periodName': 'October',\n",
       "      'value': '233.669',\n",
       "      'footnotes': [{}]},\n",
       "     {'year': '2013',\n",
       "      'period': 'M09',\n",
       "      'periodName': 'September',\n",
       "      'value': '233.544',\n",
       "      'footnotes': [{}]},\n",
       "     {'year': '2013',\n",
       "      'period': 'M08',\n",
       "      'periodName': 'August',\n",
       "      'value': '233.456',\n",
       "      'footnotes': [{}]},\n",
       "     {'year': '2013',\n",
       "      'period': 'M07',\n",
       "      'periodName': 'July',\n",
       "      'value': '232.900',\n",
       "      'footnotes': [{}]},\n",
       "     {'year': '2013',\n",
       "      'period': 'M06',\n",
       "      'periodName': 'June',\n",
       "      'value': '232.445',\n",
       "      'footnotes': [{}]},\n",
       "     {'year': '2013',\n",
       "      'period': 'M05',\n",
       "      'periodName': 'May',\n",
       "      'value': '231.893',\n",
       "      'footnotes': [{}]},\n",
       "     {'year': '2013',\n",
       "      'period': 'M04',\n",
       "      'periodName': 'April',\n",
       "      'value': '231.797',\n",
       "      'footnotes': [{}]},\n",
       "     {'year': '2013',\n",
       "      'period': 'M03',\n",
       "      'periodName': 'March',\n",
       "      'value': '232.282',\n",
       "      'footnotes': [{}]},\n",
       "     {'year': '2013',\n",
       "      'period': 'M02',\n",
       "      'periodName': 'February',\n",
       "      'value': '232.937',\n",
       "      'footnotes': [{}]},\n",
       "     {'year': '2013',\n",
       "      'period': 'M01',\n",
       "      'periodName': 'January',\n",
       "      'value': '231.679',\n",
       "      'footnotes': [{}]},\n",
       "     {'year': '2012',\n",
       "      'period': 'M12',\n",
       "      'periodName': 'December',\n",
       "      'value': '231.221',\n",
       "      'footnotes': [{}]},\n",
       "     {'year': '2012',\n",
       "      'period': 'M11',\n",
       "      'periodName': 'November',\n",
       "      'value': '231.249',\n",
       "      'footnotes': [{}]},\n",
       "     {'year': '2012',\n",
       "      'period': 'M10',\n",
       "      'periodName': 'October',\n",
       "      'value': '231.638',\n",
       "      'footnotes': [{}]},\n",
       "     {'year': '2012',\n",
       "      'period': 'M09',\n",
       "      'periodName': 'September',\n",
       "      'value': '231.015',\n",
       "      'footnotes': [{}]},\n",
       "     {'year': '2012',\n",
       "      'period': 'M08',\n",
       "      'periodName': 'August',\n",
       "      'value': '229.918',\n",
       "      'footnotes': [{}]},\n",
       "     {'year': '2012',\n",
       "      'period': 'M07',\n",
       "      'periodName': 'July',\n",
       "      'value': '228.590',\n",
       "      'footnotes': [{}]},\n",
       "     {'year': '2012',\n",
       "      'period': 'M06',\n",
       "      'periodName': 'June',\n",
       "      'value': '228.524',\n",
       "      'footnotes': [{}]},\n",
       "     {'year': '2012',\n",
       "      'period': 'M05',\n",
       "      'periodName': 'May',\n",
       "      'value': '228.713',\n",
       "      'footnotes': [{}]},\n",
       "     {'year': '2012',\n",
       "      'period': 'M04',\n",
       "      'periodName': 'April',\n",
       "      'value': '229.187',\n",
       "      'footnotes': [{}]},\n",
       "     {'year': '2012',\n",
       "      'period': 'M03',\n",
       "      'periodName': 'March',\n",
       "      'value': '228.807',\n",
       "      'footnotes': [{}]},\n",
       "     {'year': '2012',\n",
       "      'period': 'M02',\n",
       "      'periodName': 'February',\n",
       "      'value': '228.329',\n",
       "      'footnotes': [{}]},\n",
       "     {'year': '2012',\n",
       "      'period': 'M01',\n",
       "      'periodName': 'January',\n",
       "      'value': '227.842',\n",
       "      'footnotes': [{}]},\n",
       "     {'year': '2011',\n",
       "      'period': 'M12',\n",
       "      'periodName': 'December',\n",
       "      'value': '227.223',\n",
       "      'footnotes': [{}]},\n",
       "     {'year': '2011',\n",
       "      'period': 'M11',\n",
       "      'periodName': 'November',\n",
       "      'value': '227.169',\n",
       "      'footnotes': [{}]},\n",
       "     {'year': '2011',\n",
       "      'period': 'M10',\n",
       "      'periodName': 'October',\n",
       "      'value': '226.750',\n",
       "      'footnotes': [{}]},\n",
       "     {'year': '2011',\n",
       "      'period': 'M09',\n",
       "      'periodName': 'September',\n",
       "      'value': '226.597',\n",
       "      'footnotes': [{}]},\n",
       "     {'year': '2011',\n",
       "      'period': 'M08',\n",
       "      'periodName': 'August',\n",
       "      'value': '226.106',\n",
       "      'footnotes': [{}]},\n",
       "     {'year': '2011',\n",
       "      'period': 'M07',\n",
       "      'periodName': 'July',\n",
       "      'value': '225.395',\n",
       "      'footnotes': [{}]},\n",
       "     {'year': '2011',\n",
       "      'period': 'M06',\n",
       "      'periodName': 'June',\n",
       "      'value': '224.806',\n",
       "      'footnotes': [{}]},\n",
       "     {'year': '2011',\n",
       "      'period': 'M05',\n",
       "      'periodName': 'May',\n",
       "      'value': '224.806',\n",
       "      'footnotes': [{}]},\n",
       "     {'year': '2011',\n",
       "      'period': 'M04',\n",
       "      'periodName': 'April',\n",
       "      'value': '224.093',\n",
       "      'footnotes': [{}]},\n",
       "     {'year': '2011',\n",
       "      'period': 'M03',\n",
       "      'periodName': 'March',\n",
       "      'value': '223.046',\n",
       "      'footnotes': [{}]},\n",
       "     {'year': '2011',\n",
       "      'period': 'M02',\n",
       "      'periodName': 'February',\n",
       "      'value': '221.898',\n",
       "      'footnotes': [{}]},\n",
       "     {'year': '2011',\n",
       "      'period': 'M01',\n",
       "      'periodName': 'January',\n",
       "      'value': '221.187',\n",
       "      'footnotes': [{}]},\n",
       "     {'year': '2010',\n",
       "      'period': 'M12',\n",
       "      'periodName': 'December',\n",
       "      'value': '220.472',\n",
       "      'footnotes': [{}]},\n",
       "     {'year': '2010',\n",
       "      'period': 'M11',\n",
       "      'periodName': 'November',\n",
       "      'value': '219.590',\n",
       "      'footnotes': [{}]},\n",
       "     {'year': '2010',\n",
       "      'period': 'M10',\n",
       "      'periodName': 'October',\n",
       "      'value': '219.035',\n",
       "      'footnotes': [{}]},\n",
       "     {'year': '2010',\n",
       "      'period': 'M09',\n",
       "      'periodName': 'September',\n",
       "      'value': '218.275',\n",
       "      'footnotes': [{}]},\n",
       "     {'year': '2010',\n",
       "      'period': 'M08',\n",
       "      'periodName': 'August',\n",
       "      'value': '217.923',\n",
       "      'footnotes': [{}]},\n",
       "     {'year': '2010',\n",
       "      'period': 'M07',\n",
       "      'periodName': 'July',\n",
       "      'value': '217.605',\n",
       "      'footnotes': [{}]},\n",
       "     {'year': '2010',\n",
       "      'period': 'M06',\n",
       "      'periodName': 'June',\n",
       "      'value': '217.199',\n",
       "      'footnotes': [{}]},\n",
       "     {'year': '2010',\n",
       "      'period': 'M05',\n",
       "      'periodName': 'May',\n",
       "      'value': '217.290',\n",
       "      'footnotes': [{}]},\n",
       "     {'year': '2010',\n",
       "      'period': 'M04',\n",
       "      'periodName': 'April',\n",
       "      'value': '217.403',\n",
       "      'footnotes': [{}]},\n",
       "     {'year': '2010',\n",
       "      'period': 'M03',\n",
       "      'periodName': 'March',\n",
       "      'value': '217.353',\n",
       "      'footnotes': [{}]},\n",
       "     {'year': '2010',\n",
       "      'period': 'M02',\n",
       "      'periodName': 'February',\n",
       "      'value': '217.281',\n",
       "      'footnotes': [{}]},\n",
       "     {'year': '2010',\n",
       "      'period': 'M01',\n",
       "      'periodName': 'January',\n",
       "      'value': '217.488',\n",
       "      'footnotes': [{}]}]}]}}"
      ]
     },
     "execution_count": 304,
     "metadata": {},
     "output_type": "execute_result"
    }
   ],
   "source": [
    "#series\n",
    "headers = {'Content-type': 'application/json'} #contains info about the message- such as destination\n",
    "\n",
    "# Submit the list of series as data - payload actual data being transmitted over a network\n",
    "data = json.dumps({\"seriesid\": ['CUSR0000SA0',#CPI for All Urban Consumers (CPI-U)\n",
    "                                                               ], \n",
    "                   'startyear':'2010', 'endyear':'2023',\n",
    "                   'catalog':True,\n",
    "                   'annualaverage':True,\n",
    "                   \"registrationkey\": api_key_bls}, indent=4)\n",
    "p2 = requests.post('https://api.bls.gov/publicAPI/v2/timeseries/data/', data=data, headers=headers)\n",
    "json_data = json.loads(p.text)\n",
    "p2.json()"
   ]
  },
  {
   "cell_type": "code",
   "execution_count": 307,
   "id": "e104b685",
   "metadata": {},
   "outputs": [
    {
     "name": "stdout",
     "output_type": "stream",
     "text": [
      "CUSR0000SA0\n"
     ]
    }
   ],
   "source": [
    "#create a list to create a DF\n",
    "\n",
    "list_columns= []\n",
    "\n",
    "\n",
    "for series in json_data['Results']['series']:\n",
    "\n",
    "     \n",
    "    seriesId = series['seriesID']\n",
    "    print(seriesId)\n",
    "    \n",
    "    if 'catalog' in series.keys():\n",
    "        seasonality = series['catalog']['seasonality']\n",
    "        survey_name = series['catalog']['survey_name']\n",
    "        measure_data_type = series['catalog']['measure_data_type']\n",
    "        item = series['catalog']['item']\n",
    "            \n",
    "        if 'commerce_industry' in series['catalog'].keys():\n",
    "            commerce_industry = series['catalog']['commerce_industry']\n",
    "            \n",
    "        else:\n",
    "            commerce_industry = None\n",
    "            \n",
    "            \n",
    "        if 'commerce_sector' in series['catalog'].keys():\n",
    "            commerce_sector = series['catalog']['commerce_sector']\n",
    "        else:\n",
    "            commerce_sector = None\n",
    "     \n",
    "        if 'area' in series['catalog'].keys():\n",
    "            area = series['catalog']['area']\n",
    "        else:\n",
    "            area = None\n",
    "    \n",
    "    \n",
    "    \n",
    "       # area= series['catalog']['area']\n",
    "    else:\n",
    "        seasonality = None\n",
    "        survey_name = None\n",
    "        measure_data_type = None\n",
    "        commerce_industry = None\n",
    "        commerce_sector = None\n",
    "        area= None\n",
    "    #add all variables & create a list to append to the list above\n",
    "    \n",
    "    \n",
    "    for item in series['data']:\n",
    "        year = item['year']\n",
    "        period = item['period']\n",
    "        periodName = item['periodName']\n",
    "        value = item['value']\n",
    "        \n",
    "        \n",
    "        list_columns.append([seriesId,seasonality,survey_name,measure_data_type,\n",
    "                             commerce_industry,commerce_sector,item,area,year,period,periodName,value])\n",
    "        \n",
    "inflation_df= pd.DataFrame(list_columns,columns=['seriesId','seasonality','survey_name','measure_data_type',\n",
    "                             'commerce_industry','commerce_sector','item','area','year','period','periodName','value'])\n",
    "\n",
    "\n",
    "inflation_df.to_csv(\"inflation.csv\", index= False, header=True)\n",
    "\n",
    "\n"
   ]
  },
  {
   "cell_type": "code",
   "execution_count": 366,
   "id": "e59b3af2",
   "metadata": {},
   "outputs": [
    {
     "data": {
      "text/plain": [
       "Index(['seriesId', 'seasonality', 'survey_name', 'measure_data_type',\n",
       "       'commerce_industry', 'commerce_sector', 'item', 'area', 'year',\n",
       "       'period', 'periodName', 'value'],\n",
       "      dtype='object')"
      ]
     },
     "execution_count": 366,
     "metadata": {},
     "output_type": "execute_result"
    }
   ],
   "source": [
    "inflation_df.columns"
   ]
  },
  {
   "cell_type": "code",
   "execution_count": 367,
   "id": "26e21ef9",
   "metadata": {},
   "outputs": [],
   "source": [
    "#change column value to Integer\n",
    "inflation_df['value'] = inflation_df['value'].apply(lambda x:float(x))"
   ]
  },
  {
   "cell_type": "code",
   "execution_count": 369,
   "id": "e18b9a4e",
   "metadata": {},
   "outputs": [
    {
     "ename": "TypeError",
     "evalue": "'DataFrame' object is not callable",
     "output_type": "error",
     "traceback": [
      "\u001b[1;31m---------------------------------------------------------------------------\u001b[0m",
      "\u001b[1;31mTypeError\u001b[0m                                 Traceback (most recent call last)",
      "\u001b[1;32m~\\AppData\\Local\\Temp\\ipykernel_21260\\899932692.py\u001b[0m in \u001b[0;36m<module>\u001b[1;34m\u001b[0m\n\u001b[0;32m      1\u001b[0m \u001b[0mnew_infl_df_pivot\u001b[0m \u001b[1;33m=\u001b[0m \u001b[0minflation_df\u001b[0m\u001b[1;33m.\u001b[0m\u001b[0mpivot_table\u001b[0m\u001b[1;33m(\u001b[0m\u001b[0mindex\u001b[0m\u001b[1;33m=\u001b[0m\u001b[1;33m[\u001b[0m\u001b[1;34m'year'\u001b[0m\u001b[1;33m]\u001b[0m\u001b[1;33m,\u001b[0m \u001b[0mcolumns\u001b[0m\u001b[1;33m=\u001b[0m\u001b[1;34m'periodName'\u001b[0m\u001b[1;33m,\u001b[0m \u001b[0mvalues\u001b[0m\u001b[1;33m=\u001b[0m\u001b[1;34m'value'\u001b[0m\u001b[1;33m)\u001b[0m\u001b[1;33m\u001b[0m\u001b[1;33m\u001b[0m\u001b[0m\n\u001b[1;32m----> 2\u001b[1;33m \u001b[0mnew_infl_df_pivot\u001b[0m\u001b[1;33m(\u001b[0m\u001b[1;33m)\u001b[0m\u001b[1;33m\u001b[0m\u001b[1;33m\u001b[0m\u001b[0m\n\u001b[0m",
      "\u001b[1;31mTypeError\u001b[0m: 'DataFrame' object is not callable"
     ]
    }
   ],
   "source": [
    "new_infl_df_pivot = inflation_df.pivot_table(index=['year'], columns='periodName', values='value')\n",
    "new_infl_df_pivot()"
   ]
  },
  {
   "cell_type": "code",
   "execution_count": 347,
   "id": "4105fece",
   "metadata": {},
   "outputs": [
    {
     "ename": "SyntaxError",
     "evalue": "invalid syntax (981021877.py, line 4)",
     "output_type": "error",
     "traceback": [
      "\u001b[1;36m  File \u001b[1;32m\"C:\\Users\\aumek\\AppData\\Local\\Temp\\ipykernel_21260\\981021877.py\"\u001b[1;36m, line \u001b[1;32m4\u001b[0m\n\u001b[1;33m    infl_df_pivot = new_infl_df_pivot.rename(columns{'January':'Jan', 'February':'Feb',\u001b[0m\n\u001b[1;37m                                                    ^\u001b[0m\n\u001b[1;31mSyntaxError\u001b[0m\u001b[1;31m:\u001b[0m invalid syntax\n"
     ]
    }
   ],
   "source": [
    "# pitot the data plot \n",
    "# https://data.bls.gov/timeseries/CUSR0000SA0&output_view=pct_1mth\n",
    "new_infl_df_pivot = inflation_df.pivot_table(index=['year'], columns='periodName', values='value')\n",
    "infl_df_pivot = new_infl_df_pivot.rename(columns{'Jnuary':'Jan', 'February':'Feb', \n",
    "                                                  'March':'Mar', 'April': 'Apr',\n",
    "                                                  'May':'May', 'June':'Jun', 'July':'Jul', \n",
    "                                                  'August':'Aug', 'September':'Sep', 'October':'Oct', \n",
    "                                                  'November':'Nov', 'December':'Dec'})\n",
    "infl_df_pivot"
   ]
  },
  {
   "cell_type": "code",
   "execution_count": 336,
   "id": "e0359992",
   "metadata": {},
   "outputs": [
    {
     "data": {
      "application/vnd.plotly.v1+json": {
       "config": {
        "plotlyServerURL": "https://plot.ly"
       },
       "data": [
        {
         "hovertemplate": "Year=%{x}<br>Value=%{y:.0f}<extra></extra>",
         "legendgroup": "Gross Job Gains",
         "line": {
          "color": "#636efa",
          "dash": "solid"
         },
         "marker": {
          "symbol": "circle"
         },
         "mode": "lines+markers",
         "name": "Gross Job Gains",
         "orientation": "v",
         "showlegend": true,
         "type": "scatter",
         "x": [
          "2010",
          "2011",
          "2012",
          "2013",
          "2014",
          "2015",
          "2016",
          "2017",
          "2018",
          "2019",
          "2020",
          "2021",
          "2022"
         ],
         "xaxis": "x",
         "y": [
          27113,
          27576,
          28122,
          28406,
          29271,
          29787,
          29729,
          30166,
          30394,
          30346,
          32425,
          34980,
          16691
         ],
         "yaxis": "y"
        },
        {
         "hovertemplate": "Year=%{x}<br>Value=%{y:.0f}<extra></extra>",
         "legendgroup": "Gross Job Losses",
         "line": {
          "color": "#EF553B",
          "dash": "solid"
         },
         "marker": {
          "symbol": "circle"
         },
         "mode": "lines+markers",
         "name": "Gross Job Losses",
         "orientation": "v",
         "showlegend": true,
         "type": "scatter",
         "x": [
          "2010",
          "2011",
          "2012",
          "2013",
          "2014",
          "2015",
          "2016",
          "2017",
          "2018",
          "2019",
          "2020",
          "2021",
          "2022"
         ],
         "xaxis": "x",
         "y": [
          25859,
          25484,
          25611,
          25967,
          26342,
          27303,
          28106,
          28145,
          28402,
          28788,
          41800,
          27868,
          15433
         ],
         "yaxis": "y"
        }
       ],
       "layout": {
        "hovermode": "x",
        "legend": {
         "title": {
          "text": "variable"
         },
         "tracegroupgap": 0
        },
        "margin": {
         "t": 60
        },
        "template": {
         "data": {
          "bar": [
           {
            "error_x": {
             "color": "#2a3f5f"
            },
            "error_y": {
             "color": "#2a3f5f"
            },
            "marker": {
             "line": {
              "color": "#E5ECF6",
              "width": 0.5
             },
             "pattern": {
              "fillmode": "overlay",
              "size": 10,
              "solidity": 0.2
             }
            },
            "type": "bar"
           }
          ],
          "barpolar": [
           {
            "marker": {
             "line": {
              "color": "#E5ECF6",
              "width": 0.5
             },
             "pattern": {
              "fillmode": "overlay",
              "size": 10,
              "solidity": 0.2
             }
            },
            "type": "barpolar"
           }
          ],
          "carpet": [
           {
            "aaxis": {
             "endlinecolor": "#2a3f5f",
             "gridcolor": "white",
             "linecolor": "white",
             "minorgridcolor": "white",
             "startlinecolor": "#2a3f5f"
            },
            "baxis": {
             "endlinecolor": "#2a3f5f",
             "gridcolor": "white",
             "linecolor": "white",
             "minorgridcolor": "white",
             "startlinecolor": "#2a3f5f"
            },
            "type": "carpet"
           }
          ],
          "choropleth": [
           {
            "colorbar": {
             "outlinewidth": 0,
             "ticks": ""
            },
            "type": "choropleth"
           }
          ],
          "contour": [
           {
            "colorbar": {
             "outlinewidth": 0,
             "ticks": ""
            },
            "colorscale": [
             [
              0,
              "#0d0887"
             ],
             [
              0.1111111111111111,
              "#46039f"
             ],
             [
              0.2222222222222222,
              "#7201a8"
             ],
             [
              0.3333333333333333,
              "#9c179e"
             ],
             [
              0.4444444444444444,
              "#bd3786"
             ],
             [
              0.5555555555555556,
              "#d8576b"
             ],
             [
              0.6666666666666666,
              "#ed7953"
             ],
             [
              0.7777777777777778,
              "#fb9f3a"
             ],
             [
              0.8888888888888888,
              "#fdca26"
             ],
             [
              1,
              "#f0f921"
             ]
            ],
            "type": "contour"
           }
          ],
          "contourcarpet": [
           {
            "colorbar": {
             "outlinewidth": 0,
             "ticks": ""
            },
            "type": "contourcarpet"
           }
          ],
          "heatmap": [
           {
            "colorbar": {
             "outlinewidth": 0,
             "ticks": ""
            },
            "colorscale": [
             [
              0,
              "#0d0887"
             ],
             [
              0.1111111111111111,
              "#46039f"
             ],
             [
              0.2222222222222222,
              "#7201a8"
             ],
             [
              0.3333333333333333,
              "#9c179e"
             ],
             [
              0.4444444444444444,
              "#bd3786"
             ],
             [
              0.5555555555555556,
              "#d8576b"
             ],
             [
              0.6666666666666666,
              "#ed7953"
             ],
             [
              0.7777777777777778,
              "#fb9f3a"
             ],
             [
              0.8888888888888888,
              "#fdca26"
             ],
             [
              1,
              "#f0f921"
             ]
            ],
            "type": "heatmap"
           }
          ],
          "heatmapgl": [
           {
            "colorbar": {
             "outlinewidth": 0,
             "ticks": ""
            },
            "colorscale": [
             [
              0,
              "#0d0887"
             ],
             [
              0.1111111111111111,
              "#46039f"
             ],
             [
              0.2222222222222222,
              "#7201a8"
             ],
             [
              0.3333333333333333,
              "#9c179e"
             ],
             [
              0.4444444444444444,
              "#bd3786"
             ],
             [
              0.5555555555555556,
              "#d8576b"
             ],
             [
              0.6666666666666666,
              "#ed7953"
             ],
             [
              0.7777777777777778,
              "#fb9f3a"
             ],
             [
              0.8888888888888888,
              "#fdca26"
             ],
             [
              1,
              "#f0f921"
             ]
            ],
            "type": "heatmapgl"
           }
          ],
          "histogram": [
           {
            "marker": {
             "pattern": {
              "fillmode": "overlay",
              "size": 10,
              "solidity": 0.2
             }
            },
            "type": "histogram"
           }
          ],
          "histogram2d": [
           {
            "colorbar": {
             "outlinewidth": 0,
             "ticks": ""
            },
            "colorscale": [
             [
              0,
              "#0d0887"
             ],
             [
              0.1111111111111111,
              "#46039f"
             ],
             [
              0.2222222222222222,
              "#7201a8"
             ],
             [
              0.3333333333333333,
              "#9c179e"
             ],
             [
              0.4444444444444444,
              "#bd3786"
             ],
             [
              0.5555555555555556,
              "#d8576b"
             ],
             [
              0.6666666666666666,
              "#ed7953"
             ],
             [
              0.7777777777777778,
              "#fb9f3a"
             ],
             [
              0.8888888888888888,
              "#fdca26"
             ],
             [
              1,
              "#f0f921"
             ]
            ],
            "type": "histogram2d"
           }
          ],
          "histogram2dcontour": [
           {
            "colorbar": {
             "outlinewidth": 0,
             "ticks": ""
            },
            "colorscale": [
             [
              0,
              "#0d0887"
             ],
             [
              0.1111111111111111,
              "#46039f"
             ],
             [
              0.2222222222222222,
              "#7201a8"
             ],
             [
              0.3333333333333333,
              "#9c179e"
             ],
             [
              0.4444444444444444,
              "#bd3786"
             ],
             [
              0.5555555555555556,
              "#d8576b"
             ],
             [
              0.6666666666666666,
              "#ed7953"
             ],
             [
              0.7777777777777778,
              "#fb9f3a"
             ],
             [
              0.8888888888888888,
              "#fdca26"
             ],
             [
              1,
              "#f0f921"
             ]
            ],
            "type": "histogram2dcontour"
           }
          ],
          "mesh3d": [
           {
            "colorbar": {
             "outlinewidth": 0,
             "ticks": ""
            },
            "type": "mesh3d"
           }
          ],
          "parcoords": [
           {
            "line": {
             "colorbar": {
              "outlinewidth": 0,
              "ticks": ""
             }
            },
            "type": "parcoords"
           }
          ],
          "pie": [
           {
            "automargin": true,
            "type": "pie"
           }
          ],
          "scatter": [
           {
            "fillpattern": {
             "fillmode": "overlay",
             "size": 10,
             "solidity": 0.2
            },
            "type": "scatter"
           }
          ],
          "scatter3d": [
           {
            "line": {
             "colorbar": {
              "outlinewidth": 0,
              "ticks": ""
             }
            },
            "marker": {
             "colorbar": {
              "outlinewidth": 0,
              "ticks": ""
             }
            },
            "type": "scatter3d"
           }
          ],
          "scattercarpet": [
           {
            "marker": {
             "colorbar": {
              "outlinewidth": 0,
              "ticks": ""
             }
            },
            "type": "scattercarpet"
           }
          ],
          "scattergeo": [
           {
            "marker": {
             "colorbar": {
              "outlinewidth": 0,
              "ticks": ""
             }
            },
            "type": "scattergeo"
           }
          ],
          "scattergl": [
           {
            "marker": {
             "colorbar": {
              "outlinewidth": 0,
              "ticks": ""
             }
            },
            "type": "scattergl"
           }
          ],
          "scattermapbox": [
           {
            "marker": {
             "colorbar": {
              "outlinewidth": 0,
              "ticks": ""
             }
            },
            "type": "scattermapbox"
           }
          ],
          "scatterpolar": [
           {
            "marker": {
             "colorbar": {
              "outlinewidth": 0,
              "ticks": ""
             }
            },
            "type": "scatterpolar"
           }
          ],
          "scatterpolargl": [
           {
            "marker": {
             "colorbar": {
              "outlinewidth": 0,
              "ticks": ""
             }
            },
            "type": "scatterpolargl"
           }
          ],
          "scatterternary": [
           {
            "marker": {
             "colorbar": {
              "outlinewidth": 0,
              "ticks": ""
             }
            },
            "type": "scatterternary"
           }
          ],
          "surface": [
           {
            "colorbar": {
             "outlinewidth": 0,
             "ticks": ""
            },
            "colorscale": [
             [
              0,
              "#0d0887"
             ],
             [
              0.1111111111111111,
              "#46039f"
             ],
             [
              0.2222222222222222,
              "#7201a8"
             ],
             [
              0.3333333333333333,
              "#9c179e"
             ],
             [
              0.4444444444444444,
              "#bd3786"
             ],
             [
              0.5555555555555556,
              "#d8576b"
             ],
             [
              0.6666666666666666,
              "#ed7953"
             ],
             [
              0.7777777777777778,
              "#fb9f3a"
             ],
             [
              0.8888888888888888,
              "#fdca26"
             ],
             [
              1,
              "#f0f921"
             ]
            ],
            "type": "surface"
           }
          ],
          "table": [
           {
            "cells": {
             "fill": {
              "color": "#EBF0F8"
             },
             "line": {
              "color": "white"
             }
            },
            "header": {
             "fill": {
              "color": "#C8D4E3"
             },
             "line": {
              "color": "white"
             }
            },
            "type": "table"
           }
          ]
         },
         "layout": {
          "annotationdefaults": {
           "arrowcolor": "#2a3f5f",
           "arrowhead": 0,
           "arrowwidth": 1
          },
          "autotypenumbers": "strict",
          "coloraxis": {
           "colorbar": {
            "outlinewidth": 0,
            "ticks": ""
           }
          },
          "colorscale": {
           "diverging": [
            [
             0,
             "#8e0152"
            ],
            [
             0.1,
             "#c51b7d"
            ],
            [
             0.2,
             "#de77ae"
            ],
            [
             0.3,
             "#f1b6da"
            ],
            [
             0.4,
             "#fde0ef"
            ],
            [
             0.5,
             "#f7f7f7"
            ],
            [
             0.6,
             "#e6f5d0"
            ],
            [
             0.7,
             "#b8e186"
            ],
            [
             0.8,
             "#7fbc41"
            ],
            [
             0.9,
             "#4d9221"
            ],
            [
             1,
             "#276419"
            ]
           ],
           "sequential": [
            [
             0,
             "#0d0887"
            ],
            [
             0.1111111111111111,
             "#46039f"
            ],
            [
             0.2222222222222222,
             "#7201a8"
            ],
            [
             0.3333333333333333,
             "#9c179e"
            ],
            [
             0.4444444444444444,
             "#bd3786"
            ],
            [
             0.5555555555555556,
             "#d8576b"
            ],
            [
             0.6666666666666666,
             "#ed7953"
            ],
            [
             0.7777777777777778,
             "#fb9f3a"
            ],
            [
             0.8888888888888888,
             "#fdca26"
            ],
            [
             1,
             "#f0f921"
            ]
           ],
           "sequentialminus": [
            [
             0,
             "#0d0887"
            ],
            [
             0.1111111111111111,
             "#46039f"
            ],
            [
             0.2222222222222222,
             "#7201a8"
            ],
            [
             0.3333333333333333,
             "#9c179e"
            ],
            [
             0.4444444444444444,
             "#bd3786"
            ],
            [
             0.5555555555555556,
             "#d8576b"
            ],
            [
             0.6666666666666666,
             "#ed7953"
            ],
            [
             0.7777777777777778,
             "#fb9f3a"
            ],
            [
             0.8888888888888888,
             "#fdca26"
            ],
            [
             1,
             "#f0f921"
            ]
           ]
          },
          "colorway": [
           "#636efa",
           "#EF553B",
           "#00cc96",
           "#ab63fa",
           "#FFA15A",
           "#19d3f3",
           "#FF6692",
           "#B6E880",
           "#FF97FF",
           "#FECB52"
          ],
          "font": {
           "color": "#2a3f5f"
          },
          "geo": {
           "bgcolor": "white",
           "lakecolor": "white",
           "landcolor": "#E5ECF6",
           "showlakes": true,
           "showland": true,
           "subunitcolor": "white"
          },
          "hoverlabel": {
           "align": "left"
          },
          "hovermode": "closest",
          "mapbox": {
           "style": "light"
          },
          "paper_bgcolor": "white",
          "plot_bgcolor": "#E5ECF6",
          "polar": {
           "angularaxis": {
            "gridcolor": "white",
            "linecolor": "white",
            "ticks": ""
           },
           "bgcolor": "#E5ECF6",
           "radialaxis": {
            "gridcolor": "white",
            "linecolor": "white",
            "ticks": ""
           }
          },
          "scene": {
           "xaxis": {
            "backgroundcolor": "#E5ECF6",
            "gridcolor": "white",
            "gridwidth": 2,
            "linecolor": "white",
            "showbackground": true,
            "ticks": "",
            "zerolinecolor": "white"
           },
           "yaxis": {
            "backgroundcolor": "#E5ECF6",
            "gridcolor": "white",
            "gridwidth": 2,
            "linecolor": "white",
            "showbackground": true,
            "ticks": "",
            "zerolinecolor": "white"
           },
           "zaxis": {
            "backgroundcolor": "#E5ECF6",
            "gridcolor": "white",
            "gridwidth": 2,
            "linecolor": "white",
            "showbackground": true,
            "ticks": "",
            "zerolinecolor": "white"
           }
          },
          "shapedefaults": {
           "line": {
            "color": "#2a3f5f"
           }
          },
          "ternary": {
           "aaxis": {
            "gridcolor": "white",
            "linecolor": "white",
            "ticks": ""
           },
           "baxis": {
            "gridcolor": "white",
            "linecolor": "white",
            "ticks": ""
           },
           "bgcolor": "#E5ECF6",
           "caxis": {
            "gridcolor": "white",
            "linecolor": "white",
            "ticks": ""
           }
          },
          "title": {
           "x": 0.05
          },
          "xaxis": {
           "automargin": true,
           "gridcolor": "white",
           "linecolor": "white",
           "ticks": "",
           "title": {
            "standoff": 15
           },
           "zerolinecolor": "white",
           "zerolinewidth": 2
          },
          "yaxis": {
           "automargin": true,
           "gridcolor": "white",
           "linecolor": "white",
           "ticks": "",
           "title": {
            "standoff": 15
           },
           "zerolinecolor": "white",
           "zerolinewidth": 2
          }
         }
        },
        "title": {
         "text": "Gross job for the total private sector in the U.S."
        },
        "xaxis": {
         "anchor": "y",
         "domain": [
          0,
          1
         ],
         "title": {
          "text": "Year"
         }
        },
        "yaxis": {
         "anchor": "x",
         "domain": [
          0,
          1
         ],
         "title": {
          "text": "Number of Jobs"
         }
        }
       }
      },
      "text/html": [
       "<div>                            <div id=\"459f491d-9b9d-4383-b5a2-4ee880312f78\" class=\"plotly-graph-div\" style=\"height:525px; width:100%;\"></div>            <script type=\"text/javascript\">                require([\"plotly\"], function(Plotly) {                    window.PLOTLYENV=window.PLOTLYENV || {};                                    if (document.getElementById(\"459f491d-9b9d-4383-b5a2-4ee880312f78\")) {                    Plotly.newPlot(                        \"459f491d-9b9d-4383-b5a2-4ee880312f78\",                        [{\"hovertemplate\":\"Year=%{x}<br>Value=%{y:.0f}<extra></extra>\",\"legendgroup\":\"Gross Job Gains\",\"line\":{\"color\":\"#636efa\",\"dash\":\"solid\"},\"marker\":{\"symbol\":\"circle\"},\"mode\":\"lines+markers\",\"name\":\"Gross Job Gains\",\"orientation\":\"v\",\"showlegend\":true,\"x\":[\"2010\",\"2011\",\"2012\",\"2013\",\"2014\",\"2015\",\"2016\",\"2017\",\"2018\",\"2019\",\"2020\",\"2021\",\"2022\"],\"xaxis\":\"x\",\"y\":[27113,27576,28122,28406,29271,29787,29729,30166,30394,30346,32425,34980,16691],\"yaxis\":\"y\",\"type\":\"scatter\"},{\"hovertemplate\":\"Year=%{x}<br>Value=%{y:.0f}<extra></extra>\",\"legendgroup\":\"Gross Job Losses\",\"line\":{\"color\":\"#EF553B\",\"dash\":\"solid\"},\"marker\":{\"symbol\":\"circle\"},\"mode\":\"lines+markers\",\"name\":\"Gross Job Losses\",\"orientation\":\"v\",\"showlegend\":true,\"x\":[\"2010\",\"2011\",\"2012\",\"2013\",\"2014\",\"2015\",\"2016\",\"2017\",\"2018\",\"2019\",\"2020\",\"2021\",\"2022\"],\"xaxis\":\"x\",\"y\":[25859,25484,25611,25967,26342,27303,28106,28145,28402,28788,41800,27868,15433],\"yaxis\":\"y\",\"type\":\"scatter\"}],                        {\"template\":{\"data\":{\"histogram2dcontour\":[{\"type\":\"histogram2dcontour\",\"colorbar\":{\"outlinewidth\":0,\"ticks\":\"\"},\"colorscale\":[[0.0,\"#0d0887\"],[0.1111111111111111,\"#46039f\"],[0.2222222222222222,\"#7201a8\"],[0.3333333333333333,\"#9c179e\"],[0.4444444444444444,\"#bd3786\"],[0.5555555555555556,\"#d8576b\"],[0.6666666666666666,\"#ed7953\"],[0.7777777777777778,\"#fb9f3a\"],[0.8888888888888888,\"#fdca26\"],[1.0,\"#f0f921\"]]}],\"choropleth\":[{\"type\":\"choropleth\",\"colorbar\":{\"outlinewidth\":0,\"ticks\":\"\"}}],\"histogram2d\":[{\"type\":\"histogram2d\",\"colorbar\":{\"outlinewidth\":0,\"ticks\":\"\"},\"colorscale\":[[0.0,\"#0d0887\"],[0.1111111111111111,\"#46039f\"],[0.2222222222222222,\"#7201a8\"],[0.3333333333333333,\"#9c179e\"],[0.4444444444444444,\"#bd3786\"],[0.5555555555555556,\"#d8576b\"],[0.6666666666666666,\"#ed7953\"],[0.7777777777777778,\"#fb9f3a\"],[0.8888888888888888,\"#fdca26\"],[1.0,\"#f0f921\"]]}],\"heatmap\":[{\"type\":\"heatmap\",\"colorbar\":{\"outlinewidth\":0,\"ticks\":\"\"},\"colorscale\":[[0.0,\"#0d0887\"],[0.1111111111111111,\"#46039f\"],[0.2222222222222222,\"#7201a8\"],[0.3333333333333333,\"#9c179e\"],[0.4444444444444444,\"#bd3786\"],[0.5555555555555556,\"#d8576b\"],[0.6666666666666666,\"#ed7953\"],[0.7777777777777778,\"#fb9f3a\"],[0.8888888888888888,\"#fdca26\"],[1.0,\"#f0f921\"]]}],\"heatmapgl\":[{\"type\":\"heatmapgl\",\"colorbar\":{\"outlinewidth\":0,\"ticks\":\"\"},\"colorscale\":[[0.0,\"#0d0887\"],[0.1111111111111111,\"#46039f\"],[0.2222222222222222,\"#7201a8\"],[0.3333333333333333,\"#9c179e\"],[0.4444444444444444,\"#bd3786\"],[0.5555555555555556,\"#d8576b\"],[0.6666666666666666,\"#ed7953\"],[0.7777777777777778,\"#fb9f3a\"],[0.8888888888888888,\"#fdca26\"],[1.0,\"#f0f921\"]]}],\"contourcarpet\":[{\"type\":\"contourcarpet\",\"colorbar\":{\"outlinewidth\":0,\"ticks\":\"\"}}],\"contour\":[{\"type\":\"contour\",\"colorbar\":{\"outlinewidth\":0,\"ticks\":\"\"},\"colorscale\":[[0.0,\"#0d0887\"],[0.1111111111111111,\"#46039f\"],[0.2222222222222222,\"#7201a8\"],[0.3333333333333333,\"#9c179e\"],[0.4444444444444444,\"#bd3786\"],[0.5555555555555556,\"#d8576b\"],[0.6666666666666666,\"#ed7953\"],[0.7777777777777778,\"#fb9f3a\"],[0.8888888888888888,\"#fdca26\"],[1.0,\"#f0f921\"]]}],\"surface\":[{\"type\":\"surface\",\"colorbar\":{\"outlinewidth\":0,\"ticks\":\"\"},\"colorscale\":[[0.0,\"#0d0887\"],[0.1111111111111111,\"#46039f\"],[0.2222222222222222,\"#7201a8\"],[0.3333333333333333,\"#9c179e\"],[0.4444444444444444,\"#bd3786\"],[0.5555555555555556,\"#d8576b\"],[0.6666666666666666,\"#ed7953\"],[0.7777777777777778,\"#fb9f3a\"],[0.8888888888888888,\"#fdca26\"],[1.0,\"#f0f921\"]]}],\"mesh3d\":[{\"type\":\"mesh3d\",\"colorbar\":{\"outlinewidth\":0,\"ticks\":\"\"}}],\"scatter\":[{\"fillpattern\":{\"fillmode\":\"overlay\",\"size\":10,\"solidity\":0.2},\"type\":\"scatter\"}],\"parcoords\":[{\"type\":\"parcoords\",\"line\":{\"colorbar\":{\"outlinewidth\":0,\"ticks\":\"\"}}}],\"scatterpolargl\":[{\"type\":\"scatterpolargl\",\"marker\":{\"colorbar\":{\"outlinewidth\":0,\"ticks\":\"\"}}}],\"bar\":[{\"error_x\":{\"color\":\"#2a3f5f\"},\"error_y\":{\"color\":\"#2a3f5f\"},\"marker\":{\"line\":{\"color\":\"#E5ECF6\",\"width\":0.5},\"pattern\":{\"fillmode\":\"overlay\",\"size\":10,\"solidity\":0.2}},\"type\":\"bar\"}],\"scattergeo\":[{\"type\":\"scattergeo\",\"marker\":{\"colorbar\":{\"outlinewidth\":0,\"ticks\":\"\"}}}],\"scatterpolar\":[{\"type\":\"scatterpolar\",\"marker\":{\"colorbar\":{\"outlinewidth\":0,\"ticks\":\"\"}}}],\"histogram\":[{\"marker\":{\"pattern\":{\"fillmode\":\"overlay\",\"size\":10,\"solidity\":0.2}},\"type\":\"histogram\"}],\"scattergl\":[{\"type\":\"scattergl\",\"marker\":{\"colorbar\":{\"outlinewidth\":0,\"ticks\":\"\"}}}],\"scatter3d\":[{\"type\":\"scatter3d\",\"line\":{\"colorbar\":{\"outlinewidth\":0,\"ticks\":\"\"}},\"marker\":{\"colorbar\":{\"outlinewidth\":0,\"ticks\":\"\"}}}],\"scattermapbox\":[{\"type\":\"scattermapbox\",\"marker\":{\"colorbar\":{\"outlinewidth\":0,\"ticks\":\"\"}}}],\"scatterternary\":[{\"type\":\"scatterternary\",\"marker\":{\"colorbar\":{\"outlinewidth\":0,\"ticks\":\"\"}}}],\"scattercarpet\":[{\"type\":\"scattercarpet\",\"marker\":{\"colorbar\":{\"outlinewidth\":0,\"ticks\":\"\"}}}],\"carpet\":[{\"aaxis\":{\"endlinecolor\":\"#2a3f5f\",\"gridcolor\":\"white\",\"linecolor\":\"white\",\"minorgridcolor\":\"white\",\"startlinecolor\":\"#2a3f5f\"},\"baxis\":{\"endlinecolor\":\"#2a3f5f\",\"gridcolor\":\"white\",\"linecolor\":\"white\",\"minorgridcolor\":\"white\",\"startlinecolor\":\"#2a3f5f\"},\"type\":\"carpet\"}],\"table\":[{\"cells\":{\"fill\":{\"color\":\"#EBF0F8\"},\"line\":{\"color\":\"white\"}},\"header\":{\"fill\":{\"color\":\"#C8D4E3\"},\"line\":{\"color\":\"white\"}},\"type\":\"table\"}],\"barpolar\":[{\"marker\":{\"line\":{\"color\":\"#E5ECF6\",\"width\":0.5},\"pattern\":{\"fillmode\":\"overlay\",\"size\":10,\"solidity\":0.2}},\"type\":\"barpolar\"}],\"pie\":[{\"automargin\":true,\"type\":\"pie\"}]},\"layout\":{\"autotypenumbers\":\"strict\",\"colorway\":[\"#636efa\",\"#EF553B\",\"#00cc96\",\"#ab63fa\",\"#FFA15A\",\"#19d3f3\",\"#FF6692\",\"#B6E880\",\"#FF97FF\",\"#FECB52\"],\"font\":{\"color\":\"#2a3f5f\"},\"hovermode\":\"closest\",\"hoverlabel\":{\"align\":\"left\"},\"paper_bgcolor\":\"white\",\"plot_bgcolor\":\"#E5ECF6\",\"polar\":{\"bgcolor\":\"#E5ECF6\",\"angularaxis\":{\"gridcolor\":\"white\",\"linecolor\":\"white\",\"ticks\":\"\"},\"radialaxis\":{\"gridcolor\":\"white\",\"linecolor\":\"white\",\"ticks\":\"\"}},\"ternary\":{\"bgcolor\":\"#E5ECF6\",\"aaxis\":{\"gridcolor\":\"white\",\"linecolor\":\"white\",\"ticks\":\"\"},\"baxis\":{\"gridcolor\":\"white\",\"linecolor\":\"white\",\"ticks\":\"\"},\"caxis\":{\"gridcolor\":\"white\",\"linecolor\":\"white\",\"ticks\":\"\"}},\"coloraxis\":{\"colorbar\":{\"outlinewidth\":0,\"ticks\":\"\"}},\"colorscale\":{\"sequential\":[[0.0,\"#0d0887\"],[0.1111111111111111,\"#46039f\"],[0.2222222222222222,\"#7201a8\"],[0.3333333333333333,\"#9c179e\"],[0.4444444444444444,\"#bd3786\"],[0.5555555555555556,\"#d8576b\"],[0.6666666666666666,\"#ed7953\"],[0.7777777777777778,\"#fb9f3a\"],[0.8888888888888888,\"#fdca26\"],[1.0,\"#f0f921\"]],\"sequentialminus\":[[0.0,\"#0d0887\"],[0.1111111111111111,\"#46039f\"],[0.2222222222222222,\"#7201a8\"],[0.3333333333333333,\"#9c179e\"],[0.4444444444444444,\"#bd3786\"],[0.5555555555555556,\"#d8576b\"],[0.6666666666666666,\"#ed7953\"],[0.7777777777777778,\"#fb9f3a\"],[0.8888888888888888,\"#fdca26\"],[1.0,\"#f0f921\"]],\"diverging\":[[0,\"#8e0152\"],[0.1,\"#c51b7d\"],[0.2,\"#de77ae\"],[0.3,\"#f1b6da\"],[0.4,\"#fde0ef\"],[0.5,\"#f7f7f7\"],[0.6,\"#e6f5d0\"],[0.7,\"#b8e186\"],[0.8,\"#7fbc41\"],[0.9,\"#4d9221\"],[1,\"#276419\"]]},\"xaxis\":{\"gridcolor\":\"white\",\"linecolor\":\"white\",\"ticks\":\"\",\"title\":{\"standoff\":15},\"zerolinecolor\":\"white\",\"automargin\":true,\"zerolinewidth\":2},\"yaxis\":{\"gridcolor\":\"white\",\"linecolor\":\"white\",\"ticks\":\"\",\"title\":{\"standoff\":15},\"zerolinecolor\":\"white\",\"automargin\":true,\"zerolinewidth\":2},\"scene\":{\"xaxis\":{\"backgroundcolor\":\"#E5ECF6\",\"gridcolor\":\"white\",\"linecolor\":\"white\",\"showbackground\":true,\"ticks\":\"\",\"zerolinecolor\":\"white\",\"gridwidth\":2},\"yaxis\":{\"backgroundcolor\":\"#E5ECF6\",\"gridcolor\":\"white\",\"linecolor\":\"white\",\"showbackground\":true,\"ticks\":\"\",\"zerolinecolor\":\"white\",\"gridwidth\":2},\"zaxis\":{\"backgroundcolor\":\"#E5ECF6\",\"gridcolor\":\"white\",\"linecolor\":\"white\",\"showbackground\":true,\"ticks\":\"\",\"zerolinecolor\":\"white\",\"gridwidth\":2}},\"shapedefaults\":{\"line\":{\"color\":\"#2a3f5f\"}},\"annotationdefaults\":{\"arrowcolor\":\"#2a3f5f\",\"arrowhead\":0,\"arrowwidth\":1},\"geo\":{\"bgcolor\":\"white\",\"landcolor\":\"#E5ECF6\",\"subunitcolor\":\"white\",\"showland\":true,\"showlakes\":true,\"lakecolor\":\"white\"},\"title\":{\"x\":0.05},\"mapbox\":{\"style\":\"light\"}}},\"xaxis\":{\"anchor\":\"y\",\"domain\":[0.0,1.0],\"title\":{\"text\":\"Year\"}},\"yaxis\":{\"anchor\":\"x\",\"domain\":[0.0,1.0],\"title\":{\"text\":\"Number of Jobs\"}},\"legend\":{\"title\":{\"text\":\"variable\"},\"tracegroupgap\":0},\"margin\":{\"t\":60},\"title\":{\"text\":\"Gross job for the total private sector in the U.S.\"},\"hovermode\":\"x\"},                        {\"responsive\": true}                    ).then(function(){\n",
       "                            \n",
       "var gd = document.getElementById('459f491d-9b9d-4383-b5a2-4ee880312f78');\n",
       "var x = new MutationObserver(function (mutations, observer) {{\n",
       "        var display = window.getComputedStyle(gd).display;\n",
       "        if (!display || display === 'none') {{\n",
       "            console.log([gd, 'removed!']);\n",
       "            Plotly.purge(gd);\n",
       "            observer.disconnect();\n",
       "        }}\n",
       "}});\n",
       "\n",
       "// Listen for the removal of the full notebook cells\n",
       "var notebookContainer = gd.closest('#notebook-container');\n",
       "if (notebookContainer) {{\n",
       "    x.observe(notebookContainer, {childList: true});\n",
       "}}\n",
       "\n",
       "// Listen for the clearing of the current output cell\n",
       "var outputEl = gd.closest('.output');\n",
       "if (outputEl) {{\n",
       "    x.observe(outputEl, {childList: true});\n",
       "}}\n",
       "\n",
       "                        })                };                });            </script>        </div>"
      ]
     },
     "metadata": {},
     "output_type": "display_data"
    }
   ],
   "source": [
    "#https://data.bls.gov/timeseries/CUSR0000SA0&output_view=pct_1mth\n",
    "    \n",
    "fig_infl = px.line(new_bed_df_pivot, x='year', y=['Gross Job Gains', 'Gross Job Losses'])\n",
    "fig_infl.update_traces(mode='lines+markers', hovertemplate='Year=%{x}<br>Value=%{y:.0f}<extra></extra>')\n",
    "fig_infl.update_layout(title='Gross job for the total private sector in the U.S.',\n",
    "                  xaxis_title='Year', yaxis_title='Number of Jobs', hovermode='x')\n",
    "pio.write_html(fig_infl, file='fig_infl_plot.html', auto_open=True)\n",
    "fig_infl.show()"
   ]
  },
  {
   "cell_type": "code",
   "execution_count": null,
   "id": "25978ab4",
   "metadata": {},
   "outputs": [],
   "source": []
  }
 ],
 "metadata": {
  "kernelspec": {
   "display_name": "Python 3 (ipykernel)",
   "language": "python",
   "name": "python3"
  },
  "language_info": {
   "codemirror_mode": {
    "name": "ipython",
    "version": 3
   },
   "file_extension": ".py",
   "mimetype": "text/x-python",
   "name": "python",
   "nbconvert_exporter": "python",
   "pygments_lexer": "ipython3",
   "version": "3.9.13"
  }
 },
 "nbformat": 4,
 "nbformat_minor": 5
}
