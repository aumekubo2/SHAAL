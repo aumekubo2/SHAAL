{
 "cells": [
  {
   "cell_type": "code",
   "execution_count": 1,
   "id": "bf7f1f35",
   "metadata": {},
   "outputs": [],
   "source": [
    "import pandas as pd\n",
    "import ipywidgets as widgets"
   ]
  },
  {
   "cell_type": "code",
   "execution_count": 2,
   "id": "62bd7d92",
   "metadata": {},
   "outputs": [],
   "source": [
    "#read_CSV - https://data.bls.gov/projections/occupationProj\n",
    "empl_proj_df = pd.read_csv(\"Employment Projections.csv\")\n"
   ]
  },
  {
   "cell_type": "code",
   "execution_count": 3,
   "id": "1ace9252",
   "metadata": {},
   "outputs": [],
   "source": [
    "new_proj_df = empl_proj_df[['Occupation Title',\n",
    "                            'Employment 2021',\n",
    "                            'Employment 2031',\n",
    "                            'Employment Change, 2021-2031',\n",
    "                            'Employment Percent Change, 2021-2031',\n",
    "                            'Median Annual Wage 2021',\n",
    "                            'Typical Entry-Level Education']]\n"
   ]
  },
  {
   "cell_type": "code",
   "execution_count": 4,
   "id": "413ab21f",
   "metadata": {},
   "outputs": [
    {
     "data": {
      "application/vnd.jupyter.widget-view+json": {
       "model_id": "394eb377be8c4c1087fadaa5b4d52dde",
       "version_major": 2,
       "version_minor": 0
      },
      "text/plain": [
       "Text(value='', placeholder='Search by occupation title')"
      ]
     },
     "metadata": {},
     "output_type": "display_data"
    },
    {
     "data": {
      "application/vnd.jupyter.widget-view+json": {
       "model_id": "e64ce2b934a546bbb0529b8a373721e4",
       "version_major": 2,
       "version_minor": 0
      },
      "text/plain": [
       "HTML(value='<table border=\"1\" class=\"dataframe\">\\n  <thead>\\n    <tr style=\"text-align: right;\">\\n      <th>Oc…"
      ]
     },
     "metadata": {},
     "output_type": "display_data"
    }
   ],
   "source": [
    "# Load the project data\n",
    "#new_proj_df = pd.read_csv(\"Employment Projections.csv\")\n",
    "\n",
    "# Define the function to update the table based on the user input\n",
    "def update_table(change):\n",
    "    value = change['new']\n",
    "    print(f\"Filtering by value: {value}\")\n",
    "    filtered = new_proj_df[new_proj_df['Occupation Title'].str.contains(value, case=False)]\n",
    "    print(filtered.head()) # print the first 5 rows of the filtered DataFrame for debugging\n",
    "    table_html = filtered.to_html(index=False)\n",
    "    table.value = table_html\n",
    "\n",
    "# Create a text box for the user input\n",
    "search_box = widgets.Text(placeholder='Search by occupation title')\n",
    "\n",
    "# Call the update_table function when the user input changes\n",
    "search_box.observe(update_table, names='value')\n",
    "\n",
    "# Decrease font size of table rows and columns\n",
    "styles = [\n",
    "    dict(selector='th', props=[('font-size', '5pt')]),\n",
    "    dict(selector='td', props=[('font-size', '8pt')]),\n",
    "]\n",
    "\n",
    "                                                 \n",
    "# Create the initial table\n",
    "table_html = new_proj_df.to_html(index=False)\n",
    "table = widgets.HTML(value=table_html)\n",
    "\n",
    "# Display the search box and the table\n",
    "display(search_box)\n",
    "display(table)\n"
   ]
  },
  {
   "cell_type": "code",
   "execution_count": null,
   "id": "561701f6",
   "metadata": {},
   "outputs": [],
   "source": []
  },
  {
   "cell_type": "code",
   "execution_count": null,
   "id": "2de8b377",
   "metadata": {},
   "outputs": [],
   "source": []
  }
 ],
 "metadata": {
  "kernelspec": {
   "display_name": "Python 3 (ipykernel)",
   "language": "python",
   "name": "python3"
  },
  "language_info": {
   "codemirror_mode": {
    "name": "ipython",
    "version": 3
   },
   "file_extension": ".py",
   "mimetype": "text/x-python",
   "name": "python",
   "nbconvert_exporter": "python",
   "pygments_lexer": "ipython3",
   "version": "3.9.13"
  }
 },
 "nbformat": 4,
 "nbformat_minor": 5
}
