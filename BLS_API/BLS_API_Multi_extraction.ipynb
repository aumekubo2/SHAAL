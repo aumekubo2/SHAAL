{
 "cells": [
  {
   "cell_type": "code",
   "execution_count": null,
   "id": "77cdb561",
   "metadata": {},
   "outputs": [],
   "source": [
    "# CEU0000000001 #National Employment (Employees in Thousands)\n",
    "# BDS0000000000000000110104RQ5 #Gross Job Losses (Rate)\n",
    "# JTU000000000000000LDR #Layoffs and discharges rate in total nonfarm jobs (Rate) (doesn't work and don't need it)\n",
    "# CUUR0000SA0 # Consumer Price Index for all items"
   ]
  },
  {
   "cell_type": "code",
   "execution_count": 2,
   "id": "933a3b32",
   "metadata": {},
   "outputs": [],
   "source": [
    "import pandas as pd\n",
    "import requests\n",
    "import json\n",
    "from pprint import pprint\n",
    "from prettytable import PrettyTable\n",
    "from tqdm import tqdm\n",
    "import matplotlib.pyplot as plt\n",
    "from config import api_key_bls\n",
    "\n",
    "url = 'https://api.bls.gov/publicAPI/v2/timeseries/data/'\n",
    "key = \"?registrationkey-{}\".format(api_key_bls)"
   ]
  },
  {
   "cell_type": "code",
   "execution_count": 3,
   "id": "ebb275b8",
   "metadata": {},
   "outputs": [],
   "source": [
    "#series\n",
    "headers = {'Content-type': 'application/json'} #contains info about the message- such as destination\n",
    "# Submit the list of series as data - payload actual data being transmitted over a network\n",
    "data = json.dumps({\"seriesid\": ['CEU0000000001',\n",
    "                                'BDS0000000000000000110104RQ5', \n",
    "                                'JTU000000000000000LDR', \n",
    "                                'CUUR0000SA0', \n",
    "                                'LNS14000000', #unemployment level\n",
    "                                'LNS13000000'], #labor force level\n",
    "                   'startyear':'2010', 'endyear':'2023',\n",
    "                   'catalog':True,\n",
    "                   'annualaverage':True,\n",
    "                   \"registrationkey\": api_key_bls}, indent=4)\n",
    "p = requests.post('https://api.bls.gov/publicAPI/v2/timeseries/data/', data=data, headers=headers)\n",
    "json_data = json.loads(p.text)"
   ]
  },
  {
   "cell_type": "code",
   "execution_count": 4,
   "id": "e5ec20b9",
   "metadata": {},
   "outputs": [
    {
     "name": "stdout",
     "output_type": "stream",
     "text": [
      "CEU0000000001\n",
      "BDS0000000000000000110104RQ5\n",
      "JTU000000000000000LDR\n",
      "CUUR0000SA0\n",
      "LNS14000000\n",
      "LNS13000000\n"
     ]
    }
   ],
   "source": [
    "list_columns= []\n",
    "for series in json_data['Results']['series']:\n",
    "#     x=pd.DataFrame(columns=[\"series title\",\"series id\",\"seasonality\",\"survey_name\",\"measure_data_type\",\"commerce_industy\",\"commerce_sector\",])\n",
    "    seriesId = series['seriesID']\n",
    "    print(seriesId)\n",
    "    if 'catalog' in series.keys():\n",
    "        seasonality = series['catalog']['seasonality']\n",
    "        survey_name = series['catalog']['survey_name']\n",
    "        measure_data_type = series['catalog']['measure_data_type']\n",
    "        if 'commerce_industry' in series['catalog'].keys():\n",
    "            commerce_industry = series['catalog']['commerce_industry']\n",
    "        else:\n",
    "            commerce_industry = None\n",
    "        if 'commerce_sector' in series['catalog'].keys():\n",
    "            commerce_sector = series['catalog']['commerce_sector']\n",
    "        else:\n",
    "            commerce_sector = None\n",
    "        if 'area' in series['catalog'].keys():\n",
    "            area = series['catalog']['area']\n",
    "        else:\n",
    "            area = None\n",
    "       \n",
    "    else:\n",
    "        seasonality = None\n",
    "        survey_name = None\n",
    "        measure_data_type = None\n",
    "        commerce_industry = None\n",
    "        commerce_sector = None\n",
    "        area= None\n",
    "    #add all variables & create a list to append to the list above\n",
    "    for item in series['data']:\n",
    "        year = item['year']\n",
    "        period = item['period']\n",
    "        periodName = item['periodName']\n",
    "        value = item['value']\n",
    "        list_columns.append([seriesId,seasonality,survey_name,measure_data_type,\n",
    "                             commerce_industry,commerce_sector,area,year,period,periodName,value])\n",
    "column= pd.DataFrame(list_columns,columns=['seriesId','seasonality','survey_name','measure_data_type',\n",
    "                             'commerce_industry','commerce_sector','area','year','period','periodName','value'])\n",
    "column.head()\n",
    "\n",
    "column.to_csv(\"BLS_Multiextract_1.csv\", index=False, encoding=\"ISO-8859-1\")\n",
    "#         footnotes=\"\"\n",
    "#         for footnote in item['footnotes']:\n",
    "#             if footnote:\n",
    "#                 footnotes = footnotes + footnote['text'] + ','\n",
    "#         if 'M01' <= period <= 'M12':\n",
    "#            x.add_row([seriesId,year,period,value,footnotes[0:-1]])\n",
    "#     output = open(seriesId + '.txt','w')\n",
    "#     output.write (x.get_string())\n",
    "#     output.close()"
   ]
  },
  {
   "cell_type": "code",
   "execution_count": null,
   "id": "c7b79191",
   "metadata": {},
   "outputs": [],
   "source": []
  }
 ],
 "metadata": {
  "kernelspec": {
   "display_name": "PythonData",
   "language": "python",
   "name": "pythondata"
  },
  "language_info": {
   "codemirror_mode": {
    "name": "ipython",
    "version": 3
   },
   "file_extension": ".py",
   "mimetype": "text/x-python",
   "name": "python",
   "nbconvert_exporter": "python",
   "pygments_lexer": "ipython3",
   "version": "3.7.7"
  }
 },
 "nbformat": 4,
 "nbformat_minor": 5
}
